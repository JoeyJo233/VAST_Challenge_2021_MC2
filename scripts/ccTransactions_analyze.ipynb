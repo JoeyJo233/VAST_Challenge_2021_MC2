{
 "cells": [
  {
   "cell_type": "code",
   "execution_count": 1,
   "metadata": {},
   "outputs": [
    {
     "name": "stdout",
     "output_type": "stream",
     "text": [
      "            timestamp             location  price  last4ccnum\n",
      "0 2014-01-06 07:28:00  Brew've Been Served  11.34        4795\n",
      "1 2014-01-06 07:34:00     Hallowed Grounds  52.22        7108\n",
      "2 2014-01-06 07:35:00  Brew've Been Served   8.33        6816\n",
      "3 2014-01-06 07:36:00     Hallowed Grounds  16.72        9617\n",
      "4 2014-01-06 07:37:00  Brew've Been Served   4.24        7384\n"
     ]
    }
   ],
   "source": [
    "# read data files\n",
    "import pandas as pd\n",
    "\n",
    "df = pd.read_csv('../data/cc_data.csv')\n",
    "df['timestamp'] = pd.to_datetime(df['timestamp'], format='%m/%d/%Y %H:%M')\n",
    "\n",
    "print(df.head())\n"
   ]
  },
  {
   "cell_type": "markdown",
   "metadata": {},
   "source": [
    "# Trying to find the same card with purchases at different locations in a short period of time"
   ]
  },
  {
   "cell_type": "code",
   "execution_count": 19,
   "metadata": {},
   "outputs": [
    {
     "name": "stdout",
     "output_type": "stream",
     "text": [
      "Credit Card Ending: 9551\n",
      "Initial Transaction Time: 2014-01-13 13:18:00\n",
      "Subsequent Transaction Time: 2014-01-13 13:28:00\n",
      "Initial Location: U-Pump\n",
      "Subsequent Location: Hippokampos\n",
      "\n",
      "Credit Card Ending: 9551\n",
      "Initial Transaction Time: 2014-01-13 19:20:00\n",
      "Subsequent Transaction Time: 2014-01-13 19:30:00\n",
      "Initial Location: Frydos Autosupply n' More\n",
      "Subsequent Location: Ouzeri Elian\n",
      "\n"
     ]
    }
   ],
   "source": [
    "df['timestamp'] = pd.to_datetime(df['timestamp'], format='%m/%d/%Y %H:%M')\n",
    "\n",
    "# sort by time\n",
    "df.sort_values(by=['last4ccnum', 'timestamp'], inplace=True)\n",
    "\n",
    "# define detection function\n",
    "def find_suspicious_transactions(data):\n",
    "    # interval window = 10mins\n",
    "    time_diff = pd.Timedelta(minutes=10)\n",
    "    suspicious_transactions = []\n",
    "\n",
    "    # group by card num\n",
    "    for card_num, group in data.groupby('last4ccnum'):\n",
    "        if len(group) > 1:  # only check when more than 1 \n",
    "            \n",
    "            for i in range(len(group) - 1):  \n",
    "                current_transaction = group.iloc[i]\n",
    "                \n",
    "                for j in range(i + 1, len(group)):\n",
    "                    subsequent_transaction = group.iloc[j]\n",
    "                    if (subsequent_transaction['timestamp'] - current_transaction['timestamp']) <= time_diff:\n",
    "                        if subsequent_transaction['location'] != current_transaction['location']:\n",
    "                            suspicious_transactions.append({\n",
    "                                'Credit Card Ending': card_num,\n",
    "                                'Initial Transaction Time': current_transaction['timestamp'],\n",
    "                                'Subsequent Transaction Time': subsequent_transaction['timestamp'],\n",
    "                                'Initial Location': current_transaction['location'],\n",
    "                                'Subsequent Location': subsequent_transaction['location']\n",
    "                            })\n",
    "                    else:\n",
    "                        break\n",
    "\n",
    "    return suspicious_transactions\n",
    "suspicious = find_suspicious_transactions(df)\n",
    "\n",
    "for trans in suspicious:\n",
    "    print(f\"Credit Card Ending: {trans['Credit Card Ending']}\")\n",
    "    print(f\"Initial Transaction Time: {trans['Initial Transaction Time']}\")\n",
    "    print(f\"Subsequent Transaction Time: {trans['Subsequent Transaction Time']}\")\n",
    "    print(f\"Initial Location: {trans['Initial Location']}\")\n",
    "    print(f\"Subsequent Location: {trans['Subsequent Location']}\\n\")\n"
   ]
  },
  {
   "cell_type": "code",
   "execution_count": 1,
   "metadata": {},
   "outputs": [
    {
     "name": "stdout",
     "output_type": "stream",
     "text": [
      "Mean price: 207.69653020134234\n",
      "Median price: 28.240000000000002\n",
      "Standard Deviation: 740.8554671870584\n",
      "Minimum price: 2.01\n",
      "Maximum price: 10000.0\n",
      "Quantiles:\n",
      "0.25    15.1275\n",
      "0.50    28.2400\n",
      "0.75    67.1775\n",
      "Name: price, dtype: float64\n"
     ]
    }
   ],
   "source": [
    "# Calculate descriptive statistics\n",
    "mean_price = df['price'].mean()\n",
    "median_price = df['price'].median()\n",
    "std_dev_price = df['price'].std()\n",
    "min_price = df['price'].min()\n",
    "max_price = df['price'].max()\n",
    "quantiles = df['price'].quantile([0.25, 0.5, 0.75])\n",
    "\n",
    "# Print the statistics\n",
    "print(f\"Mean price: {mean_price}\")\n",
    "print(f\"Median price: {median_price}\")\n",
    "print(f\"Standard Deviation: {std_dev_price}\")\n",
    "print(f\"Minimum price: {min_price}\")\n",
    "print(f\"Maximum price: {max_price}\")\n",
    "print(\"Quantiles:\")\n",
    "print(quantiles)\n"
   ]
  },
  {
   "cell_type": "markdown",
   "metadata": {},
   "source": [
    "# Trying to find unusual large transactions"
   ]
  },
  {
   "cell_type": "code",
   "execution_count": 6,
   "metadata": {},
   "outputs": [
    {
     "name": "stdout",
     "output_type": "stream",
     "text": [
      "             timestamp                      location     price  last4ccnum\n",
      "841   01/13/2014 19:20     Frydos Autosupply n' More  10000.00        9551\n",
      "309   01/08/2014 13:03         Carlyle Chemical Inc.   4983.52        4530\n",
      "966   01/14/2014 15:32                 Abila Airport   4918.39        8642\n",
      "352   01/08/2014 14:26         Carlyle Chemical Inc.   4901.88        7792\n",
      "220   01/07/2014 14:34         Carlyle Chemical Inc.   4803.13        7792\n",
      "437   01/09/2014 13:18                 Abila Airport   4792.50        2276\n",
      "1090  01/15/2014 15:11        Maximum Iron and Steel   4788.22        4530\n",
      "1160  01/16/2014 11:25           Nationwide Refinery   4742.67        7792\n",
      "1034  01/15/2014 11:44  Stewart and Sons Fabrication   4740.68        9735\n",
      "1033  01/15/2014 11:18  Stewart and Sons Fabrication   4545.38        9152\n"
     ]
    }
   ],
   "source": [
    "top_transactions = df.sort_values(by='price', ascending=False).head(10)\n",
    "\n",
    "# Print the top 10 transactions\n",
    "print(top_transactions)"
   ]
  },
  {
   "cell_type": "code",
   "execution_count": 5,
   "metadata": {},
   "outputs": [
    {
     "name": "stdout",
     "output_type": "stream",
     "text": [
      "             timestamp                      location     price  last4ccnum\n",
      "29    01/06/2014 08:23                 Abila Airport   4540.08        9220\n",
      "32    01/06/2014 10:18        Maximum Iron and Steel   2859.51        9220\n",
      "33    01/06/2014 11:33  Stewart and Sons Fabrication   2144.62        9735\n",
      "34    01/06/2014 11:57         Carlyle Chemical Inc.   3959.66        9220\n",
      "157   01/07/2014 09:17                 Abila Airport   3840.37        3506\n",
      "218   01/07/2014 14:16               Abila Scrapyard   2149.28        2276\n",
      "219   01/07/2014 14:19    Kronos Pipe and Irrigation   3920.82        4530\n",
      "220   01/07/2014 14:34         Carlyle Chemical Inc.   4803.13        7792\n",
      "222   01/07/2014 15:20        Maximum Iron and Steel   3207.31        4530\n",
      "223   01/07/2014 15:41                 Abila Airport   3411.29        8642\n",
      "289   01/08/2014 09:43         Carlyle Chemical Inc.   3048.31        7792\n",
      "290   01/08/2014 09:54           Nationwide Refinery   4513.16        9152\n",
      "291   01/08/2014 10:14           Nationwide Refinery   3674.32        9735\n",
      "307   01/08/2014 12:45                 Abila Airport   2723.18        8642\n",
      "309   01/08/2014 13:03         Carlyle Chemical Inc.   4983.52        4530\n",
      "348   01/08/2014 14:09    Kronos Pipe and Irrigation   3615.61        4530\n",
      "352   01/08/2014 14:26         Carlyle Chemical Inc.   4901.88        7792\n",
      "353   01/08/2014 15:18        Maximum Iron and Steel   3136.01        4530\n",
      "354   01/08/2014 15:29                 Abila Airport   2769.12        8642\n",
      "413   01/09/2014 09:26                 Abila Airport   2358.22        3506\n",
      "419   01/09/2014 11:37  Stewart and Sons Fabrication   3544.00        9735\n",
      "437   01/09/2014 13:18                 Abila Airport   4792.50        2276\n",
      "483   01/09/2014 15:50                 Abila Airport   4538.52        8642\n",
      "484   01/09/2014 16:22         Carlyle Chemical Inc.   2176.20        7792\n",
      "541   01/10/2014 07:59                 Abila Airport   4039.36        9614\n",
      "554   01/10/2014 10:40           Nationwide Refinery   2302.73        9614\n",
      "555   01/10/2014 11:49  Stewart and Sons Fabrication   4074.10        9735\n",
      "568   01/10/2014 12:10  Stewart and Sons Fabrication   4195.49        9614\n",
      "778   01/13/2014 08:15                 Abila Airport   3617.47        9220\n",
      "782   01/13/2014 08:58    Kronos Pipe and Irrigation   2892.74        9220\n",
      "801   01/13/2014 12:11                 Abila Airport   4417.03        8642\n",
      "840   01/13/2014 16:56                 Abila Airport   2228.08        8642\n",
      "841   01/13/2014 19:20     Frydos Autosupply n' More  10000.00        9551\n",
      "903   01/14/2014 09:34         Carlyle Chemical Inc.   3630.57        7792\n",
      "921   01/14/2014 13:06                 Abila Airport   3379.21        2276\n",
      "963   01/14/2014 14:13               Abila Scrapyard   4277.40        2276\n",
      "966   01/14/2014 15:32                 Abila Airport   4918.39        8642\n",
      "968   01/14/2014 16:16         Carlyle Chemical Inc.   3470.99        7792\n",
      "969   01/14/2014 16:28           Nationwide Refinery   4429.76        2276\n",
      "1030  01/15/2014 09:34         Carlyle Chemical Inc.   3608.08        7792\n",
      "1033  01/15/2014 11:18  Stewart and Sons Fabrication   4545.38        9152\n",
      "1034  01/15/2014 11:44  Stewart and Sons Fabrication   4740.68        9735\n",
      "1035  01/15/2014 11:55           Nationwide Refinery   3004.98        7792\n",
      "1046  01/15/2014 12:25                 Abila Airport   3152.41        8642\n",
      "1087  01/15/2014 14:12    Kronos Pipe and Irrigation   2564.00        4530\n",
      "1090  01/15/2014 15:11        Maximum Iron and Steel   4788.22        4530\n",
      "1160  01/16/2014 11:25           Nationwide Refinery   4742.67        7792\n",
      "1161  01/16/2014 11:45  Stewart and Sons Fabrication   4543.31        9735\n",
      "1175  01/16/2014 12:32           Nationwide Refinery   2047.28        3506\n",
      "1176  01/16/2014 12:40                 Abila Airport   3917.30        8642\n",
      "1181  01/16/2014 13:22                 Abila Airport   3138.98        2276\n"
     ]
    }
   ],
   "source": [
    "import pandas as pd\n",
    "\n",
    "# Load the dataset\n",
    "file_path = 'cc_data.csv'  # Update this with your file path if necessary\n",
    "df = pd.read_csv(file_path)\n",
    "\n",
    "# Define a threshold for large transactions\n",
    "threshold = 2000\n",
    "\n",
    "# Filter the dataframe for transactions above the threshold\n",
    "large_transactions = df[df['price'] > threshold]\n",
    "\n",
    "# Print the large transactions\n",
    "print(large_transactions)\n"
   ]
  }
 ],
 "metadata": {
  "kernelspec": {
   "display_name": "Python 3",
   "language": "python",
   "name": "python3"
  },
  "language_info": {
   "codemirror_mode": {
    "name": "ipython",
    "version": 3
   },
   "file_extension": ".py",
   "mimetype": "text/x-python",
   "name": "python",
   "nbconvert_exporter": "python",
   "pygments_lexer": "ipython3",
   "version": "3.9.6"
  }
 },
 "nbformat": 4,
 "nbformat_minor": 2
}
