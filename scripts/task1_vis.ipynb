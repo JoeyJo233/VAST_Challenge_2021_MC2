{
 "cells": [
  {
   "cell_type": "code",
   "execution_count": 1,
   "metadata": {},
   "outputs": [
    {
     "data": {
      "application/vnd.plotly.v1+json": {
       "config": {
        "plotlyServerURL": "https://plot.ly"
       },
       "data": [
        {
         "alignmentgroup": "True",
         "bingroup": "x",
         "hovertemplate": "Location=%{x}<br>count=%{y}<extra></extra>",
         "legendgroup": "",
         "marker": {
          "color": "#636efa",
          "pattern": {
           "shape": ""
          }
         },
         "name": "",
         "offsetgroup": "",
         "orientation": "v",
         "showlegend": false,
         "type": "histogram",
         "x": [
          "Brew've Been Served",
          "Hallowed Grounds",
          "Brew've Been Served",
          "Hallowed Grounds",
          "Brew've Been Served",
          "Brew've Been Served",
          "Coffee Cameleon",
          "Brew've Been Served",
          "Brew've Been Served",
          "Hallowed Grounds",
          "Hallowed Grounds",
          "Coffee Cameleon",
          "Brew've Been Served",
          "Hallowed Grounds",
          "Coffee Cameleon",
          "Hallowed Grounds",
          "Hallowed Grounds",
          "Brew've Been Served",
          "Brew've Been Served",
          "Brew've Been Served",
          "Hallowed Grounds",
          "Hallowed Grounds",
          "Brew've Been Served",
          "Brew've Been Served",
          "Brew've Been Served",
          "Coffee Cameleon",
          "Brew've Been Served",
          "Brew've Been Served",
          "Brew've Been Served",
          "Abila Airport",
          "Kronos Pipe and Irrigation",
          "Nationwide Refinery",
          "Maximum Iron and Steel",
          "Stewart and Sons Fabrication",
          "Carlyle Chemical Inc.",
          "Coffee Shack",
          "Bean There Done That",
          "Bean There Done That",
          "Brewed Awakenings",
          "Jack's Magical Beans",
          "Brewed Awakenings",
          "Bean There Done That",
          "Brewed Awakenings",
          "Bean There Done That",
          "Bean There Done That",
          "Jack's Magical Beans",
          "Jack's Magical Beans",
          "Jack's Magical Beans",
          "Abila Airport",
          "Katerina's Café",
          "Hippokampos",
          "Abila Zacharo",
          "Gelatogalore",
          "Kalami Kafenion",
          "Hippokampos",
          "Hippokampos",
          "Ouzeri Elian",
          "Hippokampos",
          "Guy's Gyros",
          "Abila Zacharo",
          "Abila Zacharo",
          "Katerina's Café",
          "Kalami Kafenion",
          "Guy's Gyros",
          "Hippokampos",
          "Abila Zacharo",
          "Ouzeri Elian",
          "Guy's Gyros",
          "Gelatogalore",
          "Ouzeri Elian",
          "Guy's Gyros",
          "Katerina's Café",
          "Guy's Gyros",
          "Kalami Kafenion",
          "Ouzeri Elian",
          "Ouzeri Elian",
          "Katerina's Café",
          "Katerina's Café",
          "Kalami Kafenion",
          "Gelatogalore",
          "Katerina's Café",
          "Abila Zacharo",
          "Hippokampos",
          "Hippokampos",
          "Katerina's Café",
          "Kalami Kafenion",
          "Gelatogalore",
          "Hippokampos",
          "Abila Zacharo",
          "Kalami Kafenion",
          "Katerina's Café",
          "Abila Airport",
          "Abila Airport",
          "U-Pump",
          "Katerina's Café",
          "Katerina's Café",
          "Guy's Gyros",
          "Frydos Autosupply n' More",
          "Katerina's Café",
          "Katerina's Café",
          "Guy's Gyros",
          "Frydos Autosupply n' More",
          "Guy's Gyros",
          "Guy's Gyros",
          "Frydos Autosupply n' More",
          "Katerina's Café",
          "Hippokampos",
          "Guy's Gyros",
          "Albert's Fine Clothing",
          "Guy's Gyros",
          "Hippokampos",
          "Katerina's Café",
          "Katerina's Café",
          "Katerina's Café",
          "Hippokampos",
          "Hippokampos",
          "Hippokampos",
          "Frydos Autosupply n' More",
          "Shoppers' Delight",
          "Hippokampos",
          "Katerina's Café",
          "Katerina's Café",
          "Albert's Fine Clothing",
          "Hippokampos",
          "Katerina's Café",
          "Frydos Autosupply n' More",
          "Frydos Autosupply n' More",
          "Hippokampos",
          "Brew've Been Served",
          "Brew've Been Served",
          "Brew've Been Served",
          "Hallowed Grounds",
          "Hallowed Grounds",
          "Hallowed Grounds",
          "Brew've Been Served",
          "Hallowed Grounds",
          "Coffee Cameleon",
          "Hallowed Grounds",
          "Hallowed Grounds",
          "Coffee Cameleon",
          "Brew've Been Served",
          "Hallowed Grounds",
          "Brew've Been Served",
          "Brew've Been Served",
          "Brew've Been Served",
          "Brew've Been Served",
          "Hallowed Grounds",
          "Brew've Been Served",
          "Brew've Been Served",
          "Coffee Cameleon",
          "Coffee Cameleon",
          "Hallowed Grounds",
          "Hallowed Grounds",
          "Brew've Been Served",
          "Brew've Been Served",
          "Brew've Been Served",
          "Brew've Been Served",
          "Abila Airport",
          "Stewart and Sons Fabrication",
          "Nationwide Refinery",
          "Stewart and Sons Fabrication",
          "Nationwide Refinery",
          "Coffee Shack",
          "Bean There Done That",
          "Brewed Awakenings",
          "Jack's Magical Beans",
          "Brewed Awakenings",
          "Brewed Awakenings",
          "Bean There Done That",
          "Brewed Awakenings",
          "Bean There Done That",
          "Bean There Done That",
          "Jack's Magical Beans",
          "Jack's Magical Beans",
          "Jack's Magical Beans",
          "Nationwide Refinery",
          "Abila Airport",
          "Katerina's Café",
          "Guy's Gyros",
          "Abila Zacharo",
          "Gelatogalore",
          "Guy's Gyros",
          "Kalami Kafenion",
          "Kalami Kafenion",
          "Abila Zacharo",
          "Ouzeri Elian",
          "Gelatogalore",
          "Ouzeri Elian",
          "Abila Zacharo",
          "Gelatogalore",
          "Katerina's Café",
          "Guy's Gyros",
          "Kalami Kafenion",
          "Ouzeri Elian",
          "Gelatogalore",
          "Gelatogalore",
          "Gelatogalore",
          "Katerina's Café",
          "Abila Zacharo",
          "Ouzeri Elian",
          "Abila Zacharo",
          "Kalami Kafenion",
          "Guy's Gyros",
          "Kalami Kafenion",
          "Gelatogalore",
          "Ouzeri Elian",
          "Gelatogalore",
          "Hippokampos",
          "Gelatogalore",
          "Abila Zacharo",
          "Ouzeri Elian",
          "Katerina's Café",
          "Gelatogalore",
          "Hippokampos",
          "Katerina's Café",
          "Guy's Gyros",
          "Ouzeri Elian",
          "Hippokampos",
          "Abila Scrapyard",
          "Kronos Pipe and Irrigation",
          "Carlyle Chemical Inc.",
          "Stewart and Sons Fabrication",
          "Maximum Iron and Steel",
          "Abila Airport",
          "Nationwide Refinery",
          "Guy's Gyros",
          "Guy's Gyros",
          "Hippokampos",
          "Hippokampos",
          "Albert's Fine Clothing",
          "Katerina's Café",
          "Albert's Fine Clothing",
          "Guy's Gyros",
          "Guy's Gyros",
          "Katerina's Café",
          "Guy's Gyros",
          "Katerina's Café",
          "Katerina's Café",
          "Katerina's Café",
          "Guy's Gyros",
          "Ouzeri Elian",
          "Katerina's Café",
          "Guy's Gyros",
          "Frydos Autosupply n' More",
          "Katerina's Café",
          "Katerina's Café",
          "Katerina's Café",
          "Hippokampos",
          "Guy's Gyros",
          "Katerina's Café",
          "Ouzeri Elian",
          "Hippokampos",
          "Katerina's Café",
          "Hippokampos",
          "Hippokampos",
          "Katerina's Café",
          "Hippokampos",
          "Hippokampos",
          "Brew've Been Served",
          "Hallowed Grounds",
          "Hallowed Grounds",
          "Hallowed Grounds",
          "Hallowed Grounds",
          "Brew've Been Served",
          "Hallowed Grounds",
          "Hallowed Grounds",
          "Brew've Been Served",
          "Brew've Been Served",
          "Brew've Been Served",
          "Brew've Been Served",
          "Hallowed Grounds",
          "Coffee Cameleon",
          "Coffee Cameleon",
          "Hallowed Grounds",
          "Brew've Been Served",
          "Hallowed Grounds",
          "Brew've Been Served",
          "Hallowed Grounds",
          "Brew've Been Served",
          "Coffee Cameleon",
          "Brew've Been Served",
          "Brew've Been Served",
          "Brew've Been Served",
          "Brew've Been Served",
          "Brew've Been Served",
          "Brew've Been Served",
          "Brew've Been Served",
          "Brew've Been Served",
          "Coffee Cameleon",
          "Carlyle Chemical Inc.",
          "Nationwide Refinery",
          "Nationwide Refinery",
          "Stewart and Sons Fabrication",
          "Stewart and Sons Fabrication",
          "Coffee Shack",
          "Bean There Done That",
          "Bean There Done That",
          "Brewed Awakenings",
          "Jack's Magical Beans",
          "Brewed Awakenings",
          "Bean There Done That",
          "Brewed Awakenings",
          "Bean There Done That",
          "Jack's Magical Beans",
          "Jack's Magical Beans",
          "Jack's Magical Beans",
          "Frank's Fuel",
          "Abila Airport",
          "Chostus Hotel",
          "Carlyle Chemical Inc.",
          "Abila Zacharo",
          "Hippokampos",
          "Hippokampos",
          "Katerina's Café",
          "Chostus Hotel",
          "Ouzeri Elian",
          "Abila Zacharo",
          "Hippokampos",
          "Gelatogalore",
          "Katerina's Café",
          "Gelatogalore",
          "Kalami Kafenion",
          "Hippokampos",
          "Guy's Gyros",
          "Abila Zacharo",
          "Katerina's Café",
          "Gelatogalore",
          "Gelatogalore",
          "Guy's Gyros",
          "Katerina's Café",
          "Gelatogalore",
          "Kalami Kafenion",
          "Katerina's Café",
          "Hippokampos",
          "Kalami Kafenion",
          "Kalami Kafenion",
          "Abila Zacharo",
          "Katerina's Café",
          "Gelatogalore",
          "Ouzeri Elian",
          "Hippokampos",
          "Gelatogalore",
          "Guy's Gyros",
          "Abila Zacharo",
          "Kalami Kafenion",
          "Abila Zacharo",
          "Guy's Gyros",
          "Katerina's Café",
          "Kronos Pipe and Irrigation",
          "Kalami Kafenion",
          "Gelatogalore",
          "Kalami Kafenion",
          "Carlyle Chemical Inc.",
          "Maximum Iron and Steel",
          "Abila Airport",
          "Hippokampos",
          "Hippokampos",
          "Katerina's Café",
          "Guy's Gyros",
          "Guy's Gyros",
          "Katerina's Café",
          "Hippokampos",
          "Guy's Gyros",
          "Frydos Autosupply n' More",
          "Guy's Gyros",
          "Katerina's Café",
          "Ouzeri Elian",
          "Guy's Gyros",
          "Frydos Autosupply n' More",
          "Guy's Gyros",
          "Katerina's Café",
          "Hippokampos",
          "Frydos Autosupply n' More",
          "Katerina's Café",
          "Katerina's Café",
          "Katerina's Café",
          "Albert's Fine Clothing",
          "Hippokampos",
          "Hippokampos",
          "Guy's Gyros",
          "Guy's Gyros",
          "General Grocer",
          "Katerina's Café",
          "Katerina's Café",
          "Ouzeri Elian",
          "Ouzeri Elian",
          "Hippokampos",
          "Coffee Cameleon",
          "Brew've Been Served",
          "Hallowed Grounds",
          "Coffee Cameleon",
          "Hallowed Grounds",
          "Brew've Been Served",
          "Hallowed Grounds",
          "Brew've Been Served",
          "Brew've Been Served",
          "Brew've Been Served",
          "Brew've Been Served",
          "Hallowed Grounds",
          "Hallowed Grounds",
          "Brew've Been Served",
          "Hallowed Grounds",
          "Brew've Been Served",
          "Hallowed Grounds",
          "Brew've Been Served",
          "Brew've Been Served",
          "Brew've Been Served",
          "Brew've Been Served",
          "Coffee Cameleon",
          "Hallowed Grounds",
          "Brew've Been Served",
          "Brew've Been Served",
          "Hallowed Grounds",
          "Abila Airport",
          "Carlyle Chemical Inc.",
          "Nationwide Refinery",
          "Stewart and Sons Fabrication",
          "Carlyle Chemical Inc.",
          "Nationwide Refinery",
          "Stewart and Sons Fabrication",
          "Coffee Shack",
          "Bean There Done That",
          "Brewed Awakenings",
          "Jack's Magical Beans",
          "Jack's Magical Beans",
          "Brewed Awakenings",
          "Bean There Done That",
          "Brewed Awakenings",
          "Bean There Done That",
          "Jack's Magical Beans",
          "Jack's Magical Beans",
          "Jack's Magical Beans",
          "Abila Airport",
          "Nationwide Refinery",
          "Ouzeri Elian",
          "Katerina's Café",
          "Gelatogalore",
          "Abila Airport",
          "Ouzeri Elian",
          "Gelatogalore",
          "Guy's Gyros",
          "Gelatogalore",
          "Gelatogalore",
          "Ouzeri Elian",
          "Katerina's Café",
          "Abila Zacharo",
          "Kalami Kafenion",
          "Katerina's Café",
          "Guy's Gyros",
          "Hippokampos",
          "Abila Zacharo",
          "Katerina's Café",
          "Gelatogalore",
          "Hippokampos",
          "Hippokampos",
          "Kalami Kafenion",
          "Abila Zacharo",
          "Gelatogalore",
          "Abila Zacharo",
          "Hippokampos",
          "Hippokampos",
          "Guy's Gyros",
          "Guy's Gyros",
          "Gelatogalore",
          "Abila Zacharo",
          "Hippokampos",
          "Hippokampos",
          "Kalami Kafenion",
          "Hippokampos",
          "Guy's Gyros",
          "Kalami Kafenion",
          "Kalami Kafenion",
          "Ouzeri Elian",
          "Katerina's Café",
          "Guy's Gyros",
          "Abila Scrapyard",
          "Guy's Gyros",
          "Abila Zacharo",
          "Gelatogalore",
          "Carlyle Chemical Inc.",
          "Kronos Pipe and Irrigation",
          "Stewart and Sons Fabrication",
          "Maximum Iron and Steel",
          "Abila Airport",
          "Carlyle Chemical Inc.",
          "Nationwide Refinery",
          "Katerina's Café",
          "Katerina's Café",
          "Frydos Autosupply n' More",
          "Guy's Gyros",
          "Ouzeri Elian",
          "Ouzeri Elian",
          "Guy's Gyros",
          "Hippokampos",
          "Katerina's Café",
          "Katerina's Café",
          "Katerina's Café",
          "Hippokampos",
          "General Grocer",
          "Katerina's Café",
          "Frydos Autosupply n' More",
          "Albert's Fine Clothing",
          "Frydos Autosupply n' More",
          "Katerina's Café",
          "Guy's Gyros",
          "Guy's Gyros",
          "Katerina's Café",
          "Guy's Gyros",
          "Katerina's Café",
          "Guy's Gyros",
          "Guy's Gyros",
          "Hippokampos",
          "Frydos Autosupply n' More",
          "Hippokampos",
          "Guy's Gyros",
          "Hippokampos",
          "Shoppers' Delight",
          "Katerina's Café",
          "Albert's Fine Clothing",
          "Hippokampos",
          "Hallowed Grounds",
          "Brew've Been Served",
          "Coffee Cameleon",
          "Hallowed Grounds",
          "Hallowed Grounds",
          "Hallowed Grounds",
          "Brew've Been Served",
          "Hallowed Grounds",
          "Hallowed Grounds",
          "Brew've Been Served",
          "Coffee Cameleon",
          "Brew've Been Served",
          "Hallowed Grounds",
          "Brew've Been Served",
          "Hallowed Grounds",
          "Brew've Been Served",
          "Brew've Been Served",
          "Coffee Cameleon",
          "Brew've Been Served",
          "Brew've Been Served",
          "Brew've Been Served",
          "Abila Airport",
          "Brew've Been Served",
          "Brew've Been Served",
          "Hallowed Grounds",
          "Brew've Been Served",
          "Brew've Been Served",
          "Coffee Cameleon",
          "Brew've Been Served",
          "Brew've Been Served",
          "Brew've Been Served",
          "Carlyle Chemical Inc.",
          "Kronos Mart",
          "Nationwide Refinery",
          "Nationwide Refinery",
          "Stewart and Sons Fabrication",
          "Bean There Done That",
          "Bean There Done That",
          "Brewed Awakenings",
          "Jack's Magical Beans",
          "Brewed Awakenings",
          "Bean There Done That",
          "Brewed Awakenings",
          "Bean There Done That",
          "Bean There Done That",
          "Jack's Magical Beans",
          "Jack's Magical Beans",
          "Jack's Magical Beans",
          "Stewart and Sons Fabrication",
          "Chostus Hotel",
          "Chostus Hotel",
          "Guy's Gyros",
          "Ouzeri Elian",
          "Hippokampos",
          "Guy's Gyros",
          "Guy's Gyros",
          "Abila Zacharo",
          "Katerina's Café",
          "Kalami Kafenion",
          "Gelatogalore",
          "Ouzeri Elian",
          "Kalami Kafenion",
          "Abila Zacharo",
          "Katerina's Café",
          "Guy's Gyros",
          "Katerina's Café",
          "Hippokampos",
          "Guy's Gyros",
          "Ouzeri Elian",
          "Kalami Kafenion",
          "Abila Zacharo",
          "Guy's Gyros",
          "Katerina's Café",
          "Katerina's Café",
          "Ouzeri Elian",
          "Guy's Gyros",
          "Kalami Kafenion",
          "Guy's Gyros",
          "Ouzeri Elian",
          "Hippokampos",
          "Abila Zacharo",
          "Abila Zacharo",
          "Abila Zacharo",
          "Hippokampos",
          "Ouzeri Elian",
          "Katerina's Café",
          "Abila Zacharo",
          "Gelatogalore",
          "Hippokampos",
          "Octavio's Office Supplies",
          "Octavio's Office Supplies",
          "Ouzeri Elian",
          "Frydos Autosupply n' More",
          "Guy's Gyros",
          "Hippokampos",
          "Katerina's Café",
          "Guy's Gyros",
          "Hippokampos",
          "Katerina's Café",
          "Frydos Autosupply n' More",
          "Katerina's Café",
          "Hippokampos",
          "Katerina's Café",
          "Guy's Gyros",
          "Albert's Fine Clothing",
          "Frydos Autosupply n' More",
          "Shoppers' Delight",
          "Guy's Gyros",
          "Guy's Gyros",
          "Katerina's Café",
          "Hippokampos",
          "Roberts and Sons",
          "Guy's Gyros",
          "Hippokampos",
          "General Grocer",
          "Hippokampos",
          "Katerina's Café",
          "Katerina's Café",
          "Katerina's Café",
          "Abila Zacharo",
          "Abila Zacharo",
          "Gelatogalore",
          "Hippokampos",
          "Hippokampos",
          "Hippokampos",
          "Ouzeri Elian",
          "Katerina's Café",
          "Hippokampos",
          "Katerina's Café",
          "Abila Zacharo",
          "Gelatogalore",
          "Kalami Kafenion",
          "Kalami Kafenion",
          "Katerina's Café",
          "Abila Zacharo",
          "Shoppers' Delight",
          "Shoppers' Delight",
          "General Grocer",
          "Roberts and Sons",
          "Albert's Fine Clothing",
          "Frydos Autosupply n' More",
          "Ahaggo Museum",
          "Ahaggo Museum",
          "Katerina's Café",
          "Kalami Kafenion",
          "Ouzeri Elian",
          "Hippokampos",
          "Albert's Fine Clothing",
          "Hippokampos",
          "Hippokampos",
          "Katerina's Café",
          "Katerina's Café",
          "Hippokampos",
          "Guy's Gyros",
          "Katerina's Café",
          "Shoppers' Delight",
          "Hippokampos",
          "Katerina's Café",
          "Katerina's Café",
          "Katerina's Café",
          "Hippokampos",
          "Guy's Gyros",
          "Katerina's Café",
          "Kalami Kafenion",
          "Ouzeri Elian",
          "Katerina's Café",
          "Guy's Gyros",
          "Guy's Gyros",
          "Frydos Autosupply n' More",
          "Katerina's Café",
          "Frydos Autosupply n' More",
          "Hippokampos",
          "Katerina's Café",
          "Frydos Autosupply n' More",
          "Hippokampos",
          "Kalami Kafenion",
          "Katerina's Café",
          "Kronos Mart",
          "Ouzeri Elian",
          "Ouzeri Elian",
          "Hippokampos",
          "Ouzeri Elian",
          "Ouzeri Elian",
          "Guy's Gyros",
          "Ouzeri Elian",
          "Hippokampos",
          "Gelatogalore",
          "Abila Zacharo",
          "Desafio Golf Course",
          "Kalami Kafenion",
          "Hippokampos",
          "Kalami Kafenion",
          "Hippokampos",
          "Hippokampos",
          "Desafio Golf Course",
          "Desafio Golf Course",
          "Guy's Gyros",
          "Shoppers' Delight",
          "Shoppers' Delight",
          "Shoppers' Delight",
          "General Grocer",
          "Albert's Fine Clothing",
          "Shoppers' Delight",
          "Ahaggo Museum",
          "Katerina's Café",
          "Katerina's Café",
          "Hippokampos",
          "Guy's Gyros",
          "Shoppers' Delight",
          "Hippokampos",
          "Guy's Gyros",
          "Hippokampos",
          "Guy's Gyros",
          "Katerina's Café",
          "Hippokampos",
          "Katerina's Café",
          "Gelatogalore",
          "Hippokampos",
          "Frydos Autosupply n' More",
          "Albert's Fine Clothing",
          "Ouzeri Elian",
          "Katerina's Café",
          "Hippokampos",
          "Katerina's Café",
          "Katerina's Café",
          "Katerina's Café",
          "Hippokampos",
          "Katerina's Café",
          "Katerina's Café",
          "Hippokampos",
          "Frydos Autosupply n' More",
          "Katerina's Café",
          "Kronos Mart",
          "Daily Dealz",
          "Hallowed Grounds",
          "Brew've Been Served",
          "Brew've Been Served",
          "Coffee Cameleon",
          "Brew've Been Served",
          "Hallowed Grounds",
          "Brew've Been Served",
          "Hallowed Grounds",
          "Brew've Been Served",
          "Hallowed Grounds",
          "Brew've Been Served",
          "Hallowed Grounds",
          "Coffee Cameleon",
          "Brew've Been Served",
          "Brew've Been Served",
          "Brew've Been Served",
          "Hallowed Grounds",
          "Brew've Been Served",
          "Kronos Mart",
          "Coffee Cameleon",
          "Brew've Been Served",
          "Hallowed Grounds",
          "Brew've Been Served",
          "Coffee Cameleon",
          "Abila Airport",
          "Brew've Been Served",
          "Brew've Been Served",
          "Brew've Been Served",
          "Kronos Pipe and Irrigation",
          "Nationwide Refinery",
          "Maximum Iron and Steel",
          "Coffee Shack",
          "Bean There Done That",
          "Bean There Done That",
          "Brewed Awakenings",
          "Jack's Magical Beans",
          "Brewed Awakenings",
          "Bean There Done That",
          "Brewed Awakenings",
          "Bean There Done That",
          "Bean There Done That",
          "Bean There Done That",
          "Bean There Done That",
          "Carlyle Chemical Inc.",
          "Jack's Magical Beans",
          "Jack's Magical Beans",
          "Jack's Magical Beans",
          "Abila Airport",
          "Hippokampos",
          "Ouzeri Elian",
          "Gelatogalore",
          "U-Pump",
          "Gelatogalore",
          "Abila Zacharo",
          "Abila Zacharo",
          "Katerina's Café",
          "Hippokampos",
          "Abila Zacharo",
          "Hippokampos",
          "Guy's Gyros",
          "Katerina's Café",
          "Abila Zacharo",
          "Hippokampos",
          "Katerina's Café",
          "Ouzeri Elian",
          "Guy's Gyros",
          "Katerina's Café",
          "Guy's Gyros",
          "Gelatogalore",
          "Abila Zacharo",
          "Abila Zacharo",
          "Ouzeri Elian",
          "Katerina's Café",
          "Hippokampos",
          "Abila Zacharo",
          "Guy's Gyros",
          "Katerina's Café",
          "Kalami Kafenion",
          "Guy's Gyros",
          "Gelatogalore",
          "Gelatogalore",
          "Hippokampos",
          "Ouzeri Elian",
          "Guy's Gyros",
          "Hippokampos",
          "Guy's Gyros",
          "Abila Airport",
          "Frydos Autosupply n' More",
          "Shoppers' Delight",
          "Ouzeri Elian",
          "Frydos Autosupply n' More",
          "Katerina's Café",
          "Frydos Autosupply n' More",
          "Katerina's Café",
          "Guy's Gyros",
          "Guy's Gyros",
          "Guy's Gyros",
          "Guy's Gyros",
          "Katerina's Café",
          "Katerina's Café",
          "Albert's Fine Clothing",
          "Hippokampos",
          "Hippokampos",
          "Albert's Fine Clothing",
          "Guy's Gyros",
          "Ouzeri Elian",
          "Katerina's Café",
          "Guy's Gyros",
          "Shoppers' Delight",
          "Katerina's Café",
          "Katerina's Café",
          "Guy's Gyros",
          "Katerina's Café",
          "Guy's Gyros",
          "Frydos Autosupply n' More",
          "Hippokampos",
          "Hippokampos",
          "Katerina's Café",
          "Hippokampos",
          "Brew've Been Served",
          "Brew've Been Served",
          "Hallowed Grounds",
          "Brew've Been Served",
          "Coffee Cameleon",
          "Brew've Been Served",
          "Hallowed Grounds",
          "Hallowed Grounds",
          "Brew've Been Served",
          "Hallowed Grounds",
          "Brew've Been Served",
          "Brew've Been Served",
          "Brew've Been Served",
          "Coffee Cameleon",
          "Coffee Cameleon",
          "Brew've Been Served",
          "Brew've Been Served",
          "Brew've Been Served",
          "Hallowed Grounds",
          "Hallowed Grounds",
          "Coffee Cameleon",
          "Brew've Been Served",
          "Brew've Been Served",
          "Brew've Been Served",
          "Hallowed Grounds",
          "Hallowed Grounds",
          "Brew've Been Served",
          "Brew've Been Served",
          "Hallowed Grounds",
          "Kronos Mart",
          "Carlyle Chemical Inc.",
          "Nationwide Refinery",
          "Stewart and Sons Fabrication",
          "Nationwide Refinery",
          "Stewart and Sons Fabrication",
          "Coffee Shack",
          "Bean There Done That",
          "Bean There Done That",
          "Brewed Awakenings",
          "Brewed Awakenings",
          "Bean There Done That",
          "Brewed Awakenings",
          "Bean There Done That",
          "Bean There Done That",
          "Jack's Magical Beans",
          "Jack's Magical Beans",
          "Abila Airport",
          "Nationwide Refinery",
          "Abila Airport",
          "Katerina's Café",
          "Hippokampos",
          "Chostus Hotel",
          "Katerina's Café",
          "Chostus Hotel",
          "Katerina's Café",
          "Kalami Kafenion",
          "Kalami Kafenion",
          "Hippokampos",
          "Gelatogalore",
          "Gelatogalore",
          "Katerina's Café",
          "Gelatogalore",
          "Katerina's Café",
          "Abila Zacharo",
          "Abila Zacharo",
          "Guy's Gyros",
          "Hippokampos",
          "Abila Zacharo",
          "Abila Zacharo",
          "Ouzeri Elian",
          "Kalami Kafenion",
          "Ouzeri Elian",
          "Katerina's Café",
          "Hippokampos",
          "Kalami Kafenion",
          "Katerina's Café",
          "Guy's Gyros",
          "Gelatogalore",
          "Guy's Gyros",
          "Kalami Kafenion",
          "Kalami Kafenion",
          "Ouzeri Elian",
          "Ouzeri Elian",
          "Gelatogalore",
          "Hippokampos",
          "Katerina's Café",
          "Guy's Gyros",
          "Ouzeri Elian",
          "Gelatogalore",
          "Abila Zacharo",
          "Abila Scrapyard",
          "Hippokampos",
          "Carlyle Chemical Inc.",
          "Abila Airport",
          "Octavio's Office Supplies",
          "Carlyle Chemical Inc.",
          "Nationwide Refinery",
          "Hippokampos",
          "Guy's Gyros",
          "Guy's Gyros",
          "Albert's Fine Clothing",
          "Katerina's Café",
          "Katerina's Café",
          "Guy's Gyros",
          "Guy's Gyros",
          "Katerina's Café",
          "Guy's Gyros",
          "Katerina's Café",
          "Hippokampos",
          "Guy's Gyros",
          "Katerina's Café",
          "Guy's Gyros",
          "Ouzeri Elian",
          "Frydos Autosupply n' More",
          "Katerina's Café",
          "Ouzeri Elian",
          "Katerina's Café",
          "Frydos Autosupply n' More",
          "Ouzeri Elian",
          "Hippokampos",
          "Albert's Fine Clothing",
          "Katerina's Café",
          "Hippokampos",
          "Katerina's Café",
          "Roberts and Sons",
          "Frydos Autosupply n' More",
          "Hippokampos",
          "Guy's Gyros",
          "Hallowed Grounds",
          "Brew've Been Served",
          "Hallowed Grounds",
          "Brew've Been Served",
          "Hallowed Grounds",
          "Brew've Been Served",
          "Hallowed Grounds",
          "Coffee Cameleon",
          "Brew've Been Served",
          "Brew've Been Served",
          "Brew've Been Served",
          "Brew've Been Served",
          "Coffee Cameleon",
          "Hallowed Grounds",
          "Coffee Cameleon",
          "Brew've Been Served",
          "Brew've Been Served",
          "Brew've Been Served",
          "Brew've Been Served",
          "Hallowed Grounds",
          "Brew've Been Served",
          "Hallowed Grounds",
          "Brew've Been Served",
          "Brew've Been Served",
          "Coffee Cameleon",
          "Brew've Been Served",
          "Brew've Been Served",
          "Hallowed Grounds",
          "Brew've Been Served",
          "Carlyle Chemical Inc.",
          "Nationwide Refinery",
          "Nationwide Refinery",
          "Stewart and Sons Fabrication",
          "Stewart and Sons Fabrication",
          "Nationwide Refinery",
          "Bean There Done That",
          "Jack's Magical Beans",
          "Brewed Awakenings",
          "Bean There Done That",
          "Brewed Awakenings",
          "Bean There Done That",
          "Bean There Done That",
          "Jack's Magical Beans",
          "Jack's Magical Beans",
          "Jack's Magical Beans",
          "Abila Airport",
          "Kalami Kafenion",
          "Ouzeri Elian",
          "Hippokampos",
          "Hippokampos",
          "Katerina's Café",
          "Katerina's Café",
          "Guy's Gyros",
          "Abila Zacharo",
          "Ouzeri Elian",
          "Hippokampos",
          "Abila Zacharo",
          "Katerina's Café",
          "Ouzeri Elian",
          "Kalami Kafenion",
          "Kalami Kafenion",
          "Kalami Kafenion",
          "Hippokampos",
          "Gelatogalore",
          "Ouzeri Elian",
          "Hippokampos",
          "Guy's Gyros",
          "Hippokampos",
          "Ouzeri Elian",
          "Guy's Gyros",
          "Abila Zacharo",
          "Kalami Kafenion",
          "Guy's Gyros",
          "Gelatogalore",
          "Guy's Gyros",
          "Abila Zacharo",
          "Ouzeri Elian",
          "Gelatogalore",
          "Gelatogalore",
          "Abila Zacharo",
          "Gelatogalore",
          "Guy's Gyros",
          "Katerina's Café",
          "Hippokampos",
          "Abila Zacharo",
          "Abila Zacharo",
          "Kronos Pipe and Irrigation",
          "Kalami Kafenion",
          "Carlyle Chemical Inc.",
          "Maximum Iron and Steel",
          "Abila Airport",
          "Carlyle Chemical Inc.",
          "Ouzeri Elian",
          "Katerina's Café",
          "Frydos Autosupply n' More",
          "Guy's Gyros",
          "Hippokampos",
          "Guy's Gyros",
          "General Grocer",
          "Katerina's Café",
          "Katerina's Café",
          "Guy's Gyros",
          "Frydos Autosupply n' More",
          "Katerina's Café",
          "Guy's Gyros",
          "Guy's Gyros",
          "Hippokampos",
          "Shoppers' Delight",
          "Hippokampos",
          "Katerina's Café",
          "Hippokampos",
          "Katerina's Café",
          "Hippokampos",
          "Katerina's Café",
          "Ouzeri Elian",
          "Katerina's Café",
          "Frydos Autosupply n' More",
          "Albert's Fine Clothing",
          "Frydos Autosupply n' More",
          "Guy's Gyros",
          "Katerina's Café",
          "Guy's Gyros",
          "Ouzeri Elian",
          "Hippokampos",
          "Katerina's Café",
          "Hippokampos",
          "Kronos Mart",
          "Brew've Been Served",
          "Brew've Been Served",
          "Brew've Been Served",
          "Coffee Cameleon",
          "Hallowed Grounds",
          "Hallowed Grounds",
          "Hallowed Grounds",
          "Hallowed Grounds",
          "Brew've Been Served",
          "Hallowed Grounds",
          "Hallowed Grounds",
          "Brew've Been Served",
          "Brew've Been Served",
          "Brew've Been Served",
          "Hallowed Grounds",
          "Brew've Been Served",
          "Brew've Been Served",
          "Brew've Been Served",
          "Coffee Cameleon",
          "Hallowed Grounds",
          "Brew've Been Served",
          "Hallowed Grounds",
          "Hallowed Grounds",
          "Brew've Been Served",
          "Brew've Been Served",
          "Hallowed Grounds",
          "Brew've Been Served",
          "Brew've Been Served",
          "Abila Airport",
          "Carlyle Chemical Inc.",
          "Nationwide Refinery",
          "Stewart and Sons Fabrication",
          "Nationwide Refinery",
          "Stewart and Sons Fabrication",
          "Coffee Shack",
          "Bean There Done That",
          "Bean There Done That",
          "Brewed Awakenings",
          "Jack's Magical Beans",
          "Brewed Awakenings",
          "Bean There Done That",
          "Brewed Awakenings",
          "Bean There Done That",
          "Bean There Done That",
          "Jack's Magical Beans",
          "Jack's Magical Beans",
          "Jack's Magical Beans",
          "Nationwide Refinery",
          "Abila Airport",
          "Katerina's Café",
          "Katerina's Café",
          "Hippokampos",
          "Abila Zacharo",
          "Abila Airport",
          "Hippokampos",
          "Guy's Gyros",
          "Katerina's Café",
          "Hippokampos",
          "Katerina's Café",
          "Katerina's Café",
          "Abila Zacharo",
          "Guy's Gyros",
          "Hippokampos",
          "Hippokampos",
          "Gelatogalore",
          "Hippokampos",
          "Hippokampos",
          "Gelatogalore",
          "Abila Zacharo",
          "Guy's Gyros",
          "Hippokampos",
          "Katerina's Café",
          "Guy's Gyros",
          "Hippokampos",
          "Ouzeri Elian",
          "Kalami Kafenion",
          "Ouzeri Elian",
          "Abila Zacharo",
          "Kalami Kafenion",
          "Abila Zacharo",
          "Gelatogalore",
          "Hippokampos",
          "Kalami Kafenion",
          "Kalami Kafenion",
          "Hippokampos",
          "Hippokampos",
          "Abila Zacharo",
          "Ouzeri Elian",
          "Ouzeri Elian",
          "Guy's Gyros",
          "Octavio's Office Supplies",
          "Abila Scrapyard",
          "Gelatogalore",
          "Carlyle Chemical Inc.",
          "Katerina's Café",
          "Guy's Gyros",
          "Guy's Gyros",
          "Katerina's Café",
          "Guy's Gyros",
          "Frydos Autosupply n' More",
          "Katerina's Café",
          "Katerina's Café",
          "Albert's Fine Clothing",
          "Katerina's Café",
          "Guy's Gyros",
          "Hippokampos",
          "Guy's Gyros",
          "Guy's Gyros",
          "Guy's Gyros",
          "Katerina's Café",
          "Ouzeri Elian",
          "Albert's Fine Clothing",
          "Katerina's Café",
          "Roberts and Sons",
          "Ouzeri Elian",
          "Ouzeri Elian",
          "Katerina's Café",
          "Guy's Gyros",
          "Katerina's Café",
          "Katerina's Café",
          "Hippokampos",
          "Hippokampos",
          "Shoppers' Delight",
          "Shoppers' Delight",
          "Katerina's Café",
          "Roberts and Sons",
          "Frydos Autosupply n' More",
          "Hippokampos",
          "Hippokampos",
          "Ouzeri Elian",
          "Brew've Been Served",
          "Hallowed Grounds",
          "Hallowed Grounds",
          "Brew've Been Served",
          "Coffee Cameleon",
          "Hallowed Grounds",
          "Hallowed Grounds",
          "Brew've Been Served",
          "Coffee Cameleon",
          "Hallowed Grounds",
          "Coffee Cameleon",
          "Hallowed Grounds",
          "Brew've Been Served",
          "Hallowed Grounds",
          "Brew've Been Served",
          "Brew've Been Served",
          "Hallowed Grounds",
          "Hallowed Grounds",
          "Brew've Been Served",
          "Coffee Cameleon",
          "Kronos Mart",
          "Brew've Been Served",
          "Brew've Been Served",
          "Hallowed Grounds",
          "Coffee Cameleon",
          "Brew've Been Served",
          "Brew've Been Served",
          "Brew've Been Served",
          "Brew've Been Served",
          "Brew've Been Served",
          "Stewart and Sons Fabrication",
          "Coffee Shack",
          "Bean There Done That",
          "Bean There Done That",
          "Brewed Awakenings",
          "Jack's Magical Beans",
          "Brewed Awakenings",
          "Bean There Done That",
          "Brewed Awakenings",
          "Bean There Done That",
          "Bean There Done That",
          "Jack's Magical Beans",
          "Abila Zacharo",
          "Kalami Kafenion",
          "Hippokampos",
          "Gelatogalore",
          "Guy's Gyros",
          "Guy's Gyros",
          "Hippokampos",
          "Abila Zacharo",
          "Hippokampos",
          "Gelatogalore",
          "Kalami Kafenion",
          "Ouzeri Elian",
          "Guy's Gyros",
          "Hippokampos",
          "Kalami Kafenion",
          "Kalami Kafenion",
          "Gelatogalore",
          "Abila Zacharo",
          "Katerina's Café",
          "Abila Zacharo",
          "Gelatogalore",
          "Katerina's Café",
          "Chostus Hotel",
          "Kalami Kafenion",
          "Gelatogalore",
          "Hippokampos",
          "Kalami Kafenion",
          "Katerina's Café",
          "Chostus Hotel",
          "Guy's Gyros",
          "Gelatogalore",
          "Hippokampos",
          "Kalami Kafenion",
          "Guy's Gyros",
          "Guy's Gyros",
          "Abila Zacharo",
          "Katerina's Café",
          "Ouzeri Elian",
          "Katerina's Café",
          "Guy's Gyros",
          "Hippokampos",
          "Ouzeri Elian",
          "Albert's Fine Clothing",
          "Guy's Gyros",
          "Guy's Gyros",
          "Katerina's Café",
          "Frydos Autosupply n' More",
          "Hippokampos",
          "Shoppers' Delight",
          "Katerina's Café",
          "Ouzeri Elian",
          "Guy's Gyros",
          "Katerina's Café",
          "Katerina's Café",
          "Guy's Gyros",
          "Shoppers' Delight",
          "Guy's Gyros",
          "Katerina's Café",
          "Ouzeri Elian",
          "Ouzeri Elian",
          "General Grocer",
          "Frydos Autosupply n' More",
          "Hippokampos",
          "Katerina's Café",
          "Guy's Gyros",
          "Katerina's Café",
          "Katerina's Café",
          "Guy's Gyros",
          "Frydos Autosupply n' More",
          "Hippokampos",
          "Hippokampos",
          "Chostus Hotel",
          "Abila Zacharo",
          "Abila Zacharo",
          "Katerina's Café",
          "Ouzeri Elian",
          "Kalami Kafenion",
          "Hippokampos",
          "Abila Zacharo",
          "Guy's Gyros",
          "Guy's Gyros",
          "Kalami Kafenion",
          "Abila Zacharo",
          "Katerina's Café",
          "Ouzeri Elian",
          "Kalami Kafenion",
          "Gelatogalore",
          "Katerina's Café",
          "Kalami Kafenion",
          "Katerina's Café",
          "Guy's Gyros",
          "Katerina's Café",
          "Kalami Kafenion",
          "Ahaggo Museum",
          "Ahaggo Museum",
          "Albert's Fine Clothing",
          "Frydos Autosupply n' More",
          "General Grocer",
          "Frydos Autosupply n' More",
          "Shoppers' Delight",
          "Roberts and Sons",
          "Frydos Autosupply n' More",
          "Frydos Autosupply n' More",
          "Albert's Fine Clothing",
          "Frank's Fuel",
          "Frydos Autosupply n' More",
          "Albert's Fine Clothing",
          "Guy's Gyros",
          "Katerina's Café",
          "Roberts and Sons",
          "Ouzeri Elian",
          "Hippokampos",
          "Guy's Gyros",
          "Ouzeri Elian",
          "Katerina's Café",
          "Katerina's Café",
          "Katerina's Café",
          "Hippokampos",
          "Katerina's Café",
          "Abila Zacharo",
          "Hippokampos",
          "Kalami Kafenion",
          "Guy's Gyros",
          "Hippokampos",
          "Roberts and Sons",
          "Katerina's Café",
          "Ouzeri Elian",
          "Katerina's Café",
          "Katerina's Café",
          "Katerina's Café",
          "Katerina's Café",
          "Hippokampos",
          "Katerina's Café",
          "Katerina's Café",
          "General Grocer",
          "Katerina's Café",
          "Hippokampos",
          "Katerina's Café",
          "Katerina's Café",
          "Hippokampos",
          "Hippokampos",
          "Kronos Mart",
          "Kronos Mart",
          "Kronos Mart",
          "Desafio Golf Course",
          "Desafio Golf Course",
          "Katerina's Café",
          "Gelatogalore",
          "Katerina's Café",
          "Ahaggo Museum",
          "Ouzeri Elian",
          "Hippokampos",
          "Desafio Golf Course",
          "Katerina's Café",
          "Katerina's Café",
          "Ouzeri Elian",
          "Katerina's Café",
          "Abila Zacharo",
          "General Grocer",
          "Desafio Golf Course",
          "Frydos Autosupply n' More",
          "Albert's Fine Clothing",
          "Desafio Golf Course",
          "Frydos Autosupply n' More",
          "Katerina's Café",
          "Hippokampos",
          "Hippokampos",
          "Hippokampos",
          "Hippokampos",
          "Guy's Gyros",
          "Guy's Gyros",
          "Guy's Gyros",
          "Frydos Autosupply n' More",
          "Guy's Gyros",
          "Ouzeri Elian",
          "Ouzeri Elian",
          "Guy's Gyros",
          "Katerina's Café",
          "Shoppers' Delight",
          "Hippokampos",
          "Guy's Gyros",
          "Albert's Fine Clothing",
          "Katerina's Café",
          "Guy's Gyros",
          "Hippokampos",
          "Guy's Gyros",
          "Katerina's Café",
          "Guy's Gyros",
          "Guy's Gyros",
          "Guy's Gyros"
         ],
         "xaxis": "x",
         "yaxis": "y"
        }
       ],
       "layout": {
        "bargap": 0.2,
        "barmode": "relative",
        "legend": {
         "tracegroupgap": 0
        },
        "template": {
         "data": {
          "bar": [
           {
            "error_x": {
             "color": "#2a3f5f"
            },
            "error_y": {
             "color": "#2a3f5f"
            },
            "marker": {
             "line": {
              "color": "#E5ECF6",
              "width": 0.5
             },
             "pattern": {
              "fillmode": "overlay",
              "size": 10,
              "solidity": 0.2
             }
            },
            "type": "bar"
           }
          ],
          "barpolar": [
           {
            "marker": {
             "line": {
              "color": "#E5ECF6",
              "width": 0.5
             },
             "pattern": {
              "fillmode": "overlay",
              "size": 10,
              "solidity": 0.2
             }
            },
            "type": "barpolar"
           }
          ],
          "carpet": [
           {
            "aaxis": {
             "endlinecolor": "#2a3f5f",
             "gridcolor": "white",
             "linecolor": "white",
             "minorgridcolor": "white",
             "startlinecolor": "#2a3f5f"
            },
            "baxis": {
             "endlinecolor": "#2a3f5f",
             "gridcolor": "white",
             "linecolor": "white",
             "minorgridcolor": "white",
             "startlinecolor": "#2a3f5f"
            },
            "type": "carpet"
           }
          ],
          "choropleth": [
           {
            "colorbar": {
             "outlinewidth": 0,
             "ticks": ""
            },
            "type": "choropleth"
           }
          ],
          "contour": [
           {
            "colorbar": {
             "outlinewidth": 0,
             "ticks": ""
            },
            "colorscale": [
             [
              0,
              "#0d0887"
             ],
             [
              0.1111111111111111,
              "#46039f"
             ],
             [
              0.2222222222222222,
              "#7201a8"
             ],
             [
              0.3333333333333333,
              "#9c179e"
             ],
             [
              0.4444444444444444,
              "#bd3786"
             ],
             [
              0.5555555555555556,
              "#d8576b"
             ],
             [
              0.6666666666666666,
              "#ed7953"
             ],
             [
              0.7777777777777778,
              "#fb9f3a"
             ],
             [
              0.8888888888888888,
              "#fdca26"
             ],
             [
              1,
              "#f0f921"
             ]
            ],
            "type": "contour"
           }
          ],
          "contourcarpet": [
           {
            "colorbar": {
             "outlinewidth": 0,
             "ticks": ""
            },
            "type": "contourcarpet"
           }
          ],
          "heatmap": [
           {
            "colorbar": {
             "outlinewidth": 0,
             "ticks": ""
            },
            "colorscale": [
             [
              0,
              "#0d0887"
             ],
             [
              0.1111111111111111,
              "#46039f"
             ],
             [
              0.2222222222222222,
              "#7201a8"
             ],
             [
              0.3333333333333333,
              "#9c179e"
             ],
             [
              0.4444444444444444,
              "#bd3786"
             ],
             [
              0.5555555555555556,
              "#d8576b"
             ],
             [
              0.6666666666666666,
              "#ed7953"
             ],
             [
              0.7777777777777778,
              "#fb9f3a"
             ],
             [
              0.8888888888888888,
              "#fdca26"
             ],
             [
              1,
              "#f0f921"
             ]
            ],
            "type": "heatmap"
           }
          ],
          "heatmapgl": [
           {
            "colorbar": {
             "outlinewidth": 0,
             "ticks": ""
            },
            "colorscale": [
             [
              0,
              "#0d0887"
             ],
             [
              0.1111111111111111,
              "#46039f"
             ],
             [
              0.2222222222222222,
              "#7201a8"
             ],
             [
              0.3333333333333333,
              "#9c179e"
             ],
             [
              0.4444444444444444,
              "#bd3786"
             ],
             [
              0.5555555555555556,
              "#d8576b"
             ],
             [
              0.6666666666666666,
              "#ed7953"
             ],
             [
              0.7777777777777778,
              "#fb9f3a"
             ],
             [
              0.8888888888888888,
              "#fdca26"
             ],
             [
              1,
              "#f0f921"
             ]
            ],
            "type": "heatmapgl"
           }
          ],
          "histogram": [
           {
            "marker": {
             "pattern": {
              "fillmode": "overlay",
              "size": 10,
              "solidity": 0.2
             }
            },
            "type": "histogram"
           }
          ],
          "histogram2d": [
           {
            "colorbar": {
             "outlinewidth": 0,
             "ticks": ""
            },
            "colorscale": [
             [
              0,
              "#0d0887"
             ],
             [
              0.1111111111111111,
              "#46039f"
             ],
             [
              0.2222222222222222,
              "#7201a8"
             ],
             [
              0.3333333333333333,
              "#9c179e"
             ],
             [
              0.4444444444444444,
              "#bd3786"
             ],
             [
              0.5555555555555556,
              "#d8576b"
             ],
             [
              0.6666666666666666,
              "#ed7953"
             ],
             [
              0.7777777777777778,
              "#fb9f3a"
             ],
             [
              0.8888888888888888,
              "#fdca26"
             ],
             [
              1,
              "#f0f921"
             ]
            ],
            "type": "histogram2d"
           }
          ],
          "histogram2dcontour": [
           {
            "colorbar": {
             "outlinewidth": 0,
             "ticks": ""
            },
            "colorscale": [
             [
              0,
              "#0d0887"
             ],
             [
              0.1111111111111111,
              "#46039f"
             ],
             [
              0.2222222222222222,
              "#7201a8"
             ],
             [
              0.3333333333333333,
              "#9c179e"
             ],
             [
              0.4444444444444444,
              "#bd3786"
             ],
             [
              0.5555555555555556,
              "#d8576b"
             ],
             [
              0.6666666666666666,
              "#ed7953"
             ],
             [
              0.7777777777777778,
              "#fb9f3a"
             ],
             [
              0.8888888888888888,
              "#fdca26"
             ],
             [
              1,
              "#f0f921"
             ]
            ],
            "type": "histogram2dcontour"
           }
          ],
          "mesh3d": [
           {
            "colorbar": {
             "outlinewidth": 0,
             "ticks": ""
            },
            "type": "mesh3d"
           }
          ],
          "parcoords": [
           {
            "line": {
             "colorbar": {
              "outlinewidth": 0,
              "ticks": ""
             }
            },
            "type": "parcoords"
           }
          ],
          "pie": [
           {
            "automargin": true,
            "type": "pie"
           }
          ],
          "scatter": [
           {
            "fillpattern": {
             "fillmode": "overlay",
             "size": 10,
             "solidity": 0.2
            },
            "type": "scatter"
           }
          ],
          "scatter3d": [
           {
            "line": {
             "colorbar": {
              "outlinewidth": 0,
              "ticks": ""
             }
            },
            "marker": {
             "colorbar": {
              "outlinewidth": 0,
              "ticks": ""
             }
            },
            "type": "scatter3d"
           }
          ],
          "scattercarpet": [
           {
            "marker": {
             "colorbar": {
              "outlinewidth": 0,
              "ticks": ""
             }
            },
            "type": "scattercarpet"
           }
          ],
          "scattergeo": [
           {
            "marker": {
             "colorbar": {
              "outlinewidth": 0,
              "ticks": ""
             }
            },
            "type": "scattergeo"
           }
          ],
          "scattergl": [
           {
            "marker": {
             "colorbar": {
              "outlinewidth": 0,
              "ticks": ""
             }
            },
            "type": "scattergl"
           }
          ],
          "scattermapbox": [
           {
            "marker": {
             "colorbar": {
              "outlinewidth": 0,
              "ticks": ""
             }
            },
            "type": "scattermapbox"
           }
          ],
          "scatterpolar": [
           {
            "marker": {
             "colorbar": {
              "outlinewidth": 0,
              "ticks": ""
             }
            },
            "type": "scatterpolar"
           }
          ],
          "scatterpolargl": [
           {
            "marker": {
             "colorbar": {
              "outlinewidth": 0,
              "ticks": ""
             }
            },
            "type": "scatterpolargl"
           }
          ],
          "scatterternary": [
           {
            "marker": {
             "colorbar": {
              "outlinewidth": 0,
              "ticks": ""
             }
            },
            "type": "scatterternary"
           }
          ],
          "surface": [
           {
            "colorbar": {
             "outlinewidth": 0,
             "ticks": ""
            },
            "colorscale": [
             [
              0,
              "#0d0887"
             ],
             [
              0.1111111111111111,
              "#46039f"
             ],
             [
              0.2222222222222222,
              "#7201a8"
             ],
             [
              0.3333333333333333,
              "#9c179e"
             ],
             [
              0.4444444444444444,
              "#bd3786"
             ],
             [
              0.5555555555555556,
              "#d8576b"
             ],
             [
              0.6666666666666666,
              "#ed7953"
             ],
             [
              0.7777777777777778,
              "#fb9f3a"
             ],
             [
              0.8888888888888888,
              "#fdca26"
             ],
             [
              1,
              "#f0f921"
             ]
            ],
            "type": "surface"
           }
          ],
          "table": [
           {
            "cells": {
             "fill": {
              "color": "#EBF0F8"
             },
             "line": {
              "color": "white"
             }
            },
            "header": {
             "fill": {
              "color": "#C8D4E3"
             },
             "line": {
              "color": "white"
             }
            },
            "type": "table"
           }
          ]
         },
         "layout": {
          "annotationdefaults": {
           "arrowcolor": "#2a3f5f",
           "arrowhead": 0,
           "arrowwidth": 1
          },
          "autotypenumbers": "strict",
          "coloraxis": {
           "colorbar": {
            "outlinewidth": 0,
            "ticks": ""
           }
          },
          "colorscale": {
           "diverging": [
            [
             0,
             "#8e0152"
            ],
            [
             0.1,
             "#c51b7d"
            ],
            [
             0.2,
             "#de77ae"
            ],
            [
             0.3,
             "#f1b6da"
            ],
            [
             0.4,
             "#fde0ef"
            ],
            [
             0.5,
             "#f7f7f7"
            ],
            [
             0.6,
             "#e6f5d0"
            ],
            [
             0.7,
             "#b8e186"
            ],
            [
             0.8,
             "#7fbc41"
            ],
            [
             0.9,
             "#4d9221"
            ],
            [
             1,
             "#276419"
            ]
           ],
           "sequential": [
            [
             0,
             "#0d0887"
            ],
            [
             0.1111111111111111,
             "#46039f"
            ],
            [
             0.2222222222222222,
             "#7201a8"
            ],
            [
             0.3333333333333333,
             "#9c179e"
            ],
            [
             0.4444444444444444,
             "#bd3786"
            ],
            [
             0.5555555555555556,
             "#d8576b"
            ],
            [
             0.6666666666666666,
             "#ed7953"
            ],
            [
             0.7777777777777778,
             "#fb9f3a"
            ],
            [
             0.8888888888888888,
             "#fdca26"
            ],
            [
             1,
             "#f0f921"
            ]
           ],
           "sequentialminus": [
            [
             0,
             "#0d0887"
            ],
            [
             0.1111111111111111,
             "#46039f"
            ],
            [
             0.2222222222222222,
             "#7201a8"
            ],
            [
             0.3333333333333333,
             "#9c179e"
            ],
            [
             0.4444444444444444,
             "#bd3786"
            ],
            [
             0.5555555555555556,
             "#d8576b"
            ],
            [
             0.6666666666666666,
             "#ed7953"
            ],
            [
             0.7777777777777778,
             "#fb9f3a"
            ],
            [
             0.8888888888888888,
             "#fdca26"
            ],
            [
             1,
             "#f0f921"
            ]
           ]
          },
          "colorway": [
           "#636efa",
           "#EF553B",
           "#00cc96",
           "#ab63fa",
           "#FFA15A",
           "#19d3f3",
           "#FF6692",
           "#B6E880",
           "#FF97FF",
           "#FECB52"
          ],
          "font": {
           "color": "#2a3f5f"
          },
          "geo": {
           "bgcolor": "white",
           "lakecolor": "white",
           "landcolor": "#E5ECF6",
           "showlakes": true,
           "showland": true,
           "subunitcolor": "white"
          },
          "hoverlabel": {
           "align": "left"
          },
          "hovermode": "closest",
          "mapbox": {
           "style": "light"
          },
          "paper_bgcolor": "white",
          "plot_bgcolor": "#E5ECF6",
          "polar": {
           "angularaxis": {
            "gridcolor": "white",
            "linecolor": "white",
            "ticks": ""
           },
           "bgcolor": "#E5ECF6",
           "radialaxis": {
            "gridcolor": "white",
            "linecolor": "white",
            "ticks": ""
           }
          },
          "scene": {
           "xaxis": {
            "backgroundcolor": "#E5ECF6",
            "gridcolor": "white",
            "gridwidth": 2,
            "linecolor": "white",
            "showbackground": true,
            "ticks": "",
            "zerolinecolor": "white"
           },
           "yaxis": {
            "backgroundcolor": "#E5ECF6",
            "gridcolor": "white",
            "gridwidth": 2,
            "linecolor": "white",
            "showbackground": true,
            "ticks": "",
            "zerolinecolor": "white"
           },
           "zaxis": {
            "backgroundcolor": "#E5ECF6",
            "gridcolor": "white",
            "gridwidth": 2,
            "linecolor": "white",
            "showbackground": true,
            "ticks": "",
            "zerolinecolor": "white"
           }
          },
          "shapedefaults": {
           "line": {
            "color": "#2a3f5f"
           }
          },
          "ternary": {
           "aaxis": {
            "gridcolor": "white",
            "linecolor": "white",
            "ticks": ""
           },
           "baxis": {
            "gridcolor": "white",
            "linecolor": "white",
            "ticks": ""
           },
           "bgcolor": "#E5ECF6",
           "caxis": {
            "gridcolor": "white",
            "linecolor": "white",
            "ticks": ""
           }
          },
          "title": {
           "x": 0.05
          },
          "xaxis": {
           "automargin": true,
           "gridcolor": "white",
           "linecolor": "white",
           "ticks": "",
           "title": {
            "standoff": 15
           },
           "zerolinecolor": "white",
           "zerolinewidth": 2
          },
          "yaxis": {
           "automargin": true,
           "gridcolor": "white",
           "linecolor": "white",
           "ticks": "",
           "title": {
            "standoff": 15
           },
           "zerolinecolor": "white",
           "zerolinewidth": 2
          }
         }
        },
        "title": {
         "text": "Credit Card: Number of Transactions by Location"
        },
        "xaxis": {
         "anchor": "y",
         "categoryarray": [
          "Katerina's Café",
          "Hippokampos",
          "Guy's Gyros",
          "Brew've Been Served",
          "Hallowed Grounds",
          "Ouzeri Elian",
          "Abila Zacharo",
          "Gelatogalore",
          "Kalami Kafenion",
          "Frydos Autosupply n' More",
          "Bean There Done That",
          "Coffee Cameleon",
          "Jack's Magical Beans",
          "Brewed Awakenings",
          "Abila Airport",
          "Albert's Fine Clothing",
          "Nationwide Refinery",
          "Shoppers' Delight",
          "Carlyle Chemical Inc.",
          "Stewart and Sons Fabrication",
          "Kronos Mart",
          "General Grocer",
          "Chostus Hotel",
          "Desafio Golf Course",
          "Roberts and Sons",
          "Coffee Shack",
          "Kronos Pipe and Irrigation",
          "Ahaggo Museum",
          "Maximum Iron and Steel",
          "Abila Scrapyard",
          "Octavio's Office Supplies",
          "Frank's Fuel",
          "U-Pump",
          "Daily Dealz"
         ],
         "categoryorder": "array",
         "domain": [
          0,
          1
         ],
         "title": {
          "text": "Location"
         }
        },
        "yaxis": {
         "anchor": "x",
         "domain": [
          0,
          1
         ],
         "title": {
          "text": "count"
         }
        }
       }
      }
     },
     "metadata": {},
     "output_type": "display_data"
    }
   ],
   "source": [
    "import plotly.express as px\n",
    "import pandas as pd\n",
    "\n",
    "data_cc = pd.read_csv('../data/cc_data.csv')\n",
    "\n",
    "fig_histogram = px.histogram(data_cc, x='location',\n",
    "                             title='Credit Card: Number of Transactions by Location',\n",
    "                             labels={'location': 'Location'},\n",
    "                             category_orders={'location': data_cc['location'].value_counts().index.tolist()}) \n",
    "\n",
    "fig_histogram.update_layout(bargap=0.2)\n",
    "fig_histogram.show()\n"
   ]
  },
  {
   "cell_type": "code",
   "execution_count": 3,
   "metadata": {},
   "outputs": [
    {
     "data": {
      "application/vnd.plotly.v1+json": {
       "config": {
        "plotlyServerURL": "https://plot.ly"
       },
       "data": [
        {
         "alignmentgroup": "True",
         "bingroup": "x",
         "hovertemplate": "Location=%{x}<br>count=%{y}<extra></extra>",
         "legendgroup": "",
         "marker": {
          "color": "#636efa",
          "pattern": {
           "shape": ""
          }
         },
         "name": "",
         "offsetgroup": "",
         "orientation": "v",
         "showlegend": false,
         "type": "histogram",
         "x": [
          "Brew've Been Served",
          "Brew've Been Served",
          "Hallowed Grounds",
          "Coffee Shack",
          "Hallowed Grounds",
          "Brew've Been Served",
          "Brew've Been Served",
          "Brew've Been Served",
          "Abila Zacharo",
          "Hippokampos",
          "Kalami Kafenion",
          "Katerina's Café",
          "Hippokampos",
          "Ouzeri Elian",
          "Kalami Kafenion",
          "Hippokampos",
          "Hippokampos",
          "Kalami Kafenion",
          "Katerina's Café",
          "Katerina's Café",
          "Frydos Autosupply n' More",
          "Frydos Autosupply n' More",
          "Katerina's Café",
          "Hippokampos",
          "Frydos Autosupply n' More",
          "Katerina's Café",
          "Brew've Been Served",
          "Hallowed Grounds",
          "Coffee Shack",
          "Brew've Been Served",
          "Brew've Been Served",
          "Hallowed Grounds",
          "Coffee Cameleon",
          "Brew've Been Served",
          "Hallowed Grounds",
          "Brew've Been Served",
          "Kalami Kafenion",
          "Ouzeri Elian",
          "Ouzeri Elian",
          "Abila Zacharo",
          "Gelatogalore",
          "Ouzeri Elian",
          "Katerina's Café",
          "Gelatogalore",
          "Hippokampos",
          "Albert's Fine Clothing",
          "Katerina's Café",
          "Katerina's Café",
          "Guy's Gyros",
          "Katerina's Café",
          "Ouzeri Elian",
          "Hallowed Grounds",
          "Brew've Been Served",
          "Hallowed Grounds",
          "Coffee Shack",
          "Brew've Been Served",
          "Brew've Been Served",
          "Brew've Been Served",
          "Hallowed Grounds",
          "Brew've Been Served",
          "Coffee Cameleon",
          "Abila Zacharo",
          "Gelatogalore",
          "Kalami Kafenion",
          "Kalami Kafenion",
          "Ouzeri Elian",
          "Abila Zacharo",
          "Gelatogalore",
          "Kalami Kafenion",
          "Gelatogalore",
          "Kalami Kafenion",
          "Katerina's Café",
          "Katerina's Café",
          "Frydos Autosupply n' More",
          "Frydos Autosupply n' More",
          "Hippokampos",
          "Katerina's Café",
          "Hallowed Grounds",
          "Coffee Shack",
          "Brew've Been Served",
          "Hallowed Grounds",
          "Coffee Cameleon",
          "Hallowed Grounds",
          "Gelatogalore",
          "Hippokampos",
          "Gelatogalore",
          "Hippokampos",
          "Gelatogalore",
          "Kalami Kafenion",
          "Kalami Kafenion",
          "Kalami Kafenion",
          "Guy's Gyros",
          "Gelatogalore",
          "Katerina's Café",
          "Katerina's Café",
          "Katerina's Café",
          "Katerina's Café",
          "Albert's Fine Clothing",
          "Katerina's Café",
          "Guy's Gyros",
          "Shoppers' Delight",
          "Hallowed Grounds",
          "Brew've Been Served",
          "Hallowed Grounds",
          "Coffee Cameleon",
          "Brew've Been Served",
          "Hallowed Grounds",
          "Brew've Been Served",
          "Katerina's Café",
          "Abila Zacharo",
          "Kalami Kafenion",
          "Guy's Gyros",
          "Ouzeri Elian",
          "Guy's Gyros",
          "Abila Zacharo",
          "Gelatogalore",
          "Hippokampos",
          "Frydos Autosupply n' More",
          "Katerina's Café",
          "Katerina's Café",
          "Guy's Gyros",
          "Katerina's Café",
          "Hippokampos",
          "Kalami Kafenion",
          "Shoppers' Delight",
          "General Grocer",
          "Katerina's Café",
          "Guy's Gyros",
          "Katerina's Café",
          "Katerina's Café",
          "Frydos Autosupply n' More",
          "Hippokampos",
          "Katerina's Café",
          "Ouzeri Elian",
          "Hippokampos",
          "Guy's Gyros",
          "Kronos Mart",
          "General Grocer",
          "Katerina's Café",
          "Frydos Autosupply n' More",
          "Katerina's Café",
          "Katerina's Café",
          "Katerina's Café",
          "Frydos Autosupply n' More",
          "Brew've Been Served",
          "Hallowed Grounds",
          "Brew've Been Served",
          "Coffee Cameleon",
          "Coffee Shack",
          "Hallowed Grounds",
          "Brew've Been Served",
          "Katerina's Café",
          "Hippokampos",
          "Guy's Gyros",
          "Kalami Kafenion",
          "Gelatogalore",
          "Guy's Gyros",
          "Gelatogalore",
          "Hippokampos",
          "Guy's Gyros",
          "Frydos Autosupply n' More",
          "Frydos Autosupply n' More",
          "Ouzeri Elian",
          "Katerina's Café",
          "Guy's Gyros",
          "Hippokampos",
          "Frydos Autosupply n' More",
          "Brew've Been Served",
          "Hallowed Grounds",
          "Brew've Been Served",
          "Brew've Been Served",
          "Coffee Cameleon",
          "Hallowed Grounds",
          "Brew've Been Served",
          "Coffee Shack",
          "Hallowed Grounds",
          "Brew've Been Served",
          "Abila Zacharo",
          "Kalami Kafenion",
          "Katerina's Café",
          "Katerina's Café",
          "Ouzeri Elian",
          "Kalami Kafenion",
          "Gelatogalore",
          "Ouzeri Elian",
          "Gelatogalore",
          "Hippokampos",
          "Guy's Gyros",
          "Katerina's Café",
          "Katerina's Café",
          "Ouzeri Elian",
          "Katerina's Café",
          "Katerina's Café",
          "Frydos Autosupply n' More",
          "Hallowed Grounds",
          "Brew've Been Served",
          "Brew've Been Served",
          "Brew've Been Served",
          "Coffee Shack",
          "Coffee Cameleon",
          "Hallowed Grounds",
          "Brew've Been Served",
          "Katerina's Café",
          "Kalami Kafenion",
          "Ouzeri Elian",
          "Kalami Kafenion",
          "Guy's Gyros",
          "Gelatogalore",
          "Ouzeri Elian",
          "Guy's Gyros",
          "Gelatogalore",
          "Abila Zacharo",
          "Katerina's Café",
          "Guy's Gyros",
          "Katerina's Café",
          "Katerina's Café",
          "Katerina's Café",
          "Katerina's Café",
          "Albert's Fine Clothing",
          "Frydos Autosupply n' More",
          "Ouzeri Elian",
          "Brew've Been Served",
          "Hallowed Grounds",
          "Coffee Shack",
          "Brew've Been Served",
          "Coffee Cameleon",
          "Hallowed Grounds",
          "Hallowed Grounds",
          "Brew've Been Served",
          "Katerina's Café",
          "Hippokampos",
          "Abila Zacharo",
          "Katerina's Café",
          "Kalami Kafenion",
          "Ouzeri Elian",
          "Ouzeri Elian",
          "Ouzeri Elian",
          "Guy's Gyros",
          "Octavio's Office Supplies",
          "Katerina's Café",
          "Katerina's Café",
          "Albert's Fine Clothing",
          "Katerina's Café",
          "Ouzeri Elian",
          "Katerina's Café",
          "Katerina's Café",
          "Frydos Autosupply n' More",
          "Brew've Been Served",
          "Brew've Been Served",
          "Coffee Shack",
          "Hallowed Grounds",
          "Coffee Cameleon",
          "Brew've Been Served",
          "Brew've Been Served",
          "Hippokampos",
          "Gelatogalore",
          "Hippokampos",
          "Kalami Kafenion",
          "Guy's Gyros",
          "Guy's Gyros",
          "Abila Zacharo",
          "Katerina's Café",
          "Ouzeri Elian",
          "Katerina's Café",
          "Hippokampos",
          "Frydos Autosupply n' More",
          "Katerina's Café",
          "Katerina's Café",
          "Ouzeri Elian",
          "Katerina's Café",
          "Frydos Autosupply n' More",
          "Katerina's Café",
          "Kalami Kafenion",
          "Kalami Kafenion",
          "Gelatogalore",
          "Katerina's Café",
          "Frydos Autosupply n' More",
          "Albert's Fine Clothing",
          "Frydos Autosupply n' More",
          "Guy's Gyros",
          "Ouzeri Elian",
          "Katerina's Café",
          "Katerina's Café",
          "Hippokampos",
          "Albert's Fine Clothing",
          "Hallowed Grounds",
          "Bean There Done That",
          "Guy's Gyros",
          "Hippokampos",
          "Bean There Done That",
          "Guy's Gyros",
          "Abila Zacharo",
          "Brewed Awakenings",
          "Hippokampos",
          "Jack's Magical Beans",
          "Katerina's Café",
          "Coffee Cameleon",
          "Gelatogalore",
          "Katerina's Café",
          "Brew've Been Served",
          "Katerina's Café",
          "Brewed Awakenings",
          "Ouzeri Elian",
          "Gelatogalore",
          "Bean There Done That",
          "Hippokampos",
          "Hippokampos",
          "Brewed Awakenings",
          "Hippokampos",
          "Bean There Done That",
          "Hippokampos",
          "Abila Zacharo",
          "Guy's Gyros",
          "Hallowed Grounds",
          "Hallowed Grounds",
          "Katerina's Café",
          "Katerina's Café",
          "Brew've Been Served",
          "Gelatogalore",
          "Guy's Gyros",
          "Brew've Been Served",
          "Guy's Gyros",
          "Guy's Gyros",
          "Hallowed Grounds",
          "Katerina's Café",
          "Bean There Done That",
          "Hippokampos",
          "Ouzeri Elian",
          "Brew've Been Served",
          "Guy's Gyros",
          "Ouzeri Elian",
          "Carlyle Chemical Inc.",
          "Abila Airport",
          "Abila Airport",
          "Kronos Pipe and Irrigation",
          "Maximum Iron and Steel",
          "Ouzeri Elian",
          "Brew've Been Served",
          "Brew've Been Served",
          "Guy's Gyros",
          "Kalami Kafenion",
          "U-Pump",
          "Abila Airport",
          "Albert's Fine Clothing",
          "Brew've Been Served",
          "Kalami Kafenion",
          "Nationwide Refinery",
          "Stewart and Sons Fabrication",
          "Coffee Cameleon",
          "Frydos Autosupply n' More",
          "Frydos Autosupply n' More",
          "Guy's Gyros",
          "Abila Zacharo",
          "Frydos Autosupply n' More",
          "Jack's Magical Beans",
          "Gelatogalore",
          "Hallowed Grounds",
          "Katerina's Café",
          "Abila Zacharo",
          "Brew've Been Served",
          "Katerina's Café",
          "Coffee Cameleon",
          "Katerina's Café",
          "Ouzeri Elian",
          "Brew've Been Served",
          "Guy's Gyros",
          "Katerina's Café",
          "Jack's Magical Beans",
          "Brew've Been Served",
          "Ouzeri Elian",
          "Brew've Been Served",
          "Hippokampos",
          "Abila Zacharo",
          "Brew've Been Served",
          "Shoppers' Delight",
          "Guy's Gyros",
          "Jack's Magical Beans",
          "Gelatogalore",
          "Hallowed Grounds",
          "Ouzeri Elian",
          "Abila Zacharo",
          "Bean There Done That",
          "Hippokampos",
          "Guy's Gyros",
          "Abila Zacharo",
          "Hippokampos",
          "Abila Zacharo",
          "Jack's Magical Beans",
          "Coffee Cameleon",
          "Gelatogalore",
          "Katerina's Café",
          "Brewed Awakenings",
          "Guy's Gyros",
          "Hippokampos",
          "Brewed Awakenings",
          "Guy's Gyros",
          "Hippokampos",
          "Hallowed Grounds",
          "Katerina's Café",
          "Katerina's Café",
          "Bean There Done That",
          "Hippokampos",
          "Kalami Kafenion",
          "Brewed Awakenings",
          "Gelatogalore",
          "Hippokampos",
          "Bean There Done That",
          "Hippokampos",
          "Hallowed Grounds",
          "Kalami Kafenion",
          "Gelatogalore",
          "Abila Zacharo",
          "Guy's Gyros",
          "Brew've Been Served",
          "Guy's Gyros",
          "Kalami Kafenion",
          "Guy's Gyros",
          "Hallowed Grounds",
          "Katerina's Café",
          "Albert's Fine Clothing",
          "Bean There Done That",
          "Ouzeri Elian",
          "Guy's Gyros",
          "Abila Airport",
          "Stewart and Sons Fabrication",
          "Brew've Been Served",
          "Brew've Been Served",
          "Guy's Gyros",
          "Katerina's Café",
          "Abila Airport",
          "Abila Airport",
          "Brew've Been Served",
          "Katerina's Café",
          "Carlyle Chemical Inc.",
          "Katerina's Café",
          "Nationwide Refinery",
          "Nationwide Refinery",
          "Stewart and Sons Fabrication",
          "Kronos Pipe and Irrigation",
          "Maximum Iron and Steel",
          "Coffee Cameleon",
          "Katerina's Café",
          "Ouzeri Elian",
          "Hallowed Grounds",
          "Katerina's Café",
          "Jack's Magical Beans",
          "Kalami Kafenion",
          "Ouzeri Elian",
          "Hallowed Grounds",
          "Hippokampos",
          "Katerina's Café",
          "Brew've Been Served",
          "Gelatogalore",
          "Katerina's Café",
          "Coffee Cameleon",
          "Gelatogalore",
          "Katerina's Café",
          "Brew've Been Served",
          "Frydos Autosupply n' More",
          "Ouzeri Elian",
          "Abila Scrapyard",
          "Abila Airport",
          "Nationwide Refinery",
          "Guy's Gyros",
          "Jack's Magical Beans",
          "Abila Zacharo",
          "Brew've Been Served",
          "Kalami Kafenion",
          "Brewed Awakenings",
          "Guy's Gyros",
          "Guy's Gyros",
          "Gelatogalore",
          "Hippokampos",
          "Jack's Magical Beans",
          "Hippokampos",
          "Ouzeri Elian",
          "Abila Zacharo",
          "Bean There Done That",
          "Hippokampos",
          "Albert's Fine Clothing",
          "Bean There Done That",
          "Hippokampos",
          "Brewed Awakenings",
          "Hippokampos",
          "Ouzeri Elian",
          "Jack's Magical Beans",
          "Katerina's Café",
          "Ouzeri Elian",
          "Coffee Cameleon",
          "Hippokampos",
          "Katerina's Café",
          "Brew've Been Served",
          "Frank's Fuel",
          "Frydos Autosupply n' More",
          "Guy's Gyros",
          "Brewed Awakenings",
          "Chostus Hotel",
          "Hippokampos",
          "Gelatogalore",
          "Hallowed Grounds",
          "Katerina's Café",
          "Hippokampos",
          "Hippokampos",
          "Hippokampos",
          "Bean There Done That",
          "Hippokampos",
          "General Grocer",
          "Guy's Gyros",
          "Hallowed Grounds",
          "Katerina's Café",
          "Brew've Been Served",
          "Gelatogalore",
          "Brew've Been Served",
          "Guy's Gyros",
          "Guy's Gyros",
          "Abila Zacharo",
          "Hallowed Grounds",
          "Bean There Done That",
          "Hippokampos",
          "Katerina's Café",
          "Brew've Been Served",
          "Kalami Kafenion",
          "Brew've Been Served",
          "Brew've Been Served",
          "Gelatogalore",
          "Guy's Gyros",
          "Abila Airport",
          "Abila Airport",
          "Brew've Been Served",
          "Guy's Gyros",
          "Guy's Gyros",
          "Nationwide Refinery",
          "Stewart and Sons Fabrication",
          "Carlyle Chemical Inc.",
          "Katerina's Café",
          "Nationwide Refinery",
          "Nationwide Refinery",
          "Stewart and Sons Fabrication",
          "Carlyle Chemical Inc.",
          "Kronos Pipe and Irrigation",
          "Maximum Iron and Steel",
          "Coffee Cameleon",
          "Katerina's Café",
          "Katerina's Café",
          "Katerina's Café",
          "Gelatogalore",
          "Jack's Magical Beans",
          "Ouzeri Elian",
          "Hallowed Grounds",
          "Kalami Kafenion",
          "Brew've Been Served",
          "Gelatogalore",
          "Coffee Cameleon",
          "Kalami Kafenion",
          "Katerina's Café",
          "Abila Zacharo",
          "Brew've Been Served",
          "Jack's Magical Beans",
          "Ouzeri Elian",
          "Brew've Been Served",
          "Chostus Hotel",
          "Guy's Gyros",
          "Brew've Been Served",
          "Hippokampos",
          "Brew've Been Served",
          "Guy's Gyros",
          "Kalami Kafenion",
          "Abila Zacharo",
          "Hippokampos",
          "Jack's Magical Beans",
          "Abila Zacharo",
          "Hallowed Grounds",
          "Bean There Done That",
          "Guy's Gyros",
          "Hippokampos",
          "Hippokampos",
          "Kronos Mart",
          "Ouzeri Elian",
          "Gelatogalore",
          "Jack's Magical Beans",
          "Katerina's Café",
          "Frydos Autosupply n' More",
          "Jack's Magical Beans",
          "Katerina's Café",
          "Brewed Awakenings",
          "Gelatogalore",
          "Hippokampos",
          "Guy's Gyros",
          "Guy's Gyros",
          "Bean There Done That",
          "Katerina's Café",
          "Albert's Fine Clothing",
          "Brewed Awakenings",
          "Frydos Autosupply n' More",
          "Hippokampos",
          "Hallowed Grounds",
          "Ouzeri Elian",
          "Abila Zacharo",
          "Hallowed Grounds",
          "Abila Zacharo",
          "Brew've Been Served",
          "Guy's Gyros",
          "Kalami Kafenion",
          "Guy's Gyros",
          "Hallowed Grounds",
          "Katerina's Café",
          "Bean There Done That",
          "Hippokampos",
          "Kalami Kafenion",
          "Brew've Been Served",
          "Guy's Gyros",
          "Ouzeri Elian",
          "Abila Airport",
          "Nationwide Refinery",
          "Stewart and Sons Fabrication",
          "Brew've Been Served",
          "Guy's Gyros",
          "Abila Zacharo",
          "Brew've Been Served",
          "Frydos Autosupply n' More",
          "Abila Airport",
          "Abila Airport",
          "Brew've Been Served",
          "Guy's Gyros",
          "Hippokampos",
          "Carlyle Chemical Inc.",
          "Carlyle Chemical Inc.",
          "Carlyle Chemical Inc.",
          "Katerina's Café",
          "Nationwide Refinery",
          "Nationwide Refinery",
          "Stewart and Sons Fabrication",
          "Carlyle Chemical Inc.",
          "Kronos Pipe and Irrigation",
          "Maximum Iron and Steel",
          "Coffee Cameleon",
          "Hallowed Grounds",
          "Hippokampos",
          "Katerina's Café",
          "Abila Zacharo",
          "Katerina's Café",
          "Gelatogalore",
          "Hallowed Grounds",
          "Coffee Cameleon",
          "Guy's Gyros",
          "Katerina's Café",
          "Brew've Been Served",
          "Abila Scrapyard",
          "Abila Airport",
          "Nationwide Refinery",
          "Stewart and Sons Fabrication",
          "Hippokampos",
          "Katerina's Café",
          "Brew've Been Served",
          "Hippokampos",
          "Brew've Been Served",
          "Gelatogalore",
          "General Grocer",
          "Brew've Been Served",
          "Guy's Gyros",
          "Guy's Gyros",
          "Abila Zacharo",
          "Hippokampos",
          "Jack's Magical Beans",
          "Hallowed Grounds",
          "Bean There Done That",
          "Gelatogalore",
          "Hippokampos",
          "Bean There Done That",
          "Guy's Gyros",
          "Brewed Awakenings",
          "Hippokampos",
          "Katerina's Café",
          "Abila Zacharo",
          "Jack's Magical Beans",
          "Ouzeri Elian",
          "Coffee Cameleon",
          "Guy's Gyros",
          "Octavio's Office Supplies",
          "Brew've Been Served",
          "Ouzeri Elian",
          "Brewed Awakenings",
          "Hallowed Grounds",
          "Ouzeri Elian",
          "Bean There Done That",
          "Ouzeri Elian",
          "Brewed Awakenings",
          "Hippokampos",
          "Hippokampos",
          "Bean There Done That",
          "Guy's Gyros",
          "Hallowed Grounds",
          "Katerina's Café",
          "Abila Zacharo",
          "Hallowed Grounds",
          "Abila Zacharo",
          "Brew've Been Served",
          "Shoppers' Delight",
          "Brew've Been Served",
          "Frydos Autosupply n' More",
          "Guy's Gyros",
          "Hallowed Grounds",
          "Ouzeri Elian",
          "Albert's Fine Clothing",
          "Bean There Done That",
          "Katerina's Café",
          "Brew've Been Served",
          "Guy's Gyros",
          "Guy's Gyros",
          "Carlyle Chemical Inc.",
          "Nationwide Refinery",
          "Stewart and Sons Fabrication",
          "Brew've Been Served",
          "Brew've Been Served",
          "Kalami Kafenion",
          "Brew've Been Served",
          "General Grocer",
          "Kalami Kafenion",
          "Nationwide Refinery",
          "Stewart and Sons Fabrication",
          "Carlyle Chemical Inc.",
          "Katerina's Café",
          "Abila Zacharo",
          "Hallowed Grounds",
          "Jack's Magical Beans",
          "Kalami Kafenion",
          "Abila Zacharo",
          "Brew've Been Served",
          "Katerina's Café",
          "Ouzeri Elian",
          "Coffee Cameleon",
          "Gelatogalore",
          "Katerina's Café",
          "Brew've Been Served",
          "Guy's Gyros",
          "Hippokampos",
          "Guy's Gyros",
          "Jack's Magical Beans",
          "Chostus Hotel",
          "Brew've Been Served",
          "Guy's Gyros",
          "Hippokampos",
          "Octavio's Office Supplies",
          "Brew've Been Served",
          "Katerina's Café",
          "Hippokampos",
          "Hippokampos",
          "Hippokampos",
          "Hippokampos",
          "Frydos Autosupply n' More",
          "Hippokampos",
          "Hippokampos",
          "Ouzeri Elian",
          "Katerina's Café",
          "Abila Zacharo",
          "Katerina's Café",
          "Katerina's Café",
          "Hippokampos",
          "Katerina's Café",
          "Kalami Kafenion",
          "Katerina's Café",
          "Kalami Kafenion",
          "Guy's Gyros",
          "Gelatogalore",
          "Katerina's Café",
          "Katerina's Café",
          "Guy's Gyros",
          "Katerina's Café",
          "Albert's Fine Clothing",
          "Hippokampos",
          "Katerina's Café",
          "Katerina's Café",
          "Abila Zacharo",
          "Katerina's Café",
          "Kalami Kafenion",
          "Katerina's Café",
          "Katerina's Café",
          "Abila Zacharo",
          "Frydos Autosupply n' More",
          "Albert's Fine Clothing",
          "Katerina's Café",
          "Ahaggo Museum",
          "Hippokampos",
          "Ahaggo Museum",
          "Hippokampos",
          "Guy's Gyros",
          "Hippokampos",
          "Hippokampos",
          "Hippokampos",
          "Desafio Golf Course",
          "Hippokampos",
          "Ouzeri Elian",
          "Katerina's Café",
          "Guy's Gyros",
          "Hippokampos",
          "Kalami Kafenion",
          "Hippokampos",
          "Katerina's Café",
          "Albert's Fine Clothing",
          "Desafio Golf Course",
          "Hippokampos",
          "Ouzeri Elian",
          "Hippokampos",
          "Guy's Gyros",
          "Hippokampos",
          "Katerina's Café",
          "Ouzeri Elian",
          "Shoppers' Delight",
          "Shoppers' Delight",
          "Hippokampos",
          "Kronos Mart",
          "Shoppers' Delight",
          "Guy's Gyros",
          "Albert's Fine Clothing",
          "Hippokampos",
          "Ouzeri Elian",
          "Shoppers' Delight",
          "Gelatogalore",
          "Kalami Kafenion",
          "Katerina's Café",
          "Katerina's Café",
          "Katerina's Café",
          "Shoppers' Delight",
          "Ahaggo Museum",
          "Guy's Gyros",
          "Hippokampos",
          "Ouzeri Elian",
          "Abila Zacharo",
          "Desafio Golf Course",
          "Hallowed Grounds",
          "Hippokampos",
          "Ouzeri Elian",
          "Bean There Done That",
          "Gelatogalore",
          "Hippokampos",
          "Abila Zacharo",
          "Bean There Done That",
          "Abila Zacharo",
          "Albert's Fine Clothing",
          "Brewed Awakenings",
          "Jack's Magical Beans",
          "Katerina's Café",
          "Coffee Cameleon",
          "Hippokampos",
          "Abila Zacharo",
          "Brew've Been Served",
          "Shoppers' Delight",
          "Brewed Awakenings",
          "Guy's Gyros",
          "Hallowed Grounds",
          "Katerina's Café",
          "Katerina's Café",
          "Bean There Done That",
          "Ouzeri Elian",
          "Brewed Awakenings",
          "Gelatogalore",
          "Hippokampos",
          "Abila Zacharo",
          "Albert's Fine Clothing",
          "Bean There Done That",
          "Guy's Gyros",
          "Guy's Gyros",
          "Hallowed Grounds",
          "Bean There Done That",
          "Katerina's Café",
          "Katerina's Café",
          "Abila Zacharo",
          "Brew've Been Served",
          "Guy's Gyros",
          "Brew've Been Served",
          "Guy's Gyros",
          "Hippokampos",
          "Bean There Done That",
          "Hippokampos",
          "Abila Zacharo",
          "Bean There Done That",
          "Abila Zacharo",
          "Brew've Been Served",
          "Carlyle Chemical Inc.",
          "Abila Airport",
          "Kronos Pipe and Irrigation",
          "Maximum Iron and Steel",
          "Ouzeri Elian",
          "Brew've Been Served",
          "Guy's Gyros",
          "Brew've Been Served",
          "Abila Airport",
          "Abila Airport",
          "Brew've Been Served",
          "Frydos Autosupply n' More",
          "Hippokampos",
          "Nationwide Refinery",
          "Stewart and Sons Fabrication",
          "Coffee Cameleon",
          "Guy's Gyros",
          "Katerina's Café",
          "Katerina's Café",
          "Ouzeri Elian",
          "Abila Zacharo",
          "Jack's Magical Beans",
          "Hallowed Grounds",
          "Katerina's Café",
          "Hallowed Grounds",
          "Katerina's Café",
          "Coffee Cameleon",
          "Katerina's Café",
          "Katerina's Café",
          "Guy's Gyros",
          "Shoppers' Delight",
          "Gelatogalore",
          "Hippokampos",
          "Jack's Magical Beans",
          "Abila Zacharo",
          "Brew've Been Served",
          "Brew've Been Served",
          "Guy's Gyros",
          "Ouzeri Elian",
          "Brew've Been Served",
          "Guy's Gyros",
          "Hippokampos",
          "Guy's Gyros",
          "Hippokampos",
          "Jack's Magical Beans",
          "Kalami Kafenion",
          "Ouzeri Elian",
          "Bean There Done That",
          "Hippokampos",
          "Albert's Fine Clothing",
          "Bean There Done That",
          "Kalami Kafenion",
          "Brewed Awakenings",
          "Jack's Magical Beans",
          "Ouzeri Elian",
          "Coffee Cameleon",
          "Hippokampos",
          "Brew've Been Served",
          "Hippokampos",
          "Brewed Awakenings",
          "Chostus Hotel",
          "Hippokampos",
          "Hallowed Grounds",
          "Hippokampos",
          "Katerina's Café",
          "Gelatogalore",
          "Hippokampos",
          "Brewed Awakenings",
          "Hippokampos",
          "Kalami Kafenion",
          "Bean There Done That",
          "Kalami Kafenion",
          "Guy's Gyros",
          "Hallowed Grounds",
          "Ouzeri Elian",
          "Guy's Gyros",
          "Hallowed Grounds",
          "Katerina's Café",
          "Brew've Been Served",
          "Guy's Gyros",
          "Katerina's Café",
          "Brew've Been Served",
          "Gelatogalore",
          "Guy's Gyros",
          "Guy's Gyros",
          "Hallowed Grounds",
          "Katerina's Café",
          "Bean There Done That",
          "Katerina's Café",
          "Abila Zacharo",
          "Brew've Been Served",
          "Abila Airport",
          "Nationwide Refinery",
          "Stewart and Sons Fabrication",
          "Brew've Been Served",
          "Albert's Fine Clothing",
          "Brew've Been Served",
          "Ouzeri Elian",
          "Abila Airport",
          "Abila Airport",
          "Abila Zacharo",
          "Brewed Awakenings",
          "Frydos Autosupply n' More",
          "Carlyle Chemical Inc.",
          "Carlyle Chemical Inc.",
          "Carlyle Chemical Inc.",
          "Nationwide Refinery",
          "Nationwide Refinery",
          "Stewart and Sons Fabrication",
          "Coffee Cameleon",
          "Abila Zacharo",
          "Hallowed Grounds",
          "Guy's Gyros",
          "Jack's Magical Beans",
          "Kalami Kafenion",
          "Katerina's Café",
          "Abila Zacharo",
          "Brew've Been Served",
          "Roberts and Sons",
          "Coffee Cameleon",
          "Katerina's Café",
          "Katerina's Café",
          "Brew've Been Served",
          "Frydos Autosupply n' More",
          "Hippokampos",
          "Abila Scrapyard",
          "Abila Airport",
          "Nationwide Refinery",
          "Jack's Magical Beans",
          "Katerina's Café",
          "Brew've Been Served",
          "Chostus Hotel",
          "Brew've Been Served",
          "Guy's Gyros",
          "Katerina's Café",
          "Brew've Been Served",
          "Guy's Gyros",
          "Katerina's Café",
          "Gelatogalore",
          "Hippokampos",
          "Jack's Magical Beans",
          "Hallowed Grounds",
          "Ouzeri Elian",
          "Ouzeri Elian",
          "Guy's Gyros",
          "Abila Zacharo",
          "Bean There Done That",
          "Hippokampos",
          "Abila Zacharo",
          "Brewed Awakenings",
          "Hippokampos",
          "Ouzeri Elian",
          "Coffee Cameleon",
          "Katerina's Café",
          "Ouzeri Elian",
          "Brew've Been Served",
          "Gelatogalore",
          "Guy's Gyros",
          "Brewed Awakenings",
          "Frydos Autosupply n' More",
          "Hippokampos",
          "Abila Zacharo",
          "Bean There Done That",
          "Hippokampos",
          "Hippokampos",
          "Brewed Awakenings",
          "Hippokampos",
          "Shoppers' Delight",
          "Bean There Done That",
          "Hippokampos",
          "Ouzeri Elian",
          "Hallowed Grounds",
          "Kronos Mart",
          "Ouzeri Elian",
          "Kalami Kafenion",
          "Brew've Been Served",
          "Gelatogalore",
          "General Grocer",
          "Brew've Been Served",
          "Guy's Gyros",
          "Hallowed Grounds",
          "Katerina's Café",
          "Bean There Done That",
          "Hippokampos",
          "Kalami Kafenion",
          "Brew've Been Served",
          "Guy's Gyros",
          "Brew've Been Served",
          "Guy's Gyros",
          "Brew've Been Served",
          "Guy's Gyros",
          "Ouzeri Elian",
          "Abila Airport",
          "Abila Airport",
          "Brew've Been Served",
          "Guy's Gyros",
          "Hippokampos",
          "Stewart and Sons Fabrication",
          "Carlyle Chemical Inc.",
          "Carlyle Chemical Inc.",
          "Carlyle Chemical Inc.",
          "Katerina's Café",
          "Nationwide Refinery",
          "Nationwide Refinery",
          "Kronos Pipe and Irrigation",
          "Maximum Iron and Steel",
          "Coffee Cameleon",
          "Guy's Gyros",
          "Katerina's Café",
          "Katerina's Café",
          "Jack's Magical Beans",
          "Katerina's Café",
          "Ouzeri Elian",
          "Abila Zacharo",
          "Hallowed Grounds",
          "Katerina's Café",
          "Brew've Been Served",
          "Abila Zacharo",
          "Coffee Cameleon",
          "Katerina's Café",
          "Brew've Been Served",
          "Kalami Kafenion",
          "Hippokampos",
          "Jack's Magical Beans",
          "Kalami Kafenion",
          "Brew've Been Served",
          "Frydos Autosupply n' More",
          "Hippokampos",
          "Brew've Been Served",
          "General Grocer",
          "Guy's Gyros",
          "Guy's Gyros",
          "Guy's Gyros",
          "Gelatogalore",
          "General Grocer",
          "Jack's Magical Beans",
          "Guy's Gyros",
          "Hallowed Grounds",
          "Ouzeri Elian",
          "Bean There Done That",
          "Hippokampos",
          "Kronos Mart",
          "Bean There Done That",
          "Hippokampos",
          "Kalami Kafenion",
          "Hippokampos",
          "Katerina's Café",
          "Hippokampos",
          "Jack's Magical Beans",
          "Ouzeri Elian",
          "Coffee Cameleon",
          "Hippokampos",
          "Katerina's Café",
          "Brew've Been Served",
          "Ouzeri Elian",
          "Brewed Awakenings",
          "Hippokampos",
          "Guy's Gyros",
          "Hallowed Grounds",
          "Katerina's Café",
          "Bean There Done That",
          "Guy's Gyros",
          "Shoppers' Delight",
          "Brewed Awakenings",
          "Hippokampos",
          "Hippokampos",
          "Hippokampos",
          "Guy's Gyros",
          "Hallowed Grounds",
          "Frydos Autosupply n' More",
          "Gelatogalore",
          "Hallowed Grounds",
          "Albert's Fine Clothing",
          "Brew've Been Served",
          "Guy's Gyros",
          "Brew've Been Served",
          "Guy's Gyros",
          "Kalami Kafenion",
          "Hallowed Grounds",
          "Hippokampos",
          "Katerina's Café",
          "Bean There Done That",
          "Hippokampos",
          "Kalami Kafenion",
          "Brew've Been Served",
          "Guy's Gyros",
          "Guy's Gyros",
          "Abila Airport",
          "Nationwide Refinery",
          "Stewart and Sons Fabrication",
          "Brew've Been Served",
          "Shoppers' Delight",
          "Brew've Been Served",
          "Guy's Gyros",
          "Katerina's Café",
          "Abila Airport",
          "Abila Airport",
          "Brew've Been Served",
          "Gelatogalore",
          "Roberts and Sons",
          "Carlyle Chemical Inc.",
          "Carlyle Chemical Inc.",
          "Katerina's Café",
          "Nationwide Refinery",
          "Nationwide Refinery",
          "Stewart and Sons Fabrication",
          "Katerina's Café",
          "Abila Zacharo",
          "Jack's Magical Beans",
          "Ouzeri Elian",
          "Hallowed Grounds",
          "Kalami Kafenion",
          "Katerina's Café",
          "Gelatogalore",
          "Hallowed Grounds",
          "Katerina's Café",
          "Abila Zacharo",
          "Coffee Cameleon",
          "Katerina's Café",
          "Abila Zacharo",
          "Guy's Gyros",
          "Abila Scrapyard",
          "Abila Airport",
          "Jack's Magical Beans",
          "Guy's Gyros",
          "Katerina's Café",
          "Brew've Been Served",
          "Guy's Gyros",
          "Brew've Been Served",
          "Hippokampos",
          "Roberts and Sons",
          "Gelatogalore",
          "Jack's Magical Beans",
          "Hallowed Grounds",
          "Ouzeri Elian",
          "Bean There Done That",
          "Bean There Done That",
          "Gelatogalore",
          "Hippokampos",
          "Brewed Awakenings",
          "Guy's Gyros",
          "Hippokampos",
          "Jack's Magical Beans",
          "Ouzeri Elian",
          "Coffee Cameleon",
          "Kalami Kafenion",
          "Katerina's Café",
          "Brew've Been Served",
          "Guy's Gyros",
          "Guy's Gyros",
          "Brewed Awakenings",
          "Chostus Hotel",
          "Hippokampos",
          "Hallowed Grounds",
          "Katerina's Café",
          "Bean There Done That",
          "Hippokampos",
          "Abila Zacharo",
          "Brewed Awakenings",
          "Hippokampos",
          "Albert's Fine Clothing",
          "Bean There Done That",
          "Katerina's Café",
          "General Grocer",
          "Kalami Kafenion",
          "Hallowed Grounds",
          "Kalami Kafenion",
          "Brew've Been Served",
          "Gelatogalore",
          "Guy's Gyros",
          "Brew've Been Served",
          "Shoppers' Delight",
          "Hallowed Grounds",
          "Hippokampos",
          "Abila Zacharo",
          "Bean There Done That",
          "Coffee Cameleon",
          "Guy's Gyros",
          "Hippokampos",
          "Brew've Been Served",
          "Shoppers' Delight",
          "Brew've Been Served",
          "Guy's Gyros",
          "Guy's Gyros",
          "Guy's Gyros",
          "Katerina's Café",
          "Stewart and Sons Fabrication",
          "Abila Zacharo",
          "Coffee Cameleon",
          "Katerina's Café",
          "Hallowed Grounds",
          "Katerina's Café",
          "Hippokampos",
          "Jack's Magical Beans",
          "Ouzeri Elian",
          "Gelatogalore",
          "Hallowed Grounds",
          "Katerina's Café",
          "Brew've Been Served",
          "Katerina's Café",
          "Coffee Cameleon",
          "Katerina's Café",
          "Brew've Been Served",
          "Guy's Gyros",
          "Abila Zacharo",
          "Hallowed Grounds",
          "Gelatogalore",
          "Brew've Been Served",
          "Chostus Hotel",
          "Guy's Gyros",
          "Brew've Been Served",
          "Guy's Gyros",
          "Hippokampos",
          "Abila Zacharo",
          "Brew've Been Served",
          "Hippokampos",
          "Kalami Kafenion",
          "Abila Zacharo",
          "Kronos Mart",
          "Ouzeri Elian",
          "Hippokampos",
          "Frank's Fuel",
          "Kalami Kafenion",
          "Katerina's Café",
          "Ouzeri Elian",
          "Abila Zacharo",
          "Roberts and Sons",
          "Kalami Kafenion",
          "Katerina's Café",
          "Abila Zacharo",
          "Roberts and Sons",
          "Katerina's Café",
          "Frydos Autosupply n' More",
          "Hippokampos",
          "Hippokampos",
          "Kalami Kafenion",
          "Kronos Mart",
          "Kalami Kafenion",
          "Frydos Autosupply n' More",
          "Guy's Gyros",
          "Katerina's Café",
          "Katerina's Café",
          "Ahaggo Museum",
          "Guy's Gyros",
          "Guy's Gyros",
          "Roberts and Sons",
          "Albert's Fine Clothing",
          "Hippokampos",
          "Ouzeri Elian",
          "Guy's Gyros",
          "Katerina's Café",
          "Kronos Mart",
          "Katerina's Café",
          "Katerina's Café",
          "Ahaggo Museum",
          "Hippokampos",
          "General Grocer",
          "Katerina's Café",
          "Ouzeri Elian",
          "General Grocer",
          "Kalami Kafenion",
          "Chostus Hotel",
          "Katerina's Café",
          "Abila Zacharo",
          "Albert's Fine Clothing",
          "Shoppers' Delight",
          "Abila Zacharo",
          "Katerina's Café",
          "Frydos Autosupply n' More",
          "Hippokampos",
          "Kalami Kafenion",
          "Hippokampos",
          "Hippokampos",
          "Desafio Golf Course",
          "Ouzeri Elian",
          "Guy's Gyros",
          "Albert's Fine Clothing",
          "Katerina's Café",
          "Hippokampos",
          "Desafio Golf Course",
          "Hippokampos",
          "Guy's Gyros",
          "Katerina's Café",
          "Guy's Gyros",
          "Ouzeri Elian",
          "Katerina's Café",
          "Gelatogalore",
          "General Grocer",
          "Hippokampos",
          "Guy's Gyros",
          "Frydos Autosupply n' More",
          "Guy's Gyros",
          "Ouzeri Elian",
          "Guy's Gyros",
          "Katerina's Café",
          "Albert's Fine Clothing",
          "Shoppers' Delight",
          "Ahaggo Museum",
          "Guy's Gyros",
          "Frydos Autosupply n' More",
          "Katerina's Café",
          "Abila Zacharo",
          "Guy's Gyros",
          "Desafio Golf Course",
          "Guy's Gyros",
          "Desafio Golf Course",
          "Hippokampos",
          "Guy's Gyros",
          "Frydos Autosupply n' More",
          "Katerina's Café",
          "Guy's Gyros",
          "Katerina's Café",
          "Desafio Golf Course",
          "Hippokampos"
         ],
         "xaxis": "x",
         "yaxis": "y"
        }
       ],
       "layout": {
        "bargap": 0.2,
        "barmode": "relative",
        "legend": {
         "tracegroupgap": 0
        },
        "template": {
         "data": {
          "bar": [
           {
            "error_x": {
             "color": "#2a3f5f"
            },
            "error_y": {
             "color": "#2a3f5f"
            },
            "marker": {
             "line": {
              "color": "#E5ECF6",
              "width": 0.5
             },
             "pattern": {
              "fillmode": "overlay",
              "size": 10,
              "solidity": 0.2
             }
            },
            "type": "bar"
           }
          ],
          "barpolar": [
           {
            "marker": {
             "line": {
              "color": "#E5ECF6",
              "width": 0.5
             },
             "pattern": {
              "fillmode": "overlay",
              "size": 10,
              "solidity": 0.2
             }
            },
            "type": "barpolar"
           }
          ],
          "carpet": [
           {
            "aaxis": {
             "endlinecolor": "#2a3f5f",
             "gridcolor": "white",
             "linecolor": "white",
             "minorgridcolor": "white",
             "startlinecolor": "#2a3f5f"
            },
            "baxis": {
             "endlinecolor": "#2a3f5f",
             "gridcolor": "white",
             "linecolor": "white",
             "minorgridcolor": "white",
             "startlinecolor": "#2a3f5f"
            },
            "type": "carpet"
           }
          ],
          "choropleth": [
           {
            "colorbar": {
             "outlinewidth": 0,
             "ticks": ""
            },
            "type": "choropleth"
           }
          ],
          "contour": [
           {
            "colorbar": {
             "outlinewidth": 0,
             "ticks": ""
            },
            "colorscale": [
             [
              0,
              "#0d0887"
             ],
             [
              0.1111111111111111,
              "#46039f"
             ],
             [
              0.2222222222222222,
              "#7201a8"
             ],
             [
              0.3333333333333333,
              "#9c179e"
             ],
             [
              0.4444444444444444,
              "#bd3786"
             ],
             [
              0.5555555555555556,
              "#d8576b"
             ],
             [
              0.6666666666666666,
              "#ed7953"
             ],
             [
              0.7777777777777778,
              "#fb9f3a"
             ],
             [
              0.8888888888888888,
              "#fdca26"
             ],
             [
              1,
              "#f0f921"
             ]
            ],
            "type": "contour"
           }
          ],
          "contourcarpet": [
           {
            "colorbar": {
             "outlinewidth": 0,
             "ticks": ""
            },
            "type": "contourcarpet"
           }
          ],
          "heatmap": [
           {
            "colorbar": {
             "outlinewidth": 0,
             "ticks": ""
            },
            "colorscale": [
             [
              0,
              "#0d0887"
             ],
             [
              0.1111111111111111,
              "#46039f"
             ],
             [
              0.2222222222222222,
              "#7201a8"
             ],
             [
              0.3333333333333333,
              "#9c179e"
             ],
             [
              0.4444444444444444,
              "#bd3786"
             ],
             [
              0.5555555555555556,
              "#d8576b"
             ],
             [
              0.6666666666666666,
              "#ed7953"
             ],
             [
              0.7777777777777778,
              "#fb9f3a"
             ],
             [
              0.8888888888888888,
              "#fdca26"
             ],
             [
              1,
              "#f0f921"
             ]
            ],
            "type": "heatmap"
           }
          ],
          "heatmapgl": [
           {
            "colorbar": {
             "outlinewidth": 0,
             "ticks": ""
            },
            "colorscale": [
             [
              0,
              "#0d0887"
             ],
             [
              0.1111111111111111,
              "#46039f"
             ],
             [
              0.2222222222222222,
              "#7201a8"
             ],
             [
              0.3333333333333333,
              "#9c179e"
             ],
             [
              0.4444444444444444,
              "#bd3786"
             ],
             [
              0.5555555555555556,
              "#d8576b"
             ],
             [
              0.6666666666666666,
              "#ed7953"
             ],
             [
              0.7777777777777778,
              "#fb9f3a"
             ],
             [
              0.8888888888888888,
              "#fdca26"
             ],
             [
              1,
              "#f0f921"
             ]
            ],
            "type": "heatmapgl"
           }
          ],
          "histogram": [
           {
            "marker": {
             "pattern": {
              "fillmode": "overlay",
              "size": 10,
              "solidity": 0.2
             }
            },
            "type": "histogram"
           }
          ],
          "histogram2d": [
           {
            "colorbar": {
             "outlinewidth": 0,
             "ticks": ""
            },
            "colorscale": [
             [
              0,
              "#0d0887"
             ],
             [
              0.1111111111111111,
              "#46039f"
             ],
             [
              0.2222222222222222,
              "#7201a8"
             ],
             [
              0.3333333333333333,
              "#9c179e"
             ],
             [
              0.4444444444444444,
              "#bd3786"
             ],
             [
              0.5555555555555556,
              "#d8576b"
             ],
             [
              0.6666666666666666,
              "#ed7953"
             ],
             [
              0.7777777777777778,
              "#fb9f3a"
             ],
             [
              0.8888888888888888,
              "#fdca26"
             ],
             [
              1,
              "#f0f921"
             ]
            ],
            "type": "histogram2d"
           }
          ],
          "histogram2dcontour": [
           {
            "colorbar": {
             "outlinewidth": 0,
             "ticks": ""
            },
            "colorscale": [
             [
              0,
              "#0d0887"
             ],
             [
              0.1111111111111111,
              "#46039f"
             ],
             [
              0.2222222222222222,
              "#7201a8"
             ],
             [
              0.3333333333333333,
              "#9c179e"
             ],
             [
              0.4444444444444444,
              "#bd3786"
             ],
             [
              0.5555555555555556,
              "#d8576b"
             ],
             [
              0.6666666666666666,
              "#ed7953"
             ],
             [
              0.7777777777777778,
              "#fb9f3a"
             ],
             [
              0.8888888888888888,
              "#fdca26"
             ],
             [
              1,
              "#f0f921"
             ]
            ],
            "type": "histogram2dcontour"
           }
          ],
          "mesh3d": [
           {
            "colorbar": {
             "outlinewidth": 0,
             "ticks": ""
            },
            "type": "mesh3d"
           }
          ],
          "parcoords": [
           {
            "line": {
             "colorbar": {
              "outlinewidth": 0,
              "ticks": ""
             }
            },
            "type": "parcoords"
           }
          ],
          "pie": [
           {
            "automargin": true,
            "type": "pie"
           }
          ],
          "scatter": [
           {
            "fillpattern": {
             "fillmode": "overlay",
             "size": 10,
             "solidity": 0.2
            },
            "type": "scatter"
           }
          ],
          "scatter3d": [
           {
            "line": {
             "colorbar": {
              "outlinewidth": 0,
              "ticks": ""
             }
            },
            "marker": {
             "colorbar": {
              "outlinewidth": 0,
              "ticks": ""
             }
            },
            "type": "scatter3d"
           }
          ],
          "scattercarpet": [
           {
            "marker": {
             "colorbar": {
              "outlinewidth": 0,
              "ticks": ""
             }
            },
            "type": "scattercarpet"
           }
          ],
          "scattergeo": [
           {
            "marker": {
             "colorbar": {
              "outlinewidth": 0,
              "ticks": ""
             }
            },
            "type": "scattergeo"
           }
          ],
          "scattergl": [
           {
            "marker": {
             "colorbar": {
              "outlinewidth": 0,
              "ticks": ""
             }
            },
            "type": "scattergl"
           }
          ],
          "scattermapbox": [
           {
            "marker": {
             "colorbar": {
              "outlinewidth": 0,
              "ticks": ""
             }
            },
            "type": "scattermapbox"
           }
          ],
          "scatterpolar": [
           {
            "marker": {
             "colorbar": {
              "outlinewidth": 0,
              "ticks": ""
             }
            },
            "type": "scatterpolar"
           }
          ],
          "scatterpolargl": [
           {
            "marker": {
             "colorbar": {
              "outlinewidth": 0,
              "ticks": ""
             }
            },
            "type": "scatterpolargl"
           }
          ],
          "scatterternary": [
           {
            "marker": {
             "colorbar": {
              "outlinewidth": 0,
              "ticks": ""
             }
            },
            "type": "scatterternary"
           }
          ],
          "surface": [
           {
            "colorbar": {
             "outlinewidth": 0,
             "ticks": ""
            },
            "colorscale": [
             [
              0,
              "#0d0887"
             ],
             [
              0.1111111111111111,
              "#46039f"
             ],
             [
              0.2222222222222222,
              "#7201a8"
             ],
             [
              0.3333333333333333,
              "#9c179e"
             ],
             [
              0.4444444444444444,
              "#bd3786"
             ],
             [
              0.5555555555555556,
              "#d8576b"
             ],
             [
              0.6666666666666666,
              "#ed7953"
             ],
             [
              0.7777777777777778,
              "#fb9f3a"
             ],
             [
              0.8888888888888888,
              "#fdca26"
             ],
             [
              1,
              "#f0f921"
             ]
            ],
            "type": "surface"
           }
          ],
          "table": [
           {
            "cells": {
             "fill": {
              "color": "#EBF0F8"
             },
             "line": {
              "color": "white"
             }
            },
            "header": {
             "fill": {
              "color": "#C8D4E3"
             },
             "line": {
              "color": "white"
             }
            },
            "type": "table"
           }
          ]
         },
         "layout": {
          "annotationdefaults": {
           "arrowcolor": "#2a3f5f",
           "arrowhead": 0,
           "arrowwidth": 1
          },
          "autotypenumbers": "strict",
          "coloraxis": {
           "colorbar": {
            "outlinewidth": 0,
            "ticks": ""
           }
          },
          "colorscale": {
           "diverging": [
            [
             0,
             "#8e0152"
            ],
            [
             0.1,
             "#c51b7d"
            ],
            [
             0.2,
             "#de77ae"
            ],
            [
             0.3,
             "#f1b6da"
            ],
            [
             0.4,
             "#fde0ef"
            ],
            [
             0.5,
             "#f7f7f7"
            ],
            [
             0.6,
             "#e6f5d0"
            ],
            [
             0.7,
             "#b8e186"
            ],
            [
             0.8,
             "#7fbc41"
            ],
            [
             0.9,
             "#4d9221"
            ],
            [
             1,
             "#276419"
            ]
           ],
           "sequential": [
            [
             0,
             "#0d0887"
            ],
            [
             0.1111111111111111,
             "#46039f"
            ],
            [
             0.2222222222222222,
             "#7201a8"
            ],
            [
             0.3333333333333333,
             "#9c179e"
            ],
            [
             0.4444444444444444,
             "#bd3786"
            ],
            [
             0.5555555555555556,
             "#d8576b"
            ],
            [
             0.6666666666666666,
             "#ed7953"
            ],
            [
             0.7777777777777778,
             "#fb9f3a"
            ],
            [
             0.8888888888888888,
             "#fdca26"
            ],
            [
             1,
             "#f0f921"
            ]
           ],
           "sequentialminus": [
            [
             0,
             "#0d0887"
            ],
            [
             0.1111111111111111,
             "#46039f"
            ],
            [
             0.2222222222222222,
             "#7201a8"
            ],
            [
             0.3333333333333333,
             "#9c179e"
            ],
            [
             0.4444444444444444,
             "#bd3786"
            ],
            [
             0.5555555555555556,
             "#d8576b"
            ],
            [
             0.6666666666666666,
             "#ed7953"
            ],
            [
             0.7777777777777778,
             "#fb9f3a"
            ],
            [
             0.8888888888888888,
             "#fdca26"
            ],
            [
             1,
             "#f0f921"
            ]
           ]
          },
          "colorway": [
           "#636efa",
           "#EF553B",
           "#00cc96",
           "#ab63fa",
           "#FFA15A",
           "#19d3f3",
           "#FF6692",
           "#B6E880",
           "#FF97FF",
           "#FECB52"
          ],
          "font": {
           "color": "#2a3f5f"
          },
          "geo": {
           "bgcolor": "white",
           "lakecolor": "white",
           "landcolor": "#E5ECF6",
           "showlakes": true,
           "showland": true,
           "subunitcolor": "white"
          },
          "hoverlabel": {
           "align": "left"
          },
          "hovermode": "closest",
          "mapbox": {
           "style": "light"
          },
          "paper_bgcolor": "white",
          "plot_bgcolor": "#E5ECF6",
          "polar": {
           "angularaxis": {
            "gridcolor": "white",
            "linecolor": "white",
            "ticks": ""
           },
           "bgcolor": "#E5ECF6",
           "radialaxis": {
            "gridcolor": "white",
            "linecolor": "white",
            "ticks": ""
           }
          },
          "scene": {
           "xaxis": {
            "backgroundcolor": "#E5ECF6",
            "gridcolor": "white",
            "gridwidth": 2,
            "linecolor": "white",
            "showbackground": true,
            "ticks": "",
            "zerolinecolor": "white"
           },
           "yaxis": {
            "backgroundcolor": "#E5ECF6",
            "gridcolor": "white",
            "gridwidth": 2,
            "linecolor": "white",
            "showbackground": true,
            "ticks": "",
            "zerolinecolor": "white"
           },
           "zaxis": {
            "backgroundcolor": "#E5ECF6",
            "gridcolor": "white",
            "gridwidth": 2,
            "linecolor": "white",
            "showbackground": true,
            "ticks": "",
            "zerolinecolor": "white"
           }
          },
          "shapedefaults": {
           "line": {
            "color": "#2a3f5f"
           }
          },
          "ternary": {
           "aaxis": {
            "gridcolor": "white",
            "linecolor": "white",
            "ticks": ""
           },
           "baxis": {
            "gridcolor": "white",
            "linecolor": "white",
            "ticks": ""
           },
           "bgcolor": "#E5ECF6",
           "caxis": {
            "gridcolor": "white",
            "linecolor": "white",
            "ticks": ""
           }
          },
          "title": {
           "x": 0.05
          },
          "xaxis": {
           "automargin": true,
           "gridcolor": "white",
           "linecolor": "white",
           "ticks": "",
           "title": {
            "standoff": 15
           },
           "zerolinecolor": "white",
           "zerolinewidth": 2
          },
          "yaxis": {
           "automargin": true,
           "gridcolor": "white",
           "linecolor": "white",
           "ticks": "",
           "title": {
            "standoff": 15
           },
           "zerolinecolor": "white",
           "zerolinewidth": 2
          }
         }
        },
        "title": {
         "text": "Loyalty Card: Number of Transactions by Location"
        },
        "xaxis": {
         "anchor": "y",
         "categoryarray": [
          "Katerina's Café",
          "Hippokampos",
          "Guy's Gyros",
          "Brew've Been Served",
          "Ouzeri Elian",
          "Hallowed Grounds",
          "Abila Zacharo",
          "Kalami Kafenion",
          "Gelatogalore",
          "Bean There Done That",
          "Frydos Autosupply n' More",
          "Coffee Cameleon",
          "Jack's Magical Beans",
          "Brewed Awakenings",
          "Abila Airport",
          "Albert's Fine Clothing",
          "Nationwide Refinery",
          "Carlyle Chemical Inc.",
          "Shoppers' Delight",
          "Stewart and Sons Fabrication",
          "General Grocer",
          "Coffee Shack",
          "Kronos Mart",
          "Desafio Golf Course",
          "Chostus Hotel",
          "Ahaggo Museum",
          "Roberts and Sons",
          "Maximum Iron and Steel",
          "Kronos Pipe and Irrigation",
          "Abila Scrapyard",
          "Octavio's Office Supplies",
          "Frank's Fuel",
          "U-Pump"
         ],
         "categoryorder": "array",
         "domain": [
          0,
          1
         ],
         "title": {
          "text": "Location"
         }
        },
        "yaxis": {
         "anchor": "x",
         "domain": [
          0,
          1
         ],
         "title": {
          "text": "count"
         }
        }
       }
      }
     },
     "metadata": {},
     "output_type": "display_data"
    }
   ],
   "source": [
    "data_lc = pd.read_csv('../data/loyalty_data.csv')\n",
    "\n",
    "fig_histogram = px.histogram(data_lc, x='location',\n",
    "                             title='Loyalty Card: Number of Transactions by Location',\n",
    "                             labels={'location': 'Location'},\n",
    "                             category_orders={'location': data_lc['location'].value_counts().index.tolist()}) \n",
    "\n",
    "fig_histogram.update_layout(bargap=0.2)\n",
    "fig_histogram.show()"
   ]
  },
  {
   "cell_type": "code",
   "execution_count": 4,
   "metadata": {},
   "outputs": [
    {
     "data": {
      "application/vnd.plotly.v1+json": {
       "config": {
        "plotlyServerURL": "https://plot.ly"
       },
       "data": [
        {
         "alignmentgroup": "True",
         "bingroup": "x",
         "hovertemplate": "Location=%{x}<br>count=%{y}<extra></extra>",
         "legendgroup": "",
         "marker": {
          "color": "#636efa",
          "pattern": {
           "shape": ""
          }
         },
         "name": "",
         "offsetgroup": "",
         "orientation": "v",
         "showlegend": false,
         "type": "histogram",
         "x": [
          "Brew've Been Served",
          "Brew've Been Served",
          "Hallowed Grounds",
          "Coffee Shack",
          "Hallowed Grounds",
          "Brew've Been Served",
          "Brew've Been Served",
          "Brew've Been Served",
          "Abila Zacharo",
          "Hippokampos",
          "Kalami Kafenion",
          "Katerina's Café",
          "Hippokampos",
          "Ouzeri Elian",
          "Kalami Kafenion",
          "Hippokampos",
          "Hippokampos",
          "Kalami Kafenion",
          "Katerina's Café",
          "Katerina's Café",
          "Frydos Autosupply n' More",
          "Frydos Autosupply n' More",
          "Katerina's Café",
          "Hippokampos",
          "Frydos Autosupply n' More",
          "Katerina's Café",
          "Brew've Been Served",
          "Hallowed Grounds",
          "Coffee Shack",
          "Brew've Been Served",
          "Brew've Been Served",
          "Hallowed Grounds",
          "Coffee Cameleon",
          "Brew've Been Served",
          "Hallowed Grounds",
          "Brew've Been Served",
          "Kalami Kafenion",
          "Ouzeri Elian",
          "Ouzeri Elian",
          "Abila Zacharo",
          "Gelatogalore",
          "Ouzeri Elian",
          "Katerina's Café",
          "Gelatogalore",
          "Hippokampos",
          "Albert's Fine Clothing",
          "Katerina's Café",
          "Katerina's Café",
          "Guy's Gyros",
          "Katerina's Café",
          "Ouzeri Elian",
          "Hallowed Grounds",
          "Brew've Been Served",
          "Hallowed Grounds",
          "Coffee Shack",
          "Brew've Been Served",
          "Brew've Been Served",
          "Brew've Been Served",
          "Hallowed Grounds",
          "Brew've Been Served",
          "Coffee Cameleon",
          "Abila Zacharo",
          "Gelatogalore",
          "Kalami Kafenion",
          "Kalami Kafenion",
          "Ouzeri Elian",
          "Abila Zacharo",
          "Gelatogalore",
          "Kalami Kafenion",
          "Gelatogalore",
          "Kalami Kafenion",
          "Katerina's Café",
          "Katerina's Café",
          "Frydos Autosupply n' More",
          "Frydos Autosupply n' More",
          "Hippokampos",
          "Katerina's Café",
          "Hallowed Grounds",
          "Coffee Shack",
          "Brew've Been Served",
          "Hallowed Grounds",
          "Coffee Cameleon",
          "Hallowed Grounds",
          "Gelatogalore",
          "Hippokampos",
          "Gelatogalore",
          "Hippokampos",
          "Gelatogalore",
          "Kalami Kafenion",
          "Kalami Kafenion",
          "Kalami Kafenion",
          "Guy's Gyros",
          "Gelatogalore",
          "Katerina's Café",
          "Katerina's Café",
          "Katerina's Café",
          "Katerina's Café",
          "Albert's Fine Clothing",
          "Katerina's Café",
          "Guy's Gyros",
          "Shoppers' Delight",
          "Hallowed Grounds",
          "Brew've Been Served",
          "Hallowed Grounds",
          "Coffee Cameleon",
          "Brew've Been Served",
          "Hallowed Grounds",
          "Brew've Been Served",
          "Katerina's Café",
          "Abila Zacharo",
          "Kalami Kafenion",
          "Guy's Gyros",
          "Ouzeri Elian",
          "Guy's Gyros",
          "Abila Zacharo",
          "Gelatogalore",
          "Hippokampos",
          "Frydos Autosupply n' More",
          "Katerina's Café",
          "Katerina's Café",
          "Guy's Gyros",
          "Katerina's Café",
          "Hippokampos",
          "Kalami Kafenion",
          "Shoppers' Delight",
          "General Grocer",
          "Katerina's Café",
          "Guy's Gyros",
          "Katerina's Café",
          "Katerina's Café",
          "Frydos Autosupply n' More",
          "Hippokampos",
          "Katerina's Café",
          "Ouzeri Elian",
          "Hippokampos",
          "Guy's Gyros",
          "Kronos Mart",
          "General Grocer",
          "Katerina's Café",
          "Frydos Autosupply n' More",
          "Katerina's Café",
          "Katerina's Café",
          "Katerina's Café",
          "Frydos Autosupply n' More",
          "Brew've Been Served",
          "Hallowed Grounds",
          "Brew've Been Served",
          "Coffee Cameleon",
          "Coffee Shack",
          "Hallowed Grounds",
          "Brew've Been Served",
          "Katerina's Café",
          "Hippokampos",
          "Guy's Gyros",
          "Kalami Kafenion",
          "Gelatogalore",
          "Guy's Gyros",
          "Gelatogalore",
          "Hippokampos",
          "Guy's Gyros",
          "Frydos Autosupply n' More",
          "Frydos Autosupply n' More",
          "Ouzeri Elian",
          "Katerina's Café",
          "Guy's Gyros",
          "Hippokampos",
          "Frydos Autosupply n' More",
          "Brew've Been Served",
          "Hallowed Grounds",
          "Brew've Been Served",
          "Brew've Been Served",
          "Coffee Cameleon",
          "Hallowed Grounds",
          "Brew've Been Served",
          "Coffee Shack",
          "Hallowed Grounds",
          "Brew've Been Served",
          "Abila Zacharo",
          "Kalami Kafenion",
          "Katerina's Café",
          "Katerina's Café",
          "Ouzeri Elian",
          "Kalami Kafenion",
          "Gelatogalore",
          "Ouzeri Elian",
          "Gelatogalore",
          "Hippokampos",
          "Guy's Gyros",
          "Katerina's Café",
          "Katerina's Café",
          "Ouzeri Elian",
          "Katerina's Café",
          "Katerina's Café",
          "Frydos Autosupply n' More",
          "Hallowed Grounds",
          "Brew've Been Served",
          "Brew've Been Served",
          "Brew've Been Served",
          "Coffee Shack",
          "Coffee Cameleon",
          "Hallowed Grounds",
          "Brew've Been Served",
          "Katerina's Café",
          "Kalami Kafenion",
          "Ouzeri Elian",
          "Kalami Kafenion",
          "Guy's Gyros",
          "Gelatogalore",
          "Ouzeri Elian",
          "Guy's Gyros",
          "Gelatogalore",
          "Abila Zacharo",
          "Katerina's Café",
          "Guy's Gyros",
          "Katerina's Café",
          "Katerina's Café",
          "Katerina's Café",
          "Katerina's Café",
          "Albert's Fine Clothing",
          "Frydos Autosupply n' More",
          "Ouzeri Elian",
          "Brew've Been Served",
          "Hallowed Grounds",
          "Coffee Shack",
          "Brew've Been Served",
          "Coffee Cameleon",
          "Hallowed Grounds",
          "Hallowed Grounds",
          "Brew've Been Served",
          "Katerina's Café",
          "Hippokampos",
          "Abila Zacharo",
          "Katerina's Café",
          "Kalami Kafenion",
          "Ouzeri Elian",
          "Ouzeri Elian",
          "Ouzeri Elian",
          "Guy's Gyros",
          "Octavio's Office Supplies",
          "Katerina's Café",
          "Katerina's Café",
          "Albert's Fine Clothing",
          "Katerina's Café",
          "Ouzeri Elian",
          "Katerina's Café",
          "Katerina's Café",
          "Frydos Autosupply n' More",
          "Brew've Been Served",
          "Brew've Been Served",
          "Coffee Shack",
          "Hallowed Grounds",
          "Coffee Cameleon",
          "Brew've Been Served",
          "Brew've Been Served",
          "Hippokampos",
          "Gelatogalore",
          "Hippokampos",
          "Kalami Kafenion",
          "Guy's Gyros",
          "Guy's Gyros",
          "Abila Zacharo",
          "Katerina's Café",
          "Ouzeri Elian",
          "Katerina's Café",
          "Hippokampos",
          "Frydos Autosupply n' More",
          "Katerina's Café",
          "Katerina's Café",
          "Ouzeri Elian",
          "Katerina's Café",
          "Frydos Autosupply n' More",
          "Katerina's Café",
          "Kalami Kafenion",
          "Kalami Kafenion",
          "Gelatogalore",
          "Katerina's Café",
          "Frydos Autosupply n' More",
          "Albert's Fine Clothing",
          "Frydos Autosupply n' More",
          "Guy's Gyros",
          "Ouzeri Elian",
          "Katerina's Café",
          "Katerina's Café",
          "Hippokampos",
          "Albert's Fine Clothing",
          "Hallowed Grounds",
          "Bean There Done That",
          "Guy's Gyros",
          "Hippokampos",
          "Bean There Done That",
          "Guy's Gyros",
          "Abila Zacharo",
          "Brewed Awakenings",
          "Hippokampos",
          "Jack's Magical Beans",
          "Katerina's Café",
          "Coffee Cameleon",
          "Gelatogalore",
          "Katerina's Café",
          "Brew've Been Served",
          "Katerina's Café",
          "Brewed Awakenings",
          "Ouzeri Elian",
          "Gelatogalore",
          "Bean There Done That",
          "Hippokampos",
          "Hippokampos",
          "Brewed Awakenings",
          "Hippokampos",
          "Bean There Done That",
          "Hippokampos",
          "Abila Zacharo",
          "Guy's Gyros",
          "Hallowed Grounds",
          "Hallowed Grounds",
          "Katerina's Café",
          "Katerina's Café",
          "Brew've Been Served",
          "Gelatogalore",
          "Guy's Gyros",
          "Brew've Been Served",
          "Guy's Gyros",
          "Guy's Gyros",
          "Hallowed Grounds",
          "Katerina's Café",
          "Bean There Done That",
          "Hippokampos",
          "Ouzeri Elian",
          "Brew've Been Served",
          "Guy's Gyros",
          "Ouzeri Elian",
          "Carlyle Chemical Inc.",
          "Abila Airport",
          "Abila Airport",
          "Kronos Pipe and Irrigation",
          "Maximum Iron and Steel",
          "Ouzeri Elian",
          "Brew've Been Served",
          "Brew've Been Served",
          "Guy's Gyros",
          "Kalami Kafenion",
          "U-Pump",
          "Abila Airport",
          "Albert's Fine Clothing",
          "Brew've Been Served",
          "Kalami Kafenion",
          "Nationwide Refinery",
          "Stewart and Sons Fabrication",
          "Coffee Cameleon",
          "Frydos Autosupply n' More",
          "Frydos Autosupply n' More",
          "Guy's Gyros",
          "Abila Zacharo",
          "Frydos Autosupply n' More",
          "Jack's Magical Beans",
          "Gelatogalore",
          "Hallowed Grounds",
          "Katerina's Café",
          "Abila Zacharo",
          "Brew've Been Served",
          "Katerina's Café",
          "Coffee Cameleon",
          "Katerina's Café",
          "Ouzeri Elian",
          "Brew've Been Served",
          "Guy's Gyros",
          "Katerina's Café",
          "Jack's Magical Beans",
          "Brew've Been Served",
          "Ouzeri Elian",
          "Brew've Been Served",
          "Hippokampos",
          "Abila Zacharo",
          "Brew've Been Served",
          "Shoppers' Delight",
          "Guy's Gyros",
          "Jack's Magical Beans",
          "Gelatogalore",
          "Hallowed Grounds",
          "Ouzeri Elian",
          "Abila Zacharo",
          "Bean There Done That",
          "Hippokampos",
          "Guy's Gyros",
          "Abila Zacharo",
          "Hippokampos",
          "Abila Zacharo",
          "Jack's Magical Beans",
          "Coffee Cameleon",
          "Gelatogalore",
          "Katerina's Café",
          "Brewed Awakenings",
          "Guy's Gyros",
          "Hippokampos",
          "Brewed Awakenings",
          "Guy's Gyros",
          "Hippokampos",
          "Hallowed Grounds",
          "Katerina's Café",
          "Katerina's Café",
          "Bean There Done That",
          "Hippokampos",
          "Kalami Kafenion",
          "Brewed Awakenings",
          "Gelatogalore",
          "Hippokampos",
          "Bean There Done That",
          "Hippokampos",
          "Hallowed Grounds",
          "Kalami Kafenion",
          "Gelatogalore",
          "Abila Zacharo",
          "Guy's Gyros",
          "Brew've Been Served",
          "Guy's Gyros",
          "Kalami Kafenion",
          "Guy's Gyros",
          "Hallowed Grounds",
          "Katerina's Café",
          "Albert's Fine Clothing",
          "Bean There Done That",
          "Ouzeri Elian",
          "Guy's Gyros",
          "Abila Airport",
          "Stewart and Sons Fabrication",
          "Brew've Been Served",
          "Brew've Been Served",
          "Guy's Gyros",
          "Katerina's Café",
          "Abila Airport",
          "Abila Airport",
          "Brew've Been Served",
          "Katerina's Café",
          "Carlyle Chemical Inc.",
          "Katerina's Café",
          "Nationwide Refinery",
          "Nationwide Refinery",
          "Stewart and Sons Fabrication",
          "Kronos Pipe and Irrigation",
          "Maximum Iron and Steel",
          "Coffee Cameleon",
          "Katerina's Café",
          "Ouzeri Elian",
          "Hallowed Grounds",
          "Katerina's Café",
          "Jack's Magical Beans",
          "Kalami Kafenion",
          "Ouzeri Elian",
          "Hallowed Grounds",
          "Hippokampos",
          "Katerina's Café",
          "Brew've Been Served",
          "Gelatogalore",
          "Katerina's Café",
          "Coffee Cameleon",
          "Gelatogalore",
          "Katerina's Café",
          "Brew've Been Served",
          "Frydos Autosupply n' More",
          "Ouzeri Elian",
          "Abila Scrapyard",
          "Abila Airport",
          "Nationwide Refinery",
          "Guy's Gyros",
          "Jack's Magical Beans",
          "Abila Zacharo",
          "Brew've Been Served",
          "Kalami Kafenion",
          "Brewed Awakenings",
          "Guy's Gyros",
          "Guy's Gyros",
          "Gelatogalore",
          "Hippokampos",
          "Jack's Magical Beans",
          "Hippokampos",
          "Ouzeri Elian",
          "Abila Zacharo",
          "Bean There Done That",
          "Hippokampos",
          "Albert's Fine Clothing",
          "Bean There Done That",
          "Hippokampos",
          "Brewed Awakenings",
          "Hippokampos",
          "Ouzeri Elian",
          "Jack's Magical Beans",
          "Katerina's Café",
          "Ouzeri Elian",
          "Coffee Cameleon",
          "Hippokampos",
          "Katerina's Café",
          "Brew've Been Served",
          "Frank's Fuel",
          "Frydos Autosupply n' More",
          "Guy's Gyros",
          "Brewed Awakenings",
          "Chostus Hotel",
          "Hippokampos",
          "Gelatogalore",
          "Hallowed Grounds",
          "Katerina's Café",
          "Hippokampos",
          "Hippokampos",
          "Hippokampos",
          "Bean There Done That",
          "Hippokampos",
          "General Grocer",
          "Guy's Gyros",
          "Hallowed Grounds",
          "Katerina's Café",
          "Brew've Been Served",
          "Gelatogalore",
          "Brew've Been Served",
          "Guy's Gyros",
          "Guy's Gyros",
          "Abila Zacharo",
          "Hallowed Grounds",
          "Bean There Done That",
          "Hippokampos",
          "Katerina's Café",
          "Brew've Been Served",
          "Kalami Kafenion",
          "Brew've Been Served",
          "Brew've Been Served",
          "Gelatogalore",
          "Guy's Gyros",
          "Abila Airport",
          "Abila Airport",
          "Brew've Been Served",
          "Guy's Gyros",
          "Guy's Gyros",
          "Nationwide Refinery",
          "Stewart and Sons Fabrication",
          "Carlyle Chemical Inc.",
          "Katerina's Café",
          "Nationwide Refinery",
          "Nationwide Refinery",
          "Stewart and Sons Fabrication",
          "Carlyle Chemical Inc.",
          "Kronos Pipe and Irrigation",
          "Maximum Iron and Steel",
          "Coffee Cameleon",
          "Katerina's Café",
          "Katerina's Café",
          "Katerina's Café",
          "Gelatogalore",
          "Jack's Magical Beans",
          "Ouzeri Elian",
          "Hallowed Grounds",
          "Kalami Kafenion",
          "Brew've Been Served",
          "Gelatogalore",
          "Coffee Cameleon",
          "Kalami Kafenion",
          "Katerina's Café",
          "Abila Zacharo",
          "Brew've Been Served",
          "Jack's Magical Beans",
          "Ouzeri Elian",
          "Brew've Been Served",
          "Chostus Hotel",
          "Guy's Gyros",
          "Brew've Been Served",
          "Hippokampos",
          "Brew've Been Served",
          "Guy's Gyros",
          "Kalami Kafenion",
          "Abila Zacharo",
          "Hippokampos",
          "Jack's Magical Beans",
          "Abila Zacharo",
          "Hallowed Grounds",
          "Bean There Done That",
          "Guy's Gyros",
          "Hippokampos",
          "Hippokampos",
          "Kronos Mart",
          "Ouzeri Elian",
          "Gelatogalore",
          "Jack's Magical Beans",
          "Katerina's Café",
          "Frydos Autosupply n' More",
          "Jack's Magical Beans",
          "Katerina's Café",
          "Brewed Awakenings",
          "Gelatogalore",
          "Hippokampos",
          "Guy's Gyros",
          "Guy's Gyros",
          "Bean There Done That",
          "Katerina's Café",
          "Albert's Fine Clothing",
          "Brewed Awakenings",
          "Frydos Autosupply n' More",
          "Hippokampos",
          "Hallowed Grounds",
          "Ouzeri Elian",
          "Abila Zacharo",
          "Hallowed Grounds",
          "Abila Zacharo",
          "Brew've Been Served",
          "Guy's Gyros",
          "Kalami Kafenion",
          "Guy's Gyros",
          "Hallowed Grounds",
          "Katerina's Café",
          "Bean There Done That",
          "Hippokampos",
          "Kalami Kafenion",
          "Brew've Been Served",
          "Guy's Gyros",
          "Ouzeri Elian",
          "Abila Airport",
          "Nationwide Refinery",
          "Stewart and Sons Fabrication",
          "Brew've Been Served",
          "Guy's Gyros",
          "Abila Zacharo",
          "Brew've Been Served",
          "Frydos Autosupply n' More",
          "Abila Airport",
          "Abila Airport",
          "Brew've Been Served",
          "Guy's Gyros",
          "Hippokampos",
          "Carlyle Chemical Inc.",
          "Carlyle Chemical Inc.",
          "Carlyle Chemical Inc.",
          "Katerina's Café",
          "Nationwide Refinery",
          "Nationwide Refinery",
          "Stewart and Sons Fabrication",
          "Carlyle Chemical Inc.",
          "Kronos Pipe and Irrigation",
          "Maximum Iron and Steel",
          "Coffee Cameleon",
          "Hallowed Grounds",
          "Hippokampos",
          "Katerina's Café",
          "Abila Zacharo",
          "Katerina's Café",
          "Gelatogalore",
          "Hallowed Grounds",
          "Coffee Cameleon",
          "Guy's Gyros",
          "Katerina's Café",
          "Brew've Been Served",
          "Abila Scrapyard",
          "Abila Airport",
          "Nationwide Refinery",
          "Stewart and Sons Fabrication",
          "Hippokampos",
          "Katerina's Café",
          "Brew've Been Served",
          "Hippokampos",
          "Brew've Been Served",
          "Gelatogalore",
          "General Grocer",
          "Brew've Been Served",
          "Guy's Gyros",
          "Guy's Gyros",
          "Abila Zacharo",
          "Hippokampos",
          "Jack's Magical Beans",
          "Hallowed Grounds",
          "Bean There Done That",
          "Gelatogalore",
          "Hippokampos",
          "Bean There Done That",
          "Guy's Gyros",
          "Brewed Awakenings",
          "Hippokampos",
          "Katerina's Café",
          "Abila Zacharo",
          "Jack's Magical Beans",
          "Ouzeri Elian",
          "Coffee Cameleon",
          "Guy's Gyros",
          "Octavio's Office Supplies",
          "Brew've Been Served",
          "Ouzeri Elian",
          "Brewed Awakenings",
          "Hallowed Grounds",
          "Ouzeri Elian",
          "Bean There Done That",
          "Ouzeri Elian",
          "Brewed Awakenings",
          "Hippokampos",
          "Hippokampos",
          "Bean There Done That",
          "Guy's Gyros",
          "Hallowed Grounds",
          "Katerina's Café",
          "Abila Zacharo",
          "Hallowed Grounds",
          "Abila Zacharo",
          "Brew've Been Served",
          "Shoppers' Delight",
          "Brew've Been Served",
          "Frydos Autosupply n' More",
          "Guy's Gyros",
          "Hallowed Grounds",
          "Ouzeri Elian",
          "Albert's Fine Clothing",
          "Bean There Done That",
          "Katerina's Café",
          "Brew've Been Served",
          "Guy's Gyros",
          "Guy's Gyros",
          "Carlyle Chemical Inc.",
          "Nationwide Refinery",
          "Stewart and Sons Fabrication",
          "Brew've Been Served",
          "Brew've Been Served",
          "Kalami Kafenion",
          "Brew've Been Served",
          "General Grocer",
          "Kalami Kafenion",
          "Nationwide Refinery",
          "Stewart and Sons Fabrication",
          "Carlyle Chemical Inc.",
          "Katerina's Café",
          "Abila Zacharo",
          "Hallowed Grounds",
          "Jack's Magical Beans",
          "Kalami Kafenion",
          "Abila Zacharo",
          "Brew've Been Served",
          "Katerina's Café",
          "Ouzeri Elian",
          "Coffee Cameleon",
          "Gelatogalore",
          "Katerina's Café",
          "Brew've Been Served",
          "Guy's Gyros",
          "Hippokampos",
          "Guy's Gyros",
          "Jack's Magical Beans",
          "Chostus Hotel",
          "Brew've Been Served",
          "Guy's Gyros",
          "Hippokampos",
          "Octavio's Office Supplies",
          "Brew've Been Served",
          "Katerina's Café",
          "Hippokampos",
          "Hippokampos",
          "Hippokampos",
          "Hippokampos",
          "Frydos Autosupply n' More",
          "Hippokampos",
          "Hippokampos",
          "Ouzeri Elian",
          "Katerina's Café",
          "Abila Zacharo",
          "Katerina's Café",
          "Katerina's Café",
          "Hippokampos",
          "Katerina's Café",
          "Kalami Kafenion",
          "Katerina's Café",
          "Kalami Kafenion",
          "Guy's Gyros",
          "Gelatogalore",
          "Katerina's Café",
          "Katerina's Café",
          "Guy's Gyros",
          "Katerina's Café",
          "Albert's Fine Clothing",
          "Hippokampos",
          "Katerina's Café",
          "Katerina's Café",
          "Abila Zacharo",
          "Katerina's Café",
          "Kalami Kafenion",
          "Katerina's Café",
          "Katerina's Café",
          "Abila Zacharo",
          "Frydos Autosupply n' More",
          "Albert's Fine Clothing",
          "Katerina's Café",
          "Ahaggo Museum",
          "Hippokampos",
          "Ahaggo Museum",
          "Hippokampos",
          "Guy's Gyros",
          "Hippokampos",
          "Hippokampos",
          "Hippokampos",
          "Desafio Golf Course",
          "Hippokampos",
          "Ouzeri Elian",
          "Katerina's Café",
          "Guy's Gyros",
          "Hippokampos",
          "Kalami Kafenion",
          "Hippokampos",
          "Katerina's Café",
          "Albert's Fine Clothing",
          "Desafio Golf Course",
          "Hippokampos",
          "Ouzeri Elian",
          "Hippokampos",
          "Guy's Gyros",
          "Hippokampos",
          "Katerina's Café",
          "Ouzeri Elian",
          "Shoppers' Delight",
          "Shoppers' Delight",
          "Hippokampos",
          "Kronos Mart",
          "Shoppers' Delight",
          "Guy's Gyros",
          "Albert's Fine Clothing",
          "Hippokampos",
          "Ouzeri Elian",
          "Shoppers' Delight",
          "Gelatogalore",
          "Kalami Kafenion",
          "Katerina's Café",
          "Katerina's Café",
          "Katerina's Café",
          "Shoppers' Delight",
          "Ahaggo Museum",
          "Guy's Gyros",
          "Hippokampos",
          "Ouzeri Elian",
          "Abila Zacharo",
          "Desafio Golf Course",
          "Hallowed Grounds",
          "Hippokampos",
          "Ouzeri Elian",
          "Bean There Done That",
          "Gelatogalore",
          "Hippokampos",
          "Abila Zacharo",
          "Bean There Done That",
          "Abila Zacharo",
          "Albert's Fine Clothing",
          "Brewed Awakenings",
          "Jack's Magical Beans",
          "Katerina's Café",
          "Coffee Cameleon",
          "Hippokampos",
          "Abila Zacharo",
          "Brew've Been Served",
          "Shoppers' Delight",
          "Brewed Awakenings",
          "Guy's Gyros",
          "Hallowed Grounds",
          "Katerina's Café",
          "Katerina's Café",
          "Bean There Done That",
          "Ouzeri Elian",
          "Brewed Awakenings",
          "Gelatogalore",
          "Hippokampos",
          "Abila Zacharo",
          "Albert's Fine Clothing",
          "Bean There Done That",
          "Guy's Gyros",
          "Guy's Gyros",
          "Hallowed Grounds",
          "Bean There Done That",
          "Katerina's Café",
          "Katerina's Café",
          "Abila Zacharo",
          "Brew've Been Served",
          "Guy's Gyros",
          "Brew've Been Served",
          "Guy's Gyros",
          "Hippokampos",
          "Bean There Done That",
          "Hippokampos",
          "Abila Zacharo",
          "Bean There Done That",
          "Abila Zacharo",
          "Brew've Been Served",
          "Carlyle Chemical Inc.",
          "Abila Airport",
          "Kronos Pipe and Irrigation",
          "Maximum Iron and Steel",
          "Ouzeri Elian",
          "Brew've Been Served",
          "Guy's Gyros",
          "Brew've Been Served",
          "Abila Airport",
          "Abila Airport",
          "Brew've Been Served",
          "Frydos Autosupply n' More",
          "Hippokampos",
          "Nationwide Refinery",
          "Stewart and Sons Fabrication",
          "Coffee Cameleon",
          "Guy's Gyros",
          "Katerina's Café",
          "Katerina's Café",
          "Ouzeri Elian",
          "Abila Zacharo",
          "Jack's Magical Beans",
          "Hallowed Grounds",
          "Katerina's Café",
          "Hallowed Grounds",
          "Katerina's Café",
          "Coffee Cameleon",
          "Katerina's Café",
          "Katerina's Café",
          "Guy's Gyros",
          "Shoppers' Delight",
          "Gelatogalore",
          "Hippokampos",
          "Jack's Magical Beans",
          "Abila Zacharo",
          "Brew've Been Served",
          "Brew've Been Served",
          "Guy's Gyros",
          "Ouzeri Elian",
          "Brew've Been Served",
          "Guy's Gyros",
          "Hippokampos",
          "Guy's Gyros",
          "Hippokampos",
          "Jack's Magical Beans",
          "Kalami Kafenion",
          "Ouzeri Elian",
          "Bean There Done That",
          "Hippokampos",
          "Albert's Fine Clothing",
          "Bean There Done That",
          "Kalami Kafenion",
          "Brewed Awakenings",
          "Jack's Magical Beans",
          "Ouzeri Elian",
          "Coffee Cameleon",
          "Hippokampos",
          "Brew've Been Served",
          "Hippokampos",
          "Brewed Awakenings",
          "Chostus Hotel",
          "Hippokampos",
          "Hallowed Grounds",
          "Hippokampos",
          "Katerina's Café",
          "Gelatogalore",
          "Hippokampos",
          "Brewed Awakenings",
          "Hippokampos",
          "Kalami Kafenion",
          "Bean There Done That",
          "Kalami Kafenion",
          "Guy's Gyros",
          "Hallowed Grounds",
          "Ouzeri Elian",
          "Guy's Gyros",
          "Hallowed Grounds",
          "Katerina's Café",
          "Brew've Been Served",
          "Guy's Gyros",
          "Katerina's Café",
          "Brew've Been Served",
          "Gelatogalore",
          "Guy's Gyros",
          "Guy's Gyros",
          "Hallowed Grounds",
          "Katerina's Café",
          "Bean There Done That",
          "Katerina's Café",
          "Abila Zacharo",
          "Brew've Been Served",
          "Abila Airport",
          "Nationwide Refinery",
          "Stewart and Sons Fabrication",
          "Brew've Been Served",
          "Albert's Fine Clothing",
          "Brew've Been Served",
          "Ouzeri Elian",
          "Abila Airport",
          "Abila Airport",
          "Abila Zacharo",
          "Brewed Awakenings",
          "Frydos Autosupply n' More",
          "Carlyle Chemical Inc.",
          "Carlyle Chemical Inc.",
          "Carlyle Chemical Inc.",
          "Nationwide Refinery",
          "Nationwide Refinery",
          "Stewart and Sons Fabrication",
          "Coffee Cameleon",
          "Abila Zacharo",
          "Hallowed Grounds",
          "Guy's Gyros",
          "Jack's Magical Beans",
          "Kalami Kafenion",
          "Katerina's Café",
          "Abila Zacharo",
          "Brew've Been Served",
          "Roberts and Sons",
          "Coffee Cameleon",
          "Katerina's Café",
          "Katerina's Café",
          "Brew've Been Served",
          "Frydos Autosupply n' More",
          "Hippokampos",
          "Abila Scrapyard",
          "Abila Airport",
          "Nationwide Refinery",
          "Jack's Magical Beans",
          "Katerina's Café",
          "Brew've Been Served",
          "Chostus Hotel",
          "Brew've Been Served",
          "Guy's Gyros",
          "Katerina's Café",
          "Brew've Been Served",
          "Guy's Gyros",
          "Katerina's Café",
          "Gelatogalore",
          "Hippokampos",
          "Jack's Magical Beans",
          "Hallowed Grounds",
          "Ouzeri Elian",
          "Ouzeri Elian",
          "Guy's Gyros",
          "Abila Zacharo",
          "Bean There Done That",
          "Hippokampos",
          "Abila Zacharo",
          "Brewed Awakenings",
          "Hippokampos",
          "Ouzeri Elian",
          "Coffee Cameleon",
          "Katerina's Café",
          "Ouzeri Elian",
          "Brew've Been Served",
          "Gelatogalore",
          "Guy's Gyros",
          "Brewed Awakenings",
          "Frydos Autosupply n' More",
          "Hippokampos",
          "Abila Zacharo",
          "Bean There Done That",
          "Hippokampos",
          "Hippokampos",
          "Brewed Awakenings",
          "Hippokampos",
          "Shoppers' Delight",
          "Bean There Done That",
          "Hippokampos",
          "Ouzeri Elian",
          "Hallowed Grounds",
          "Kronos Mart",
          "Ouzeri Elian",
          "Kalami Kafenion",
          "Brew've Been Served",
          "Gelatogalore",
          "General Grocer",
          "Brew've Been Served",
          "Guy's Gyros",
          "Hallowed Grounds",
          "Katerina's Café",
          "Bean There Done That",
          "Hippokampos",
          "Kalami Kafenion",
          "Brew've Been Served",
          "Guy's Gyros",
          "Brew've Been Served",
          "Guy's Gyros",
          "Brew've Been Served",
          "Guy's Gyros",
          "Ouzeri Elian",
          "Abila Airport",
          "Abila Airport",
          "Brew've Been Served",
          "Guy's Gyros",
          "Hippokampos",
          "Stewart and Sons Fabrication",
          "Carlyle Chemical Inc.",
          "Carlyle Chemical Inc.",
          "Carlyle Chemical Inc.",
          "Katerina's Café",
          "Nationwide Refinery",
          "Nationwide Refinery",
          "Kronos Pipe and Irrigation",
          "Maximum Iron and Steel",
          "Coffee Cameleon",
          "Guy's Gyros",
          "Katerina's Café",
          "Katerina's Café",
          "Jack's Magical Beans",
          "Katerina's Café",
          "Ouzeri Elian",
          "Abila Zacharo",
          "Hallowed Grounds",
          "Katerina's Café",
          "Brew've Been Served",
          "Abila Zacharo",
          "Coffee Cameleon",
          "Katerina's Café",
          "Brew've Been Served",
          "Kalami Kafenion",
          "Hippokampos",
          "Jack's Magical Beans",
          "Kalami Kafenion",
          "Brew've Been Served",
          "Frydos Autosupply n' More",
          "Hippokampos",
          "Brew've Been Served",
          "General Grocer",
          "Guy's Gyros",
          "Guy's Gyros",
          "Guy's Gyros",
          "Gelatogalore",
          "General Grocer",
          "Jack's Magical Beans",
          "Guy's Gyros",
          "Hallowed Grounds",
          "Ouzeri Elian",
          "Bean There Done That",
          "Hippokampos",
          "Kronos Mart",
          "Bean There Done That",
          "Hippokampos",
          "Kalami Kafenion",
          "Hippokampos",
          "Katerina's Café",
          "Hippokampos",
          "Jack's Magical Beans",
          "Ouzeri Elian",
          "Coffee Cameleon",
          "Hippokampos",
          "Katerina's Café",
          "Brew've Been Served",
          "Ouzeri Elian",
          "Brewed Awakenings",
          "Hippokampos",
          "Guy's Gyros",
          "Hallowed Grounds",
          "Katerina's Café",
          "Bean There Done That",
          "Guy's Gyros",
          "Shoppers' Delight",
          "Brewed Awakenings",
          "Hippokampos",
          "Hippokampos",
          "Hippokampos",
          "Guy's Gyros",
          "Hallowed Grounds",
          "Frydos Autosupply n' More",
          "Gelatogalore",
          "Hallowed Grounds",
          "Albert's Fine Clothing",
          "Brew've Been Served",
          "Guy's Gyros",
          "Brew've Been Served",
          "Guy's Gyros",
          "Kalami Kafenion",
          "Hallowed Grounds",
          "Hippokampos",
          "Katerina's Café",
          "Bean There Done That",
          "Hippokampos",
          "Kalami Kafenion",
          "Brew've Been Served",
          "Guy's Gyros",
          "Guy's Gyros",
          "Abila Airport",
          "Nationwide Refinery",
          "Stewart and Sons Fabrication",
          "Brew've Been Served",
          "Shoppers' Delight",
          "Brew've Been Served",
          "Guy's Gyros",
          "Katerina's Café",
          "Abila Airport",
          "Abila Airport",
          "Brew've Been Served",
          "Gelatogalore",
          "Roberts and Sons",
          "Carlyle Chemical Inc.",
          "Carlyle Chemical Inc.",
          "Katerina's Café",
          "Nationwide Refinery",
          "Nationwide Refinery",
          "Stewart and Sons Fabrication",
          "Katerina's Café",
          "Abila Zacharo",
          "Jack's Magical Beans",
          "Ouzeri Elian",
          "Hallowed Grounds",
          "Kalami Kafenion",
          "Katerina's Café",
          "Gelatogalore",
          "Hallowed Grounds",
          "Katerina's Café",
          "Abila Zacharo",
          "Coffee Cameleon",
          "Katerina's Café",
          "Abila Zacharo",
          "Guy's Gyros",
          "Abila Scrapyard",
          "Abila Airport",
          "Jack's Magical Beans",
          "Guy's Gyros",
          "Katerina's Café",
          "Brew've Been Served",
          "Guy's Gyros",
          "Brew've Been Served",
          "Hippokampos",
          "Roberts and Sons",
          "Gelatogalore",
          "Jack's Magical Beans",
          "Hallowed Grounds",
          "Ouzeri Elian",
          "Bean There Done That",
          "Bean There Done That",
          "Gelatogalore",
          "Hippokampos",
          "Brewed Awakenings",
          "Guy's Gyros",
          "Hippokampos",
          "Jack's Magical Beans",
          "Ouzeri Elian",
          "Coffee Cameleon",
          "Kalami Kafenion",
          "Katerina's Café",
          "Brew've Been Served",
          "Guy's Gyros",
          "Guy's Gyros",
          "Brewed Awakenings",
          "Chostus Hotel",
          "Hippokampos",
          "Hallowed Grounds",
          "Katerina's Café",
          "Bean There Done That",
          "Hippokampos",
          "Abila Zacharo",
          "Brewed Awakenings",
          "Hippokampos",
          "Albert's Fine Clothing",
          "Bean There Done That",
          "Katerina's Café",
          "General Grocer",
          "Kalami Kafenion",
          "Hallowed Grounds",
          "Kalami Kafenion",
          "Brew've Been Served",
          "Gelatogalore",
          "Guy's Gyros",
          "Brew've Been Served",
          "Shoppers' Delight",
          "Hallowed Grounds",
          "Hippokampos",
          "Abila Zacharo",
          "Bean There Done That",
          "Coffee Cameleon",
          "Guy's Gyros",
          "Hippokampos",
          "Brew've Been Served",
          "Shoppers' Delight",
          "Brew've Been Served",
          "Guy's Gyros",
          "Guy's Gyros",
          "Guy's Gyros",
          "Katerina's Café",
          "Stewart and Sons Fabrication",
          "Abila Zacharo",
          "Coffee Cameleon",
          "Katerina's Café",
          "Hallowed Grounds",
          "Katerina's Café",
          "Hippokampos",
          "Jack's Magical Beans",
          "Ouzeri Elian",
          "Gelatogalore",
          "Hallowed Grounds",
          "Katerina's Café",
          "Brew've Been Served",
          "Katerina's Café",
          "Coffee Cameleon",
          "Katerina's Café",
          "Brew've Been Served",
          "Guy's Gyros",
          "Abila Zacharo",
          "Hallowed Grounds",
          "Gelatogalore",
          "Brew've Been Served",
          "Chostus Hotel",
          "Guy's Gyros",
          "Brew've Been Served",
          "Guy's Gyros",
          "Hippokampos",
          "Abila Zacharo",
          "Brew've Been Served",
          "Hippokampos",
          "Kalami Kafenion",
          "Abila Zacharo",
          "Kronos Mart",
          "Ouzeri Elian",
          "Hippokampos",
          "Frank's Fuel",
          "Kalami Kafenion",
          "Katerina's Café",
          "Ouzeri Elian",
          "Abila Zacharo",
          "Roberts and Sons",
          "Kalami Kafenion",
          "Katerina's Café",
          "Abila Zacharo",
          "Roberts and Sons",
          "Katerina's Café",
          "Frydos Autosupply n' More",
          "Hippokampos",
          "Hippokampos",
          "Kalami Kafenion",
          "Kronos Mart",
          "Kalami Kafenion",
          "Frydos Autosupply n' More",
          "Guy's Gyros",
          "Katerina's Café",
          "Katerina's Café",
          "Ahaggo Museum",
          "Guy's Gyros",
          "Guy's Gyros",
          "Roberts and Sons",
          "Albert's Fine Clothing",
          "Hippokampos",
          "Ouzeri Elian",
          "Guy's Gyros",
          "Katerina's Café",
          "Kronos Mart",
          "Katerina's Café",
          "Katerina's Café",
          "Ahaggo Museum",
          "Hippokampos",
          "General Grocer",
          "Katerina's Café",
          "Ouzeri Elian",
          "General Grocer",
          "Kalami Kafenion",
          "Chostus Hotel",
          "Katerina's Café",
          "Abila Zacharo",
          "Albert's Fine Clothing",
          "Shoppers' Delight",
          "Abila Zacharo",
          "Katerina's Café",
          "Frydos Autosupply n' More",
          "Hippokampos",
          "Kalami Kafenion",
          "Hippokampos",
          "Hippokampos",
          "Desafio Golf Course",
          "Ouzeri Elian",
          "Guy's Gyros",
          "Albert's Fine Clothing",
          "Katerina's Café",
          "Hippokampos",
          "Desafio Golf Course",
          "Hippokampos",
          "Guy's Gyros",
          "Katerina's Café",
          "Guy's Gyros",
          "Ouzeri Elian",
          "Katerina's Café",
          "Gelatogalore",
          "General Grocer",
          "Hippokampos",
          "Guy's Gyros",
          "Frydos Autosupply n' More",
          "Guy's Gyros",
          "Ouzeri Elian",
          "Guy's Gyros",
          "Katerina's Café",
          "Albert's Fine Clothing",
          "Shoppers' Delight",
          "Ahaggo Museum",
          "Guy's Gyros",
          "Frydos Autosupply n' More",
          "Katerina's Café",
          "Abila Zacharo",
          "Guy's Gyros",
          "Desafio Golf Course",
          "Guy's Gyros",
          "Desafio Golf Course",
          "Hippokampos",
          "Guy's Gyros",
          "Frydos Autosupply n' More",
          "Katerina's Café",
          "Guy's Gyros",
          "Katerina's Café",
          "Desafio Golf Course",
          "Hippokampos"
         ],
         "xaxis": "x",
         "yaxis": "y"
        }
       ],
       "layout": {
        "bargap": 0.2,
        "barmode": "relative",
        "legend": {
         "tracegroupgap": 0
        },
        "template": {
         "data": {
          "bar": [
           {
            "error_x": {
             "color": "#2a3f5f"
            },
            "error_y": {
             "color": "#2a3f5f"
            },
            "marker": {
             "line": {
              "color": "#E5ECF6",
              "width": 0.5
             },
             "pattern": {
              "fillmode": "overlay",
              "size": 10,
              "solidity": 0.2
             }
            },
            "type": "bar"
           }
          ],
          "barpolar": [
           {
            "marker": {
             "line": {
              "color": "#E5ECF6",
              "width": 0.5
             },
             "pattern": {
              "fillmode": "overlay",
              "size": 10,
              "solidity": 0.2
             }
            },
            "type": "barpolar"
           }
          ],
          "carpet": [
           {
            "aaxis": {
             "endlinecolor": "#2a3f5f",
             "gridcolor": "white",
             "linecolor": "white",
             "minorgridcolor": "white",
             "startlinecolor": "#2a3f5f"
            },
            "baxis": {
             "endlinecolor": "#2a3f5f",
             "gridcolor": "white",
             "linecolor": "white",
             "minorgridcolor": "white",
             "startlinecolor": "#2a3f5f"
            },
            "type": "carpet"
           }
          ],
          "choropleth": [
           {
            "colorbar": {
             "outlinewidth": 0,
             "ticks": ""
            },
            "type": "choropleth"
           }
          ],
          "contour": [
           {
            "colorbar": {
             "outlinewidth": 0,
             "ticks": ""
            },
            "colorscale": [
             [
              0,
              "#0d0887"
             ],
             [
              0.1111111111111111,
              "#46039f"
             ],
             [
              0.2222222222222222,
              "#7201a8"
             ],
             [
              0.3333333333333333,
              "#9c179e"
             ],
             [
              0.4444444444444444,
              "#bd3786"
             ],
             [
              0.5555555555555556,
              "#d8576b"
             ],
             [
              0.6666666666666666,
              "#ed7953"
             ],
             [
              0.7777777777777778,
              "#fb9f3a"
             ],
             [
              0.8888888888888888,
              "#fdca26"
             ],
             [
              1,
              "#f0f921"
             ]
            ],
            "type": "contour"
           }
          ],
          "contourcarpet": [
           {
            "colorbar": {
             "outlinewidth": 0,
             "ticks": ""
            },
            "type": "contourcarpet"
           }
          ],
          "heatmap": [
           {
            "colorbar": {
             "outlinewidth": 0,
             "ticks": ""
            },
            "colorscale": [
             [
              0,
              "#0d0887"
             ],
             [
              0.1111111111111111,
              "#46039f"
             ],
             [
              0.2222222222222222,
              "#7201a8"
             ],
             [
              0.3333333333333333,
              "#9c179e"
             ],
             [
              0.4444444444444444,
              "#bd3786"
             ],
             [
              0.5555555555555556,
              "#d8576b"
             ],
             [
              0.6666666666666666,
              "#ed7953"
             ],
             [
              0.7777777777777778,
              "#fb9f3a"
             ],
             [
              0.8888888888888888,
              "#fdca26"
             ],
             [
              1,
              "#f0f921"
             ]
            ],
            "type": "heatmap"
           }
          ],
          "heatmapgl": [
           {
            "colorbar": {
             "outlinewidth": 0,
             "ticks": ""
            },
            "colorscale": [
             [
              0,
              "#0d0887"
             ],
             [
              0.1111111111111111,
              "#46039f"
             ],
             [
              0.2222222222222222,
              "#7201a8"
             ],
             [
              0.3333333333333333,
              "#9c179e"
             ],
             [
              0.4444444444444444,
              "#bd3786"
             ],
             [
              0.5555555555555556,
              "#d8576b"
             ],
             [
              0.6666666666666666,
              "#ed7953"
             ],
             [
              0.7777777777777778,
              "#fb9f3a"
             ],
             [
              0.8888888888888888,
              "#fdca26"
             ],
             [
              1,
              "#f0f921"
             ]
            ],
            "type": "heatmapgl"
           }
          ],
          "histogram": [
           {
            "marker": {
             "pattern": {
              "fillmode": "overlay",
              "size": 10,
              "solidity": 0.2
             }
            },
            "type": "histogram"
           }
          ],
          "histogram2d": [
           {
            "colorbar": {
             "outlinewidth": 0,
             "ticks": ""
            },
            "colorscale": [
             [
              0,
              "#0d0887"
             ],
             [
              0.1111111111111111,
              "#46039f"
             ],
             [
              0.2222222222222222,
              "#7201a8"
             ],
             [
              0.3333333333333333,
              "#9c179e"
             ],
             [
              0.4444444444444444,
              "#bd3786"
             ],
             [
              0.5555555555555556,
              "#d8576b"
             ],
             [
              0.6666666666666666,
              "#ed7953"
             ],
             [
              0.7777777777777778,
              "#fb9f3a"
             ],
             [
              0.8888888888888888,
              "#fdca26"
             ],
             [
              1,
              "#f0f921"
             ]
            ],
            "type": "histogram2d"
           }
          ],
          "histogram2dcontour": [
           {
            "colorbar": {
             "outlinewidth": 0,
             "ticks": ""
            },
            "colorscale": [
             [
              0,
              "#0d0887"
             ],
             [
              0.1111111111111111,
              "#46039f"
             ],
             [
              0.2222222222222222,
              "#7201a8"
             ],
             [
              0.3333333333333333,
              "#9c179e"
             ],
             [
              0.4444444444444444,
              "#bd3786"
             ],
             [
              0.5555555555555556,
              "#d8576b"
             ],
             [
              0.6666666666666666,
              "#ed7953"
             ],
             [
              0.7777777777777778,
              "#fb9f3a"
             ],
             [
              0.8888888888888888,
              "#fdca26"
             ],
             [
              1,
              "#f0f921"
             ]
            ],
            "type": "histogram2dcontour"
           }
          ],
          "mesh3d": [
           {
            "colorbar": {
             "outlinewidth": 0,
             "ticks": ""
            },
            "type": "mesh3d"
           }
          ],
          "parcoords": [
           {
            "line": {
             "colorbar": {
              "outlinewidth": 0,
              "ticks": ""
             }
            },
            "type": "parcoords"
           }
          ],
          "pie": [
           {
            "automargin": true,
            "type": "pie"
           }
          ],
          "scatter": [
           {
            "fillpattern": {
             "fillmode": "overlay",
             "size": 10,
             "solidity": 0.2
            },
            "type": "scatter"
           }
          ],
          "scatter3d": [
           {
            "line": {
             "colorbar": {
              "outlinewidth": 0,
              "ticks": ""
             }
            },
            "marker": {
             "colorbar": {
              "outlinewidth": 0,
              "ticks": ""
             }
            },
            "type": "scatter3d"
           }
          ],
          "scattercarpet": [
           {
            "marker": {
             "colorbar": {
              "outlinewidth": 0,
              "ticks": ""
             }
            },
            "type": "scattercarpet"
           }
          ],
          "scattergeo": [
           {
            "marker": {
             "colorbar": {
              "outlinewidth": 0,
              "ticks": ""
             }
            },
            "type": "scattergeo"
           }
          ],
          "scattergl": [
           {
            "marker": {
             "colorbar": {
              "outlinewidth": 0,
              "ticks": ""
             }
            },
            "type": "scattergl"
           }
          ],
          "scattermapbox": [
           {
            "marker": {
             "colorbar": {
              "outlinewidth": 0,
              "ticks": ""
             }
            },
            "type": "scattermapbox"
           }
          ],
          "scatterpolar": [
           {
            "marker": {
             "colorbar": {
              "outlinewidth": 0,
              "ticks": ""
             }
            },
            "type": "scatterpolar"
           }
          ],
          "scatterpolargl": [
           {
            "marker": {
             "colorbar": {
              "outlinewidth": 0,
              "ticks": ""
             }
            },
            "type": "scatterpolargl"
           }
          ],
          "scatterternary": [
           {
            "marker": {
             "colorbar": {
              "outlinewidth": 0,
              "ticks": ""
             }
            },
            "type": "scatterternary"
           }
          ],
          "surface": [
           {
            "colorbar": {
             "outlinewidth": 0,
             "ticks": ""
            },
            "colorscale": [
             [
              0,
              "#0d0887"
             ],
             [
              0.1111111111111111,
              "#46039f"
             ],
             [
              0.2222222222222222,
              "#7201a8"
             ],
             [
              0.3333333333333333,
              "#9c179e"
             ],
             [
              0.4444444444444444,
              "#bd3786"
             ],
             [
              0.5555555555555556,
              "#d8576b"
             ],
             [
              0.6666666666666666,
              "#ed7953"
             ],
             [
              0.7777777777777778,
              "#fb9f3a"
             ],
             [
              0.8888888888888888,
              "#fdca26"
             ],
             [
              1,
              "#f0f921"
             ]
            ],
            "type": "surface"
           }
          ],
          "table": [
           {
            "cells": {
             "fill": {
              "color": "#EBF0F8"
             },
             "line": {
              "color": "white"
             }
            },
            "header": {
             "fill": {
              "color": "#C8D4E3"
             },
             "line": {
              "color": "white"
             }
            },
            "type": "table"
           }
          ]
         },
         "layout": {
          "annotationdefaults": {
           "arrowcolor": "#2a3f5f",
           "arrowhead": 0,
           "arrowwidth": 1
          },
          "autotypenumbers": "strict",
          "coloraxis": {
           "colorbar": {
            "outlinewidth": 0,
            "ticks": ""
           }
          },
          "colorscale": {
           "diverging": [
            [
             0,
             "#8e0152"
            ],
            [
             0.1,
             "#c51b7d"
            ],
            [
             0.2,
             "#de77ae"
            ],
            [
             0.3,
             "#f1b6da"
            ],
            [
             0.4,
             "#fde0ef"
            ],
            [
             0.5,
             "#f7f7f7"
            ],
            [
             0.6,
             "#e6f5d0"
            ],
            [
             0.7,
             "#b8e186"
            ],
            [
             0.8,
             "#7fbc41"
            ],
            [
             0.9,
             "#4d9221"
            ],
            [
             1,
             "#276419"
            ]
           ],
           "sequential": [
            [
             0,
             "#0d0887"
            ],
            [
             0.1111111111111111,
             "#46039f"
            ],
            [
             0.2222222222222222,
             "#7201a8"
            ],
            [
             0.3333333333333333,
             "#9c179e"
            ],
            [
             0.4444444444444444,
             "#bd3786"
            ],
            [
             0.5555555555555556,
             "#d8576b"
            ],
            [
             0.6666666666666666,
             "#ed7953"
            ],
            [
             0.7777777777777778,
             "#fb9f3a"
            ],
            [
             0.8888888888888888,
             "#fdca26"
            ],
            [
             1,
             "#f0f921"
            ]
           ],
           "sequentialminus": [
            [
             0,
             "#0d0887"
            ],
            [
             0.1111111111111111,
             "#46039f"
            ],
            [
             0.2222222222222222,
             "#7201a8"
            ],
            [
             0.3333333333333333,
             "#9c179e"
            ],
            [
             0.4444444444444444,
             "#bd3786"
            ],
            [
             0.5555555555555556,
             "#d8576b"
            ],
            [
             0.6666666666666666,
             "#ed7953"
            ],
            [
             0.7777777777777778,
             "#fb9f3a"
            ],
            [
             0.8888888888888888,
             "#fdca26"
            ],
            [
             1,
             "#f0f921"
            ]
           ]
          },
          "colorway": [
           "#636efa",
           "#EF553B",
           "#00cc96",
           "#ab63fa",
           "#FFA15A",
           "#19d3f3",
           "#FF6692",
           "#B6E880",
           "#FF97FF",
           "#FECB52"
          ],
          "font": {
           "color": "#2a3f5f"
          },
          "geo": {
           "bgcolor": "white",
           "lakecolor": "white",
           "landcolor": "#E5ECF6",
           "showlakes": true,
           "showland": true,
           "subunitcolor": "white"
          },
          "hoverlabel": {
           "align": "left"
          },
          "hovermode": "closest",
          "mapbox": {
           "style": "light"
          },
          "paper_bgcolor": "white",
          "plot_bgcolor": "#E5ECF6",
          "polar": {
           "angularaxis": {
            "gridcolor": "white",
            "linecolor": "white",
            "ticks": ""
           },
           "bgcolor": "#E5ECF6",
           "radialaxis": {
            "gridcolor": "white",
            "linecolor": "white",
            "ticks": ""
           }
          },
          "scene": {
           "xaxis": {
            "backgroundcolor": "#E5ECF6",
            "gridcolor": "white",
            "gridwidth": 2,
            "linecolor": "white",
            "showbackground": true,
            "ticks": "",
            "zerolinecolor": "white"
           },
           "yaxis": {
            "backgroundcolor": "#E5ECF6",
            "gridcolor": "white",
            "gridwidth": 2,
            "linecolor": "white",
            "showbackground": true,
            "ticks": "",
            "zerolinecolor": "white"
           },
           "zaxis": {
            "backgroundcolor": "#E5ECF6",
            "gridcolor": "white",
            "gridwidth": 2,
            "linecolor": "white",
            "showbackground": true,
            "ticks": "",
            "zerolinecolor": "white"
           }
          },
          "shapedefaults": {
           "line": {
            "color": "#2a3f5f"
           }
          },
          "ternary": {
           "aaxis": {
            "gridcolor": "white",
            "linecolor": "white",
            "ticks": ""
           },
           "baxis": {
            "gridcolor": "white",
            "linecolor": "white",
            "ticks": ""
           },
           "bgcolor": "#E5ECF6",
           "caxis": {
            "gridcolor": "white",
            "linecolor": "white",
            "ticks": ""
           }
          },
          "title": {
           "x": 0.05
          },
          "xaxis": {
           "automargin": true,
           "gridcolor": "white",
           "linecolor": "white",
           "ticks": "",
           "title": {
            "standoff": 15
           },
           "zerolinecolor": "white",
           "zerolinewidth": 2
          },
          "yaxis": {
           "automargin": true,
           "gridcolor": "white",
           "linecolor": "white",
           "ticks": "",
           "title": {
            "standoff": 15
           },
           "zerolinecolor": "white",
           "zerolinewidth": 2
          }
         }
        },
        "title": {
         "text": "Loyalty Card and Credit Card: Number of Transactions by Location"
        },
        "xaxis": {
         "anchor": "y",
         "categoryarray": [
          "Katerina's Café",
          "Hippokampos",
          "Guy's Gyros",
          "Brew've Been Served",
          "Ouzeri Elian",
          "Hallowed Grounds",
          "Abila Zacharo",
          "Kalami Kafenion",
          "Gelatogalore",
          "Bean There Done That",
          "Frydos Autosupply n' More",
          "Coffee Cameleon",
          "Jack's Magical Beans",
          "Brewed Awakenings",
          "Abila Airport",
          "Albert's Fine Clothing",
          "Nationwide Refinery",
          "Carlyle Chemical Inc.",
          "Shoppers' Delight",
          "Stewart and Sons Fabrication",
          "General Grocer",
          "Coffee Shack",
          "Kronos Mart",
          "Desafio Golf Course",
          "Chostus Hotel",
          "Ahaggo Museum",
          "Roberts and Sons",
          "Maximum Iron and Steel",
          "Kronos Pipe and Irrigation",
          "Abila Scrapyard",
          "Octavio's Office Supplies",
          "Frank's Fuel",
          "U-Pump"
         ],
         "categoryorder": "array",
         "domain": [
          0,
          1
         ],
         "title": {
          "text": "Location"
         }
        },
        "yaxis": {
         "anchor": "x",
         "domain": [
          0,
          1
         ],
         "title": {
          "text": "count"
         }
        }
       }
      }
     },
     "metadata": {},
     "output_type": "display_data"
    }
   ],
   "source": [
    "fig_histogram = px.histogram(data_lc, x='location',\n",
    "                             title='Loyalty Card and Credit Card: Number of Transactions by Location',\n",
    "                             labels={'location': 'Location'},\n",
    "                             category_orders={'location': data_lc['location'].value_counts().index.tolist()}) \n",
    "\n",
    "fig_histogram.update_layout(bargap=0.2)\n",
    "fig_histogram.show()"
   ]
  },
  {
   "cell_type": "markdown",
   "metadata": {},
   "source": [
    "# CC transactions per hour "
   ]
  },
  {
   "cell_type": "code",
   "execution_count": 10,
   "metadata": {},
   "outputs": [
    {
     "data": {
      "text/html": [
       "\n",
       "        <iframe\n",
       "            width=\"100%\"\n",
       "            height=\"650\"\n",
       "            src=\"http://127.0.0.1:8050/\"\n",
       "            frameborder=\"0\"\n",
       "            allowfullscreen\n",
       "            \n",
       "        ></iframe>\n",
       "        "
      ],
      "text/plain": [
       "<IPython.lib.display.IFrame at 0x160427f70>"
      ]
     },
     "metadata": {},
     "output_type": "display_data"
    }
   ],
   "source": [
    "import dash\n",
    "from dash import dcc, html\n",
    "from dash.dependencies import Input, Output\n",
    "import pandas as pd\n",
    "import plotly.express as px\n",
    "\n",
    "# Load data\n",
    "df = data_cc\n",
    "\n",
    "# Convert the timestamp column to datetime type and extract the hour\n",
    "df['timestamp'] = pd.to_datetime(df['timestamp'], format='%m/%d/%Y %H:%M')\n",
    "df['hour'] = df['timestamp'].dt.hour\n",
    "\n",
    "# Initialize Dash application\n",
    "app = dash.Dash(__name__)\n",
    "\n",
    "app.layout = html.Div([\n",
    "    html.H1(\"Credit Card Transactions per Hour\"),\n",
    "    html.Button('Select All Locations', id='select-all-button'),\n",
    "    dcc.Dropdown(\n",
    "        id='location-dropdown',\n",
    "        options=[{'label': loc, 'value': loc} for loc in df['location'].unique()],\n",
    "        value=[df['location'].unique()[0]], \n",
    "        multi=True\n",
    "    ),\n",
    "    dcc.Graph(id='transaction-graph')\n",
    "])\n",
    "\n",
    "@app.callback(\n",
    "    Output('location-dropdown', 'value'),\n",
    "    [Input('select-all-button', 'n_clicks')],\n",
    "    [dash.dependencies.State('location-dropdown', 'options')]\n",
    ")\n",
    "def select_all_locations(n_clicks, options):\n",
    "    if n_clicks:\n",
    "        return [option['value'] for option in options]\n",
    "    raise dash.exceptions.PreventUpdate\n",
    "\n",
    "@app.callback(\n",
    "    Output('transaction-graph', 'figure'),\n",
    "    [Input('location-dropdown', 'value')]\n",
    ")\n",
    "def update_graph(selected_locations):\n",
    "    if not selected_locations:\n",
    "        return px.bar()  \n",
    "    filtered_df = df[df['location'].isin(selected_locations)]\n",
    "    grouped = filtered_df.groupby(['location', 'hour']).size().reset_index(name='count')\n",
    "    fig = px.bar(grouped, x='hour', y='count', color='location', barmode='group', title='Number of Transactions per Hour (Credit Card)')\n",
    "    \n",
    "    fig.update_xaxes(range=[0, 24], dtick=1)  # X axis from 0-24\n",
    "    return fig\n",
    "\n",
    "if __name__ == '__main__':\n",
    "    app.run_server(debug=True, port=8050)\n"
   ]
  },
  {
   "cell_type": "code",
   "execution_count": 11,
   "metadata": {},
   "outputs": [
    {
     "data": {
      "text/html": [
       "\n",
       "        <iframe\n",
       "            width=\"100%\"\n",
       "            height=\"650\"\n",
       "            src=\"http://127.0.0.1:8049/\"\n",
       "            frameborder=\"0\"\n",
       "            allowfullscreen\n",
       "            \n",
       "        ></iframe>\n",
       "        "
      ],
      "text/plain": [
       "<IPython.lib.display.IFrame at 0x145434d90>"
      ]
     },
     "metadata": {},
     "output_type": "display_data"
    }
   ],
   "source": [
    "import dash\n",
    "from dash import dcc, html\n",
    "from dash.dependencies import Input, Output\n",
    "import pandas as pd\n",
    "import plotly.express as px\n",
    "\n",
    "# Load data\n",
    "df = pd.read_csv('../data/loyalty-cc.csv')\n",
    "\n",
    "# Convert the timestamp column to datetime type and extract the hour\n",
    "df['timestamp'] = pd.to_datetime(df['timestamp'], format='%m/%d/%Y %H:%M')\n",
    "df['hour'] = df['timestamp'].dt.date\n",
    "\n",
    "# Initialize Dash application\n",
    "app = dash.Dash(__name__)\n",
    "\n",
    "app.layout = html.Div([\n",
    "    html.H1(\"Loyalty Card Transactions per Date\"),\n",
    "    html.Button('Select All Locations', id='select-all-button'),\n",
    "    dcc.Dropdown(\n",
    "        id='location-dropdown',\n",
    "        options=[{'label': loc, 'value': loc} for loc in df['location'].unique()],\n",
    "        value=[df['location'].unique()[0]], \n",
    "        multi=True\n",
    "    ),\n",
    "    dcc.Graph(id='transaction-graph')\n",
    "])\n",
    "\n",
    "@app.callback(\n",
    "    Output('location-dropdown', 'value'),\n",
    "    [Input('select-all-button', 'n_clicks')],\n",
    "    [dash.dependencies.State('location-dropdown', 'options')]\n",
    ")\n",
    "def select_all_locations(n_clicks, options):\n",
    "    if n_clicks:\n",
    "        return [option['value'] for option in options]\n",
    "    raise dash.exceptions.PreventUpdate\n",
    "\n",
    "@app.callback(\n",
    "    Output('transaction-graph', 'figure'),\n",
    "    [Input('location-dropdown', 'value')]\n",
    ")\n",
    "def update_graph(selected_locations):\n",
    "    if not selected_locations:\n",
    "        return px.bar()  \n",
    "    filtered_df = df[df['location'].isin(selected_locations)]\n",
    "    grouped = filtered_df.groupby(['location', 'hour']).size().reset_index(name='count')\n",
    "    fig = px.bar(grouped, x='hour', y='count', color='location', barmode='group', title='Number of Transactions per Date (Loyalty Card)')\n",
    "    fig.update_layout(xaxis_title='Date')\n",
    "    # fig.update_xaxes(range=[0, 24], dtick=1)  # X axis from 0-24\n",
    "    return fig\n",
    "\n",
    "if __name__ == '__main__':\n",
    "    app.run_server(debug=True, port=8049)\n"
   ]
  },
  {
   "cell_type": "code",
   "execution_count": 20,
   "metadata": {},
   "outputs": [
    {
     "data": {
      "text/html": [
       "\n",
       "        <iframe\n",
       "            width=\"100%\"\n",
       "            height=\"650\"\n",
       "            src=\"http://127.0.0.1:8051/\"\n",
       "            frameborder=\"0\"\n",
       "            allowfullscreen\n",
       "            \n",
       "        ></iframe>\n",
       "        "
      ],
      "text/plain": [
       "<IPython.lib.display.IFrame at 0x1610f4100>"
      ]
     },
     "metadata": {},
     "output_type": "display_data"
    }
   ],
   "source": [
    "import dash\n",
    "from dash import dcc, html\n",
    "from dash.dependencies import Input, Output\n",
    "import pandas as pd\n",
    "import plotly.express as px\n",
    "from dash.exceptions import PreventUpdate\n",
    "\n",
    "# Load data\n",
    "cc_df = data_lc\n",
    "cc_df['timestamp'] = pd.to_datetime(cc_df['timestamp'], format='%m/%d/%Y %H:%M')\n",
    "cc_df['date'] = cc_df['timestamp'].dt.date  # Keep the full date\n",
    "\n",
    "loyalty_df = data_lc\n",
    "loyalty_df['timestamp'] = pd.to_datetime(loyalty_df['timestamp'], format='%m/%d/%Y')\n",
    "loyalty_df['date'] = loyalty_df['timestamp'].dt.date  # Keep the full date\n",
    "\n",
    "# Initialize Dash app\n",
    "app = dash.Dash(__name__)\n",
    "\n",
    "# Set up app layout\n",
    "app.layout = html.Div([\n",
    "    html.H1(\"Comparison between c   redit card and loyalty card\"),\n",
    "    html.Button('Select All Locations', id='select-all-button'),\n",
    "    dcc.Dropdown(\n",
    "        id='location-dropdown',\n",
    "        options=[{'label': loc, 'value': loc} for loc in pd.concat([cc_df['location'], loyalty_df['location']]).unique()],\n",
    "        multi=True\n",
    "    ),\n",
    "    dcc.RadioItems(\n",
    "        id='time-range-selector',\n",
    "        options=[\n",
    "            {'label': '', 'value': 'week'},\n",
    "            {'label': '', 'value': 'day'}\n",
    "        ],\n",
    "        value='week',\n",
    "        labelStyle={'display': 'inline-block'}\n",
    "    ),\n",
    "    dcc.DatePickerSingle(\n",
    "        id='date-picker-single',\n",
    "        min_date_allowed=cc_df['date'].min(),\n",
    "        max_date_allowed=cc_df['date'].max(),\n",
    "        initial_visible_month=cc_df['date'].min()\n",
    "    ),\n",
    "    dcc.Graph(id='transaction-graph'),\n",
    "    dcc.Store(id='selected-bar-info'),\n",
    "    html.Div(id='transaction-table')\n",
    "])\n",
    "\n",
    "# Callback to select all locations\n",
    "@app.callback(\n",
    "    Output('location-dropdown', 'value'),\n",
    "    [Input('select-all-button', 'n_clicks')],\n",
    "    [dash.dependencies.State('location-dropdown', 'options')]\n",
    ")\n",
    "def select_all_locations(n_clicks, options):\n",
    "    if n_clicks:\n",
    "        return [option['value'] for option in options]\n",
    "    raise dash.exceptions.PreventUpdate\n",
    "\n",
    "# Callback to update the graph\n",
    "@app.callback(\n",
    "    Output('transaction-graph', 'figure'),\n",
    "    [Input('location-dropdown', 'value'),\n",
    "     Input('time-range-selector', 'value'),\n",
    "     Input('date-picker-single', 'date')]\n",
    ")\n",
    "def update_graph(selected_locations, time_range, selected_date):\n",
    "    if not selected_locations:\n",
    "        raise PreventUpdate\n",
    "    \n",
    "    filtered_cc = cc_df[cc_df['location'].isin(selected_locations)]\n",
    "    filtered_loyalty = loyalty_df[loyalty_df['location'].isin(selected_locations)]\n",
    "\n",
    "    if time_range == 'day':\n",
    "        if not selected_date:\n",
    "            raise PreventUpdate\n",
    "        filtered_cc = filtered_cc[filtered_cc['date'] == pd.to_datetime(selected_date)]\n",
    "        filtered_loyalty = filtered_loyalty[filtered_loyalty['date'] == pd.to_datetime(selected_date)]\n",
    "    \n",
    "    # Count transactions per location per day\n",
    "    cc_counts = filtered_cc.groupby(['date', 'location']).size().reset_index(name='cc_count')\n",
    "    loyalty_counts = filtered_loyalty.groupby(['date', 'location']).size().reset_index(name='loyalty_count')\n",
    "\n",
    "    # Merge data\n",
    "    merged_data = pd.merge(cc_counts, loyalty_counts, on=['date', 'location'], how='outer').fillna(0)\n",
    "    \n",
    "    # Plot\n",
    "    fig = px.bar(merged_data, x='date', y=['cc_count', 'loyalty_count'], barmode='group', color_discrete_sequence=px.colors.qualitative.Pastel)\n",
    "    fig.update_traces(customdata=merged_data['location'].values)\n",
    "\n",
    "    return fig\n",
    "\n",
    "# Callback to toggle date picker visibility\n",
    "@app.callback(\n",
    "    Output('date-picker-single', 'style'),\n",
    "    [Input('time-range-selector', 'value')],\n",
    ")\n",
    "def toggle_date_picker_visibility(selector_value):\n",
    "    if selector_value == 'day':\n",
    "        return {'display': 'block'}\n",
    "    return {'display': 'none'}\n",
    "\n",
    "# Callback to store click data\n",
    "@app.callback(\n",
    "    Output('selected-bar-info', 'data'),\n",
    "    [Input('transaction-graph', 'clickData')]\n",
    ")\n",
    "def store_click_data(clickData):\n",
    "    if clickData:\n",
    "        point = clickData['points'][0]\n",
    "        date = point['x']\n",
    "        location = point['customdata']\n",
    "        return {'date': date, 'location': location}\n",
    "    raise PreventUpdate\n",
    "\n",
    "# Callback to display transactions\n",
    "@app.callback(\n",
    "    Output('transaction-table', 'children'),\n",
    "    [Input('selected-bar-info', 'data')]\n",
    ")\n",
    "def display_transactions(selected_bar_info):\n",
    "    if not selected_bar_info:\n",
    "        return \"Click one of the columns to show details.\"\n",
    "\n",
    "    date = pd.to_datetime(selected_bar_info['date']).date()\n",
    "    location = selected_bar_info['location']\n",
    "\n",
    "    cc_transactions = cc_df[(cc_df['date'] == date) & (cc_df['location'] == location)]\n",
    "    loyalty_transactions = loyalty_df[(loyalty_df['date'] == date) & (loyalty_df['location'] == location)]\n",
    "\n",
    "    cc_transactions_table = html.Table([\n",
    "        html.Thead(html.Tr([html.Th(col) for col in cc_transactions.columns])),\n",
    "        html.Tbody([\n",
    "            html.Tr([html.Td(cc_transactions.iloc[i][col]) for col in cc_transactions.columns])\n",
    "            for i in range(len(cc_transactions))\n",
    "        ])\n",
    "    ])\n",
    "\n",
    "    loyalty_transactions_table = html.Table([\n",
    "        html.Thead(html.Tr([html.Th(col) for col in loyalty_transactions.columns])),\n",
    "        html.Tbody([\n",
    "            html.Tr([html.Td(loyalty_transactions.iloc[i][col]) for col in loyalty_transactions.columns])\n",
    "            for i in range(len(loyalty_transactions))\n",
    "        ])\n",
    "    ])\n",
    "\n",
    "    return html.Div([\n",
    "        html.H3(f\"{location} - {date} credit_card transactions\"),\n",
    "        cc_transactions_table,\n",
    "        html.H3(f\"{location} - {date} loyalty_card transactions\"),\n",
    "        loyalty_transactions_table\n",
    "    ])\n",
    "\n",
    "if __name__ == '__main__':\n",
    "    app.run_server(debug=True, port=8051)\n"
   ]
  },
  {
   "cell_type": "code",
   "execution_count": null,
   "metadata": {},
   "outputs": [],
   "source": []
  }
 ],
 "metadata": {
  "kernelspec": {
   "display_name": "Python 3",
   "language": "python",
   "name": "python3"
  },
  "language_info": {
   "codemirror_mode": {
    "name": "ipython",
    "version": 3
   },
   "file_extension": ".py",
   "mimetype": "text/x-python",
   "name": "python",
   "nbconvert_exporter": "python",
   "pygments_lexer": "ipython3",
   "version": "3.9.6"
  }
 },
 "nbformat": 4,
 "nbformat_minor": 2
}
