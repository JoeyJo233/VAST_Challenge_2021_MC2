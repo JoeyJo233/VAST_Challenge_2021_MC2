{
 "cells": [
  {
   "cell_type": "code",
   "execution_count": 1,
   "metadata": {},
   "outputs": [
    {
     "data": {
      "text/plain": [
       "55"
      ]
     },
     "execution_count": 1,
     "metadata": {},
     "output_type": "execute_result"
    }
   ],
   "source": [
    "import pandas as pd\n",
    "\n",
    "cc_df = pd.read_csv('../data/cc_data.csv')\n",
    "\n",
    "unique_cc_numbers = cc_df['last4ccnum'].nunique()\n",
    "unique_cc_numbers"
   ]
  },
  {
   "cell_type": "markdown",
   "metadata": {},
   "source": [
    "# Find card owner\n",
    "## Strategy:\n",
    "1 Read data: use pandas to read CSV files.\n",
    "\n",
    "2 Time format conversion: convert time string to datetime object for subsequent comparison.\n",
    "\n",
    "3 Matching operation: nested loop traverses the two datasets, determines whether there is a credit card spending record within the time range of the parking record, and if so increases the number of matches between the credit card and the named user.\n",
    "\n",
    "4 Counting the number of matches: use a nested dictionary to record the number of matches between each credit card and different users.\n",
    "\n",
    "5 Filter owner: for each credit card, find the user with the most number of matches as the final owner.\n",
    "Output result: output the relationship between credit card and owner."
   ]
  },
  {
   "cell_type": "code",
   "execution_count": 3,
   "metadata": {},
   "outputs": [],
   "source": [
    "import pandas as pd\n",
    "from datetime import datetime\n",
    "\n",
    "\n",
    "stop_df = pd.read_csv('../data/stops.csv')\n",
    "cc_df = pd.read_csv('../data/cc_data.csv')\n",
    "\n",
    "def convert_to_datetime(df, col_name, fmt):\n",
    "    df[col_name] = pd.to_datetime(df[col_name], format=fmt)\n",
    "    return df\n",
    "\n",
    "stop_df = convert_to_datetime(stop_df, 'arrival', '%Y-%m-%d %H:%M:%S')\n",
    "stop_df = convert_to_datetime(stop_df, 'departure', '%Y-%m-%d %H:%M:%S')\n",
    "cc_df = convert_to_datetime(cc_df, 'timestamp', '%m/%d/%Y %H:%M')\n",
    "\n",
    "card_match_count = {}\n",
    "\n",
    "for i, stop_row in stop_df.iterrows():\n",
    "    for j, cc_row in cc_df.iterrows():\n",
    "        if stop_row['location'] == cc_row['location'] and stop_row['arrival'] <= cc_row['timestamp'] <= stop_row['departure']:\n",
    "            card_num = cc_row['last4ccnum']\n",
    "            owner = stop_row['Name']\n",
    "            if card_num not in card_match_count:\n",
    "                card_match_count[card_num] = {}\n",
    "            if owner not in card_match_count[card_num]:\n",
    "                card_match_count[card_num][owner] = 0\n",
    "            card_match_count[card_num][owner] += 1\n",
    "\n",
    "card_owner_relation = {}\n",
    "for card, owners in card_match_count.items():\n",
    "    max_owner = max(owners, key=owners.get)\n",
    "    card_owner_relation[card] = max_owner\n"
   ]
  },
  {
   "cell_type": "code",
   "execution_count": 4,
   "metadata": {},
   "outputs": [
    {
     "name": "stdout",
     "output_type": "stream",
     "text": [
      "Card 7108 belongs to Hideki Cocinaro\n",
      "Card 9617 belongs to Birgitta Frente\n",
      "Card 8129 belongs to Lidelse Dedos\n",
      "Card 3492 belongs to Kare Orilla\n",
      "Card 7889 belongs to Lucas Alcazar\n",
      "Card 2681 belongs to Nils Calixto\n",
      "Card 9551 belongs to Nils Calixto\n",
      "Card 1874 belongs to Lidelse Dedos\n",
      "Card 1310 belongs to Marin Onda\n",
      "Card 9241 belongs to Nils Calixto\n",
      "Card 6691 belongs to Kare Orilla\n",
      "Card 1286 belongs to Sven Flecha\n",
      "Card 6899 belongs to Isak Baza\n",
      "Card 9405 belongs to Hennie Osvaldo\n",
      "Card 7253 belongs to Linnea Bergen\n",
      "Card 3484 belongs to Varja Lagos\n",
      "Card 5010 belongs to Sten Sanjorge Jr.\n",
      "Card 6895 belongs to Vira Frente\n",
      "Card 7117 belongs to Ada Campo-Corrente\n",
      "Card 8156 belongs to Orhan Strum\n",
      "Card 7688 belongs to Ingrid Barranco\n",
      "Card 1321 belongs to Axel Calzas\n",
      "Card 1415 belongs to Lars Azada\n",
      "Card 2540 belongs to Elsa Orilla\n",
      "Card 9635 belongs to Felix Balas\n",
      "Card 8332 belongs to Ada Campo-Corrente\n",
      "Card 1877 belongs to Gustav Cazar\n",
      "Card 2463 belongs to Ingrid Barranco\n",
      "Card 9683 belongs to Brand Tempestad\n",
      "Card 7792 belongs to nan nan\n",
      "Card 7819 belongs to Inga Ferro\n",
      "Card 8411 belongs to Hennie Osvaldo\n",
      "Card 2418 belongs to Hennie Osvaldo\n",
      "Card 2142 belongs to Kanon Herrero\n",
      "Card 8202 belongs to Linnea Bergen\n",
      "Card 7354 belongs to Varja Lagos\n",
      "Card 5368 belongs to Varja Lagos\n",
      "Card 5921 belongs to Bertrand Ovan\n",
      "Card 4948 belongs to Hennie Osvaldo\n",
      "Card 7384 belongs to Adra Nubarron\n",
      "Card 4434 belongs to Minke Mies\n",
      "Card 6816 belongs to Varja Lagos\n",
      "Card 6901 belongs to Inga Ferro\n",
      "Card 3853 belongs to Varja Lagos\n",
      "Card 3547 belongs to Bertrand Ovan\n",
      "Card 5407 belongs to Hennie Osvaldo\n",
      "Card 4795 belongs to Edvard Vann\n",
      "Card 9220 belongs to nan nan\n",
      "Card 4530 belongs to nan nan\n",
      "Card 9614 belongs to nan nan\n"
     ]
    }
   ],
   "source": [
    "for card, owner in card_owner_relation.items():\n",
    "    print(f\"Card {card} belongs to {owner}\")"
   ]
  }
 ],
 "metadata": {
  "kernelspec": {
   "display_name": "Python 3",
   "language": "python",
   "name": "python3"
  },
  "language_info": {
   "codemirror_mode": {
    "name": "ipython",
    "version": 3
   },
   "file_extension": ".py",
   "mimetype": "text/x-python",
   "name": "python",
   "nbconvert_exporter": "python",
   "pygments_lexer": "ipython3",
   "version": "3.9.6"
  }
 },
 "nbformat": 4,
 "nbformat_minor": 2
}
