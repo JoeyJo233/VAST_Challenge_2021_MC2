{
 "cells": [
  {
   "cell_type": "code",
   "execution_count": 2,
   "metadata": {},
   "outputs": [
    {
     "name": "stdout",
     "output_type": "stream",
     "text": [
      "                  Timestamp  id        lat       long      LastName FirstName  \\\n",
      "0       01/06/2014 06:28:01  35  36.076225  24.874689    Vasco-Pais    Willem   \n",
      "1       01/06/2014 06:28:01  35  36.076220  24.874596    Vasco-Pais    Willem   \n",
      "2       01/06/2014 06:28:03  35  36.076211  24.874443    Vasco-Pais    Willem   \n",
      "3       01/06/2014 06:28:05  35  36.076217  24.874253    Vasco-Pais    Willem   \n",
      "4       01/06/2014 06:28:06  35  36.076214  24.874167    Vasco-Pais    Willem   \n",
      "...                     ...  ..        ...        ...           ...       ...   \n",
      "613072  01/19/2014 19:50:14  31  36.069647  24.895208  Sanjorge Jr.      Sten   \n",
      "613073  01/19/2014 19:50:16  31  36.069764  24.895248  Sanjorge Jr.      Sten   \n",
      "613074  01/19/2014 19:50:17  31  36.069952  24.895215  Sanjorge Jr.      Sten   \n",
      "613075  01/19/2014 19:50:21  31  36.070235  24.895215  Sanjorge Jr.      Sten   \n",
      "613076  01/19/2014 19:50:26  31  36.070632  24.895227  Sanjorge Jr.      Sten   \n",
      "\n",
      "       CurrentEmploymentType        CurrentEmploymentTitle  \n",
      "0                  Executive  Environmental Safety Advisor  \n",
      "1                  Executive  Environmental Safety Advisor  \n",
      "2                  Executive  Environmental Safety Advisor  \n",
      "3                  Executive  Environmental Safety Advisor  \n",
      "4                  Executive  Environmental Safety Advisor  \n",
      "...                      ...                           ...  \n",
      "613072             Executive                 President/CEO  \n",
      "613073             Executive                 President/CEO  \n",
      "613074             Executive                 President/CEO  \n",
      "613075             Executive                 President/CEO  \n",
      "613076             Executive                 President/CEO  \n",
      "\n",
      "[613077 rows x 8 columns]\n"
     ]
    }
   ],
   "source": [
    "import pandas as pd\n",
    "\n",
    "# 加载数据\n",
    "gps_data = pd.read_csv('gps.csv')\n",
    "assignments_data = pd.read_csv('car-assignments.csv')\n",
    "\n",
    "# 更改列名以便合并\n",
    "assignments_data.rename(columns={'CarID': 'id'}, inplace=True)\n",
    "\n",
    "# 合并数据\n",
    "merged_data = pd.merge(gps_data, assignments_data, on='id')\n",
    " \n",
    "# 输出合并后的数据\n",
    "print(merged_data)\n",
    "\n",
    "# 可以选择保存到新的CSV文件\n",
    "merged_data.to_csv('merged_data.csv', index=False)\n"
   ]
  }
 ],
 "metadata": {
  "kernelspec": {
   "display_name": "Python 3",
   "language": "python",
   "name": "python3"
  },
  "language_info": {
   "codemirror_mode": {
    "name": "ipython",
    "version": 3
   },
   "file_extension": ".py",
   "mimetype": "text/x-python",
   "name": "python",
   "nbconvert_exporter": "python",
   "pygments_lexer": "ipython3",
   "version": "3.11.9"
  }
 },
 "nbformat": 4,
 "nbformat_minor": 2
}
